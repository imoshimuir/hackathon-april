{
 "cells": [
  {
   "cell_type": "markdown",
   "id": "1b149e2c",
   "metadata": {
    "_cell_guid": "b1076dfc-b9ad-4769-8c92-a6c4dae69d19",
    "_kg_hide-output": true,
    "_uuid": "8f2839f25d086af736a60e9eeb907d3b93b6e0e5",
    "execution": {
     "iopub.execute_input": "2023-03-05T16:10:23.785225Z",
     "iopub.status.busy": "2023-03-05T16:10:23.783972Z",
     "iopub.status.idle": "2023-03-05T16:11:47.450363Z",
     "shell.execute_reply": "2023-03-05T16:11:47.446180Z",
     "shell.execute_reply.started": "2023-03-05T16:10:23.785162Z"
    },
    "papermill": {
     "duration": 0.008474,
     "end_time": "2023-03-20T16:28:18.990536",
     "exception": false,
     "start_time": "2023-03-20T16:28:18.982062",
     "status": "completed"
    },
    "tags": []
   },
   "source": [
    "## Transfer Learning using Kaggle Models\n",
    "\n",
    "In this notebook, I've demonstrated how to perform audio classification using a pre-trained model from [Kaggle models](https://www.kaggle.com/models), called [yamnet](https://www.kaggle.com/models/google/yamnet)."
   ]
  },
  {
   "cell_type": "markdown",
   "id": "38821963",
   "metadata": {
    "papermill": {
     "duration": 0.007089,
     "end_time": "2023-03-20T16:28:19.005526",
     "exception": false,
     "start_time": "2023-03-20T16:28:18.998437",
     "status": "completed"
    },
    "tags": []
   },
   "source": [
    "## Imports"
   ]
  },
  {
   "cell_type": "code",
   "execution_count": 1,
   "id": "56712181",
   "metadata": {
    "_kg_hide-output": true,
    "execution": {
     "iopub.execute_input": "2023-03-20T16:28:19.022729Z",
     "iopub.status.busy": "2023-03-20T16:28:19.021923Z",
     "iopub.status.idle": "2023-03-20T16:29:50.433861Z",
     "shell.execute_reply": "2023-03-20T16:29:50.432535Z"
    },
    "papermill": {
     "duration": 91.424334,
     "end_time": "2023-03-20T16:29:50.437210",
     "exception": false,
     "start_time": "2023-03-20T16:28:19.012876",
     "status": "completed"
    },
    "tags": []
   },
   "outputs": [
    {
     "name": "stdout",
     "output_type": "stream",
     "text": [
      "Defaulting to user installation because normal site-packages is not writeable\n",
      "Looking in indexes: https://pypi.org/simple, https://pypi.ngc.nvidia.com\n",
      "Requirement already satisfied: tensorflow_io==0.23.1 in /home/gridsan/clast/.local/lib/python3.9/site-packages (0.23.1)\n",
      "Requirement already satisfied: tensorflow-io-gcs-filesystem==0.23.1 in /home/gridsan/clast/.local/lib/python3.9/site-packages (from tensorflow_io==0.23.1) (0.23.1)\n",
      "Defaulting to user installation because normal site-packages is not writeable\n",
      "Looking in indexes: https://pypi.org/simple, https://pypi.ngc.nvidia.com\n",
      "Requirement already satisfied: tensorflow==2.7.1 in /home/gridsan/clast/.local/lib/python3.9/site-packages (2.7.1)\n",
      "Requirement already satisfied: libclang>=9.0.1 in /state/partition1/llgrid/pkg/anaconda/anaconda3-2023a/lib/python3.9/site-packages (from tensorflow==2.7.1) (15.0.6.1)\n",
      "Requirement already satisfied: google-pasta>=0.1.1 in /state/partition1/llgrid/pkg/anaconda/anaconda3-2023a/lib/python3.9/site-packages (from tensorflow==2.7.1) (0.2.0)\n",
      "Requirement already satisfied: numpy>=1.14.5 in /state/partition1/llgrid/pkg/anaconda/anaconda3-2023a/lib/python3.9/site-packages (from tensorflow==2.7.1) (1.24.1)\n",
      "Requirement already satisfied: flatbuffers<3.0,>=1.12 in /home/gridsan/clast/.local/lib/python3.9/site-packages (from tensorflow==2.7.1) (2.0.7)\n",
      "Requirement already satisfied: keras-preprocessing>=1.1.1 in /home/gridsan/clast/.local/lib/python3.9/site-packages (from tensorflow==2.7.1) (1.1.2)\n",
      "Requirement already satisfied: termcolor>=1.1.0 in /state/partition1/llgrid/pkg/anaconda/anaconda3-2023a/lib/python3.9/site-packages (from tensorflow==2.7.1) (2.2.0)\n",
      "Requirement already satisfied: tensorflow-io-gcs-filesystem>=0.21.0 in /home/gridsan/clast/.local/lib/python3.9/site-packages (from tensorflow==2.7.1) (0.23.1)\n",
      "Requirement already satisfied: absl-py>=0.4.0 in /state/partition1/llgrid/pkg/anaconda/anaconda3-2023a/lib/python3.9/site-packages (from tensorflow==2.7.1) (1.4.0)\n",
      "Requirement already satisfied: wheel<1.0,>=0.32.0 in /state/partition1/llgrid/pkg/anaconda/anaconda3-2023a/lib/python3.9/site-packages (from tensorflow==2.7.1) (0.38.4)\n",
      "Requirement already satisfied: protobuf>=3.9.2 in /state/partition1/llgrid/pkg/anaconda/anaconda3-2023a/lib/python3.9/site-packages (from tensorflow==2.7.1) (3.19.6)\n",
      "Requirement already satisfied: gast<0.5.0,>=0.2.1 in /state/partition1/llgrid/pkg/anaconda/anaconda3-2023a/lib/python3.9/site-packages (from tensorflow==2.7.1) (0.4.0)\n",
      "Requirement already satisfied: h5py>=2.9.0 in /state/partition1/llgrid/pkg/anaconda/anaconda3-2023a/lib/python3.9/site-packages (from tensorflow==2.7.1) (3.8.0)\n",
      "Requirement already satisfied: wrapt>=1.11.0 in /state/partition1/llgrid/pkg/anaconda/anaconda3-2023a/lib/python3.9/site-packages (from tensorflow==2.7.1) (1.14.1)\n",
      "Requirement already satisfied: tensorflow-estimator<2.8,~=2.7.0rc0 in /home/gridsan/clast/.local/lib/python3.9/site-packages (from tensorflow==2.7.1) (2.7.0)\n",
      "Requirement already satisfied: six>=1.12.0 in /state/partition1/llgrid/pkg/anaconda/anaconda3-2023a/lib/python3.9/site-packages (from tensorflow==2.7.1) (1.16.0)\n",
      "Requirement already satisfied: keras<2.8,>=2.7.0rc0 in /home/gridsan/clast/.local/lib/python3.9/site-packages (from tensorflow==2.7.1) (2.7.0)\n",
      "Requirement already satisfied: opt-einsum>=2.3.2 in /state/partition1/llgrid/pkg/anaconda/anaconda3-2023a/lib/python3.9/site-packages (from tensorflow==2.7.1) (3.3.0)\n",
      "Requirement already satisfied: astunparse>=1.6.0 in /state/partition1/llgrid/pkg/anaconda/anaconda3-2023a/lib/python3.9/site-packages (from tensorflow==2.7.1) (1.6.3)\n",
      "Requirement already satisfied: grpcio<2.0,>=1.24.3 in /state/partition1/llgrid/pkg/anaconda/anaconda3-2023a/lib/python3.9/site-packages (from tensorflow==2.7.1) (1.51.1)\n",
      "Requirement already satisfied: typing-extensions>=3.6.6 in /state/partition1/llgrid/pkg/anaconda/anaconda3-2023a/lib/python3.9/site-packages (from tensorflow==2.7.1) (4.4.0)\n",
      "Requirement already satisfied: tensorboard~=2.6 in /state/partition1/llgrid/pkg/anaconda/anaconda3-2023a/lib/python3.9/site-packages (from tensorflow==2.7.1) (2.11.2)\n",
      "Requirement already satisfied: google-auth<3,>=1.6.3 in /state/partition1/llgrid/pkg/anaconda/anaconda3-2023a/lib/python3.9/site-packages (from tensorboard~=2.6->tensorflow==2.7.1) (2.16.0)\n",
      "Requirement already satisfied: markdown>=2.6.8 in /state/partition1/llgrid/pkg/anaconda/anaconda3-2023a/lib/python3.9/site-packages (from tensorboard~=2.6->tensorflow==2.7.1) (3.4.1)\n",
      "Requirement already satisfied: requests<3,>=2.21.0 in /state/partition1/llgrid/pkg/anaconda/anaconda3-2023a/lib/python3.9/site-packages (from tensorboard~=2.6->tensorflow==2.7.1) (2.28.2)\n",
      "Requirement already satisfied: tensorboard-plugin-wit>=1.6.0 in /state/partition1/llgrid/pkg/anaconda/anaconda3-2023a/lib/python3.9/site-packages (from tensorboard~=2.6->tensorflow==2.7.1) (1.8.1)\n",
      "Requirement already satisfied: tensorboard-data-server<0.7.0,>=0.6.0 in /state/partition1/llgrid/pkg/anaconda/anaconda3-2023a/lib/python3.9/site-packages (from tensorboard~=2.6->tensorflow==2.7.1) (0.6.1)\n",
      "Requirement already satisfied: setuptools>=41.0.0 in /home/gridsan/clast/.local/lib/python3.9/site-packages (from tensorboard~=2.6->tensorflow==2.7.1) (68.0.0)\n",
      "Requirement already satisfied: google-auth-oauthlib<0.5,>=0.4.1 in /state/partition1/llgrid/pkg/anaconda/anaconda3-2023a/lib/python3.9/site-packages (from tensorboard~=2.6->tensorflow==2.7.1) (0.4.6)\n",
      "Requirement already satisfied: werkzeug>=1.0.1 in /home/gridsan/clast/.local/lib/python3.9/site-packages (from tensorboard~=2.6->tensorflow==2.7.1) (2.3.6)\n",
      "Requirement already satisfied: pyasn1-modules>=0.2.1 in /state/partition1/llgrid/pkg/anaconda/anaconda3-2023a/lib/python3.9/site-packages (from google-auth<3,>=1.6.3->tensorboard~=2.6->tensorflow==2.7.1) (0.2.8)\n",
      "Requirement already satisfied: rsa<5,>=3.1.4 in /state/partition1/llgrid/pkg/anaconda/anaconda3-2023a/lib/python3.9/site-packages (from google-auth<3,>=1.6.3->tensorboard~=2.6->tensorflow==2.7.1) (4.9)\n",
      "Requirement already satisfied: cachetools<6.0,>=2.0.0 in /state/partition1/llgrid/pkg/anaconda/anaconda3-2023a/lib/python3.9/site-packages (from google-auth<3,>=1.6.3->tensorboard~=2.6->tensorflow==2.7.1) (5.3.0)\n",
      "Requirement already satisfied: requests-oauthlib>=0.7.0 in /state/partition1/llgrid/pkg/anaconda/anaconda3-2023a/lib/python3.9/site-packages (from google-auth-oauthlib<0.5,>=0.4.1->tensorboard~=2.6->tensorflow==2.7.1) (1.3.1)\n",
      "Requirement already satisfied: importlib-metadata>=4.4 in /home/gridsan/clast/.local/lib/python3.9/site-packages (from markdown>=2.6.8->tensorboard~=2.6->tensorflow==2.7.1) (5.2.0)\n",
      "Requirement already satisfied: urllib3<1.27,>=1.21.1 in /state/partition1/llgrid/pkg/anaconda/anaconda3-2023a/lib/python3.9/site-packages (from requests<3,>=2.21.0->tensorboard~=2.6->tensorflow==2.7.1) (1.26.14)\n",
      "Requirement already satisfied: charset-normalizer<4,>=2 in /state/partition1/llgrid/pkg/anaconda/anaconda3-2023a/lib/python3.9/site-packages (from requests<3,>=2.21.0->tensorboard~=2.6->tensorflow==2.7.1) (2.1.1)\n",
      "Requirement already satisfied: certifi>=2017.4.17 in /state/partition1/llgrid/pkg/anaconda/anaconda3-2023a/lib/python3.9/site-packages (from requests<3,>=2.21.0->tensorboard~=2.6->tensorflow==2.7.1) (2022.12.7)\n",
      "Requirement already satisfied: idna<4,>=2.5 in /home/gridsan/clast/.local/lib/python3.9/site-packages (from requests<3,>=2.21.0->tensorboard~=2.6->tensorflow==2.7.1) (2.10)\n",
      "Requirement already satisfied: MarkupSafe>=2.1.1 in /state/partition1/llgrid/pkg/anaconda/anaconda3-2023a/lib/python3.9/site-packages (from werkzeug>=1.0.1->tensorboard~=2.6->tensorflow==2.7.1) (2.1.2)\n",
      "Requirement already satisfied: zipp>=0.5 in /state/partition1/llgrid/pkg/anaconda/anaconda3-2023a/lib/python3.9/site-packages (from importlib-metadata>=4.4->markdown>=2.6.8->tensorboard~=2.6->tensorflow==2.7.1) (3.12.0)\n",
      "Requirement already satisfied: pyasn1<0.5.0,>=0.4.6 in /state/partition1/llgrid/pkg/anaconda/anaconda3-2023a/lib/python3.9/site-packages (from pyasn1-modules>=0.2.1->google-auth<3,>=1.6.3->tensorboard~=2.6->tensorflow==2.7.1) (0.4.8)\n",
      "Requirement already satisfied: oauthlib>=3.0.0 in /state/partition1/llgrid/pkg/anaconda/anaconda3-2023a/lib/python3.9/site-packages (from requests-oauthlib>=0.7.0->google-auth-oauthlib<0.5,>=0.4.1->tensorboard~=2.6->tensorflow==2.7.1) (3.2.2)\n"
     ]
    }
   ],
   "source": [
    "!pip install tensorflow_io==0.23.1\n",
    "!pip install tensorflow==2.7.1"
   ]
  },
  {
   "cell_type": "code",
   "execution_count": 2,
   "id": "059906d4",
   "metadata": {},
   "outputs": [
    {
     "name": "stdout",
     "output_type": "stream",
     "text": [
      "Defaulting to user installation because normal site-packages is not writeable\n",
      "Looking in indexes: https://pypi.org/simple, https://pypi.ngc.nvidia.com\n",
      "Requirement already satisfied: soundfile in /home/gridsan/clast/.local/lib/python3.9/site-packages (0.12.1)\n",
      "Requirement already satisfied: cffi>=1.0 in /state/partition1/llgrid/pkg/anaconda/anaconda3-2023a/lib/python3.9/site-packages (from soundfile) (1.15.1)\n",
      "Requirement already satisfied: pycparser in /state/partition1/llgrid/pkg/anaconda/anaconda3-2023a/lib/python3.9/site-packages (from cffi>=1.0->soundfile) (2.21)\n"
     ]
    }
   ],
   "source": [
    "!pip install soundfile"
   ]
  },
  {
   "cell_type": "code",
   "execution_count": 38,
   "id": "1e8457b4",
   "metadata": {
    "execution": {
     "iopub.execute_input": "2023-03-20T16:29:50.482396Z",
     "iopub.status.busy": "2023-03-20T16:29:50.481903Z",
     "iopub.status.idle": "2023-03-20T16:29:55.953631Z",
     "shell.execute_reply": "2023-03-20T16:29:55.951315Z"
    },
    "papermill": {
     "duration": 5.497424,
     "end_time": "2023-03-20T16:29:55.957195",
     "exception": false,
     "start_time": "2023-03-20T16:29:50.459771",
     "status": "completed"
    },
    "tags": []
   },
   "outputs": [],
   "source": [
    "import numpy as np \n",
    "import pandas as pd \n",
    "import tensorflow as tf\n",
    "import tensorflow_hub as hub\n",
    "import tensorflow_io as tfio\n",
    "import os, random\n",
    "import shutil\n",
    "from pydub import AudioSegment\n",
    "from glob import glob #2 List the files in a directory\n",
    "from pathlib import Path\n",
    "from IPython.display import display, Audio\n",
    "import soundfile as sf"
   ]
  },
  {
   "cell_type": "markdown",
   "id": "5acb158b",
   "metadata": {
    "papermill": {
     "duration": 0.020271,
     "end_time": "2023-03-20T16:29:55.998244",
     "exception": false,
     "start_time": "2023-03-20T16:29:55.977973",
     "status": "completed"
    },
    "tags": []
   },
   "source": [
    "## Load and Pre-process the dataset\n",
    "For time and memory management, we'll be taking random sample of 15 birds, we'll also convert the audio files from ogg to wav because only wav can be used as input to the yamnet model.\n"
   ]
  },
  {
   "cell_type": "code",
   "execution_count": 39,
   "id": "ee0a9acd",
   "metadata": {
    "execution": {
     "iopub.execute_input": "2023-03-20T16:29:56.048496Z",
     "iopub.status.busy": "2023-03-20T16:29:56.047161Z",
     "iopub.status.idle": "2023-03-20T16:29:56.252447Z",
     "shell.execute_reply": "2023-03-20T16:29:56.250733Z"
    },
    "papermill": {
     "duration": 0.231058,
     "end_time": "2023-03-20T16:29:56.255754",
     "exception": false,
     "start_time": "2023-03-20T16:29:56.024696",
     "status": "completed"
    },
    "tags": []
   },
   "outputs": [
    {
     "data": {
      "text/html": [
       "<div>\n",
       "<style scoped>\n",
       "    .dataframe tbody tr th:only-of-type {\n",
       "        vertical-align: middle;\n",
       "    }\n",
       "\n",
       "    .dataframe tbody tr th {\n",
       "        vertical-align: top;\n",
       "    }\n",
       "\n",
       "    .dataframe thead th {\n",
       "        text-align: right;\n",
       "    }\n",
       "</style>\n",
       "<table border=\"1\" class=\"dataframe\">\n",
       "  <thead>\n",
       "    <tr style=\"text-align: right;\">\n",
       "      <th></th>\n",
       "      <th>primary_label</th>\n",
       "      <th>filename</th>\n",
       "      <th>filepath</th>\n",
       "    </tr>\n",
       "  </thead>\n",
       "  <tbody>\n",
       "    <tr>\n",
       "      <th>0</th>\n",
       "      <td>0</td>\n",
       "      <td>unknown/1-100032-A-00.wav</td>\n",
       "      <td>data/Binary_Drone_Audio/unknown/1-100032-A-00.wav</td>\n",
       "    </tr>\n",
       "    <tr>\n",
       "      <th>1</th>\n",
       "      <td>0</td>\n",
       "      <td>unknown/1-100032-A-01.wav</td>\n",
       "      <td>data/Binary_Drone_Audio/unknown/1-100032-A-01.wav</td>\n",
       "    </tr>\n",
       "    <tr>\n",
       "      <th>2</th>\n",
       "      <td>0</td>\n",
       "      <td>unknown/1-100032-A-02.wav</td>\n",
       "      <td>data/Binary_Drone_Audio/unknown/1-100032-A-02.wav</td>\n",
       "    </tr>\n",
       "    <tr>\n",
       "      <th>3</th>\n",
       "      <td>0</td>\n",
       "      <td>unknown/1-100032-A-03.wav</td>\n",
       "      <td>data/Binary_Drone_Audio/unknown/1-100032-A-03.wav</td>\n",
       "    </tr>\n",
       "    <tr>\n",
       "      <th>4</th>\n",
       "      <td>0</td>\n",
       "      <td>unknown/1-100032-A-04.wav</td>\n",
       "      <td>data/Binary_Drone_Audio/unknown/1-100032-A-04.wav</td>\n",
       "    </tr>\n",
       "    <tr>\n",
       "      <th>...</th>\n",
       "      <td>...</td>\n",
       "      <td>...</td>\n",
       "      <td>...</td>\n",
       "    </tr>\n",
       "    <tr>\n",
       "      <th>11699</th>\n",
       "      <td>1</td>\n",
       "      <td>yes_drone/mixed_membo_9-membo_000_.wav</td>\n",
       "      <td>data/Binary_Drone_Audio/yes_drone/mixed_membo_...</td>\n",
       "    </tr>\n",
       "    <tr>\n",
       "      <th>11700</th>\n",
       "      <td>1</td>\n",
       "      <td>yes_drone/mixed_membo_9-membo_001_.wav</td>\n",
       "      <td>data/Binary_Drone_Audio/yes_drone/mixed_membo_...</td>\n",
       "    </tr>\n",
       "    <tr>\n",
       "      <th>11701</th>\n",
       "      <td>1</td>\n",
       "      <td>yes_drone/mixed_membo_9-membo_002_.wav</td>\n",
       "      <td>data/Binary_Drone_Audio/yes_drone/mixed_membo_...</td>\n",
       "    </tr>\n",
       "    <tr>\n",
       "      <th>11702</th>\n",
       "      <td>1</td>\n",
       "      <td>yes_drone/mixed_membo_9-membo_003_.wav</td>\n",
       "      <td>data/Binary_Drone_Audio/yes_drone/mixed_membo_...</td>\n",
       "    </tr>\n",
       "    <tr>\n",
       "      <th>11703</th>\n",
       "      <td>1</td>\n",
       "      <td>yes_drone/mixed_membo_9-membo_004_.wav</td>\n",
       "      <td>data/Binary_Drone_Audio/yes_drone/mixed_membo_...</td>\n",
       "    </tr>\n",
       "  </tbody>\n",
       "</table>\n",
       "<p>11704 rows × 3 columns</p>\n",
       "</div>"
      ],
      "text/plain": [
       "       primary_label                                filename  \\\n",
       "0                  0               unknown/1-100032-A-00.wav   \n",
       "1                  0               unknown/1-100032-A-01.wav   \n",
       "2                  0               unknown/1-100032-A-02.wav   \n",
       "3                  0               unknown/1-100032-A-03.wav   \n",
       "4                  0               unknown/1-100032-A-04.wav   \n",
       "...              ...                                     ...   \n",
       "11699              1  yes_drone/mixed_membo_9-membo_000_.wav   \n",
       "11700              1  yes_drone/mixed_membo_9-membo_001_.wav   \n",
       "11701              1  yes_drone/mixed_membo_9-membo_002_.wav   \n",
       "11702              1  yes_drone/mixed_membo_9-membo_003_.wav   \n",
       "11703              1  yes_drone/mixed_membo_9-membo_004_.wav   \n",
       "\n",
       "                                                filepath  \n",
       "0      data/Binary_Drone_Audio/unknown/1-100032-A-00.wav  \n",
       "1      data/Binary_Drone_Audio/unknown/1-100032-A-01.wav  \n",
       "2      data/Binary_Drone_Audio/unknown/1-100032-A-02.wav  \n",
       "3      data/Binary_Drone_Audio/unknown/1-100032-A-03.wav  \n",
       "4      data/Binary_Drone_Audio/unknown/1-100032-A-04.wav  \n",
       "...                                                  ...  \n",
       "11699  data/Binary_Drone_Audio/yes_drone/mixed_membo_...  \n",
       "11700  data/Binary_Drone_Audio/yes_drone/mixed_membo_...  \n",
       "11701  data/Binary_Drone_Audio/yes_drone/mixed_membo_...  \n",
       "11702  data/Binary_Drone_Audio/yes_drone/mixed_membo_...  \n",
       "11703  data/Binary_Drone_Audio/yes_drone/mixed_membo_...  \n",
       "\n",
       "[11704 rows x 3 columns]"
      ]
     },
     "execution_count": 39,
     "metadata": {},
     "output_type": "execute_result"
    }
   ],
   "source": [
    "ROOT = \"/home/gridsan/clast/hackathon-april\"\n",
    "train_metadata = pd.read_csv(os.path.join(ROOT, 'metadata.csv'))[['primary_label', 'filename']]\n",
    "train_metadata['filepath'] = 'data/Binary_Drone_Audio/' + train_metadata['filename']\n",
    "train_metadata"
   ]
  },
  {
   "cell_type": "code",
   "execution_count": 40,
   "id": "63bafd99",
   "metadata": {
    "execution": {
     "iopub.execute_input": "2023-03-20T16:29:56.300046Z",
     "iopub.status.busy": "2023-03-20T16:29:56.299579Z",
     "iopub.status.idle": "2023-03-20T16:29:56.310858Z",
     "shell.execute_reply": "2023-03-20T16:29:56.309006Z"
    },
    "papermill": {
     "duration": 0.036558,
     "end_time": "2023-03-20T16:29:56.313665",
     "exception": false,
     "start_time": "2023-03-20T16:29:56.277107",
     "status": "completed"
    },
    "tags": []
   },
   "outputs": [
    {
     "name": "stdout",
     "output_type": "stream",
     "text": [
      "{0, 1}\n"
     ]
    }
   ],
   "source": [
    "#Random sample of 15 birds\n",
    "classes = set(random.sample(train_metadata['primary_label'].unique().tolist(), 2)) \n",
    "print(classes)"
   ]
  },
  {
   "cell_type": "code",
   "execution_count": 41,
   "id": "bd8e8204",
   "metadata": {
    "execution": {
     "iopub.execute_input": "2023-03-20T16:29:56.356162Z",
     "iopub.status.busy": "2023-03-20T16:29:56.355025Z",
     "iopub.status.idle": "2023-03-20T16:29:56.378957Z",
     "shell.execute_reply": "2023-03-20T16:29:56.377791Z"
    },
    "papermill": {
     "duration": 0.047891,
     "end_time": "2023-03-20T16:29:56.381658",
     "exception": false,
     "start_time": "2023-03-20T16:29:56.333767",
     "status": "completed"
    },
    "tags": []
   },
   "outputs": [
    {
     "data": {
      "text/html": [
       "<div>\n",
       "<style scoped>\n",
       "    .dataframe tbody tr th:only-of-type {\n",
       "        vertical-align: middle;\n",
       "    }\n",
       "\n",
       "    .dataframe tbody tr th {\n",
       "        vertical-align: top;\n",
       "    }\n",
       "\n",
       "    .dataframe thead th {\n",
       "        text-align: right;\n",
       "    }\n",
       "</style>\n",
       "<table border=\"1\" class=\"dataframe\">\n",
       "  <thead>\n",
       "    <tr style=\"text-align: right;\">\n",
       "      <th></th>\n",
       "      <th>primary_label</th>\n",
       "      <th>filename</th>\n",
       "      <th>filepath</th>\n",
       "      <th>label</th>\n",
       "    </tr>\n",
       "  </thead>\n",
       "  <tbody>\n",
       "    <tr>\n",
       "      <th>0</th>\n",
       "      <td>0</td>\n",
       "      <td>unknown/1-100032-A-00.wav</td>\n",
       "      <td>data/Binary_Drone_Audio/unknown/1-100032-A-00.wav</td>\n",
       "      <td>0</td>\n",
       "    </tr>\n",
       "    <tr>\n",
       "      <th>1</th>\n",
       "      <td>0</td>\n",
       "      <td>unknown/1-100032-A-01.wav</td>\n",
       "      <td>data/Binary_Drone_Audio/unknown/1-100032-A-01.wav</td>\n",
       "      <td>0</td>\n",
       "    </tr>\n",
       "    <tr>\n",
       "      <th>2</th>\n",
       "      <td>0</td>\n",
       "      <td>unknown/1-100032-A-02.wav</td>\n",
       "      <td>data/Binary_Drone_Audio/unknown/1-100032-A-02.wav</td>\n",
       "      <td>0</td>\n",
       "    </tr>\n",
       "    <tr>\n",
       "      <th>3</th>\n",
       "      <td>0</td>\n",
       "      <td>unknown/1-100032-A-03.wav</td>\n",
       "      <td>data/Binary_Drone_Audio/unknown/1-100032-A-03.wav</td>\n",
       "      <td>0</td>\n",
       "    </tr>\n",
       "    <tr>\n",
       "      <th>4</th>\n",
       "      <td>0</td>\n",
       "      <td>unknown/1-100032-A-04.wav</td>\n",
       "      <td>data/Binary_Drone_Audio/unknown/1-100032-A-04.wav</td>\n",
       "      <td>0</td>\n",
       "    </tr>\n",
       "  </tbody>\n",
       "</table>\n",
       "</div>"
      ],
      "text/plain": [
       "   primary_label                   filename  \\\n",
       "0              0  unknown/1-100032-A-00.wav   \n",
       "1              0  unknown/1-100032-A-01.wav   \n",
       "2              0  unknown/1-100032-A-02.wav   \n",
       "3              0  unknown/1-100032-A-03.wav   \n",
       "4              0  unknown/1-100032-A-04.wav   \n",
       "\n",
       "                                            filepath  label  \n",
       "0  data/Binary_Drone_Audio/unknown/1-100032-A-00.wav      0  \n",
       "1  data/Binary_Drone_Audio/unknown/1-100032-A-01.wav      0  \n",
       "2  data/Binary_Drone_Audio/unknown/1-100032-A-02.wav      0  \n",
       "3  data/Binary_Drone_Audio/unknown/1-100032-A-03.wav      0  \n",
       "4  data/Binary_Drone_Audio/unknown/1-100032-A-04.wav      0  "
      ]
     },
     "execution_count": 41,
     "metadata": {},
     "output_type": "execute_result"
    }
   ],
   "source": [
    "train_metadata = train_metadata[train_metadata.primary_label.apply(lambda x: x in classes)].reset_index(drop=True)\n",
    "keys = set(train_metadata.primary_label)\n",
    "values = np.arange(0, len(keys))\n",
    "code_dict = dict(zip(sorted(keys), values))\n",
    "train_metadata['label'] = train_metadata['primary_label'].apply(lambda x: code_dict[x])\n",
    "train_metadata.head()"
   ]
  },
  {
   "cell_type": "code",
   "execution_count": 42,
   "id": "f8204970",
   "metadata": {
    "_kg_hide-output": true,
    "execution": {
     "iopub.execute_input": "2023-03-20T16:29:56.424374Z",
     "iopub.status.busy": "2023-03-20T16:29:56.423916Z",
     "iopub.status.idle": "2023-03-20T16:29:56.443656Z",
     "shell.execute_reply": "2023-03-20T16:29:56.442280Z"
    },
    "papermill": {
     "duration": 0.044174,
     "end_time": "2023-03-20T16:29:56.446249",
     "exception": false,
     "start_time": "2023-03-20T16:29:56.402075",
     "status": "completed"
    },
    "tags": []
   },
   "outputs": [
    {
     "data": {
      "text/html": [
       "<div>\n",
       "<style scoped>\n",
       "    .dataframe tbody tr th:only-of-type {\n",
       "        vertical-align: middle;\n",
       "    }\n",
       "\n",
       "    .dataframe tbody tr th {\n",
       "        vertical-align: top;\n",
       "    }\n",
       "\n",
       "    .dataframe thead th {\n",
       "        text-align: right;\n",
       "    }\n",
       "</style>\n",
       "<table border=\"1\" class=\"dataframe\">\n",
       "  <thead>\n",
       "    <tr style=\"text-align: right;\">\n",
       "      <th></th>\n",
       "      <th>primary_label</th>\n",
       "      <th>label</th>\n",
       "    </tr>\n",
       "  </thead>\n",
       "  <tbody>\n",
       "    <tr>\n",
       "      <th>0</th>\n",
       "      <td>0</td>\n",
       "      <td>0</td>\n",
       "    </tr>\n",
       "    <tr>\n",
       "      <th>1</th>\n",
       "      <td>1</td>\n",
       "      <td>1</td>\n",
       "    </tr>\n",
       "  </tbody>\n",
       "</table>\n",
       "</div>"
      ],
      "text/plain": [
       "   primary_label  label\n",
       "0              0      0\n",
       "1              1      1"
      ]
     },
     "execution_count": 42,
     "metadata": {},
     "output_type": "execute_result"
    }
   ],
   "source": [
    "classes_df = pd.DataFrame()\n",
    "classes_df = train_metadata.filter(['primary_label','label'],axis=1)\n",
    "classes_df = classes_df.drop_duplicates()\n",
    "classes_df.reset_index(drop=True, inplace=True)\n",
    "classes_df"
   ]
  },
  {
   "cell_type": "code",
   "execution_count": 43,
   "id": "3a255b8f",
   "metadata": {
    "_kg_hide-output": true,
    "execution": {
     "iopub.execute_input": "2023-03-20T16:29:56.492234Z",
     "iopub.status.busy": "2023-03-20T16:29:56.491631Z",
     "iopub.status.idle": "2023-03-20T16:29:56.512741Z",
     "shell.execute_reply": "2023-03-20T16:29:56.510912Z"
    },
    "papermill": {
     "duration": 0.048099,
     "end_time": "2023-03-20T16:29:56.516739",
     "exception": false,
     "start_time": "2023-03-20T16:29:56.468640",
     "status": "completed"
    },
    "tags": []
   },
   "outputs": [
    {
     "name": "stdout",
     "output_type": "stream",
     "text": [
      "       primary_label                    filename  \\\n",
      "0                  0   unknown/1-100032-A-00.wav   \n",
      "1                  0   unknown/1-100032-A-01.wav   \n",
      "2                  0   unknown/1-100032-A-02.wav   \n",
      "3                  0   unknown/1-100032-A-03.wav   \n",
      "4                  0   unknown/1-100032-A-04.wav   \n",
      "...              ...                         ...   \n",
      "10367              0  unknown/white_noise007.wav   \n",
      "10368              0  unknown/white_noise008.wav   \n",
      "10369              0  unknown/white_noise009.wav   \n",
      "10370              0  unknown/white_noise010.wav   \n",
      "10371              0  unknown/white_noise011.wav   \n",
      "\n",
      "                                                filepath  label  \n",
      "0      data/Binary_Drone_Audio/unknown/1-100032-A-00.wav      0  \n",
      "1      data/Binary_Drone_Audio/unknown/1-100032-A-01.wav      0  \n",
      "2      data/Binary_Drone_Audio/unknown/1-100032-A-02.wav      0  \n",
      "3      data/Binary_Drone_Audio/unknown/1-100032-A-03.wav      0  \n",
      "4      data/Binary_Drone_Audio/unknown/1-100032-A-04.wav      0  \n",
      "...                                                  ...    ...  \n",
      "10367  data/Binary_Drone_Audio/unknown/white_noise007...      0  \n",
      "10368  data/Binary_Drone_Audio/unknown/white_noise008...      0  \n",
      "10369  data/Binary_Drone_Audio/unknown/white_noise009...      0  \n",
      "10370  data/Binary_Drone_Audio/unknown/white_noise010...      0  \n",
      "10371  data/Binary_Drone_Audio/unknown/white_noise011...      0  \n",
      "\n",
      "[10372 rows x 4 columns]\n"
     ]
    }
   ],
   "source": [
    "train_list = []\n",
    "\n",
    "for x in classes_df['label']:\n",
    "    train_sng_temp = train_metadata[train_metadata['label'] == x]\n",
    "    train_list.append(train_sng_temp)\n",
    "print(train_list[0])"
   ]
  },
  {
   "cell_type": "code",
   "execution_count": 44,
   "id": "e014bb8c",
   "metadata": {
    "execution": {
     "iopub.execute_input": "2023-03-20T16:29:56.563890Z",
     "iopub.status.busy": "2023-03-20T16:29:56.563462Z",
     "iopub.status.idle": "2023-03-20T16:29:56.571464Z",
     "shell.execute_reply": "2023-03-20T16:29:56.570083Z"
    },
    "papermill": {
     "duration": 0.033267,
     "end_time": "2023-03-20T16:29:56.574233",
     "exception": false,
     "start_time": "2023-03-20T16:29:56.540966",
     "status": "completed"
    },
    "tags": []
   },
   "outputs": [],
   "source": [
    "DATASET_ROOT = os.path.join(\"\")\n",
    "DATASET_AUDIO_PATH = os.path.join('./Data_Train/')"
   ]
  },
  {
   "cell_type": "code",
   "execution_count": null,
   "id": "a1e5ca18",
   "metadata": {
    "execution": {
     "iopub.execute_input": "2023-03-20T16:29:56.617742Z",
     "iopub.status.busy": "2023-03-20T16:29:56.617348Z",
     "iopub.status.idle": "2023-03-20T16:29:58.949371Z",
     "shell.execute_reply": "2023-03-20T16:29:58.947918Z"
    },
    "papermill": {
     "duration": 2.357619,
     "end_time": "2023-03-20T16:29:58.952525",
     "exception": false,
     "start_time": "2023-03-20T16:29:56.594906",
     "status": "completed"
    },
    "tags": []
   },
   "outputs": [],
   "source": [
    "for x in range(classes_df[classes_df.columns[1]].count()): \n",
    "    if os.path.exists(DATASET_AUDIO_PATH + \"/\" + classes_df['primary_label'][x]) is False:\n",
    "        os.makedirs(DATASET_AUDIO_PATH + \"/\" + classes_df['primary_label'][x])\n",
    "    for z in range(train_metadata.pivot_table(index = ['primary_label'], aggfunc ='size').min()):\n",
    "        data, samplerate = sf.read(\"/kaggle/input/birdclef-2023/train_audio/\" + str(train_list[x].iat[z,1])) \n",
    "        sf.write(DATASET_AUDIO_PATH +    str(train_list[x].iat[z,1])[:-4] + \".wav\",data, samplerate, subtype='PCM_16')"
   ]
  },
  {
   "cell_type": "code",
   "execution_count": 47,
   "id": "89e12dfe",
   "metadata": {
    "execution": {
     "iopub.execute_input": "2023-03-20T16:29:58.997912Z",
     "iopub.status.busy": "2023-03-20T16:29:58.997487Z",
     "iopub.status.idle": "2023-03-20T16:29:59.010655Z",
     "shell.execute_reply": "2023-03-20T16:29:59.009077Z"
    },
    "papermill": {
     "duration": 0.03846,
     "end_time": "2023-03-20T16:29:59.013748",
     "exception": false,
     "start_time": "2023-03-20T16:29:58.975288",
     "status": "completed"
    },
    "tags": []
   },
   "outputs": [
    {
     "data": {
      "text/html": [
       "<div>\n",
       "<style scoped>\n",
       "    .dataframe tbody tr th:only-of-type {\n",
       "        vertical-align: middle;\n",
       "    }\n",
       "\n",
       "    .dataframe tbody tr th {\n",
       "        vertical-align: top;\n",
       "    }\n",
       "\n",
       "    .dataframe thead th {\n",
       "        text-align: right;\n",
       "    }\n",
       "</style>\n",
       "<table border=\"1\" class=\"dataframe\">\n",
       "  <thead>\n",
       "    <tr style=\"text-align: right;\">\n",
       "      <th></th>\n",
       "      <th>primary_label</th>\n",
       "      <th>filename</th>\n",
       "      <th>filepath</th>\n",
       "      <th>label</th>\n",
       "    </tr>\n",
       "  </thead>\n",
       "  <tbody>\n",
       "    <tr>\n",
       "      <th>0</th>\n",
       "      <td>0</td>\n",
       "      <td>unknown/1-100032-A-00.wav</td>\n",
       "      <td>data/Binary_Drone_Audio/unknown/1-100032-A-00.wav</td>\n",
       "      <td>0</td>\n",
       "    </tr>\n",
       "    <tr>\n",
       "      <th>1</th>\n",
       "      <td>0</td>\n",
       "      <td>unknown/1-100032-A-01.wav</td>\n",
       "      <td>data/Binary_Drone_Audio/unknown/1-100032-A-01.wav</td>\n",
       "      <td>0</td>\n",
       "    </tr>\n",
       "    <tr>\n",
       "      <th>2</th>\n",
       "      <td>0</td>\n",
       "      <td>unknown/1-100032-A-02.wav</td>\n",
       "      <td>data/Binary_Drone_Audio/unknown/1-100032-A-02.wav</td>\n",
       "      <td>0</td>\n",
       "    </tr>\n",
       "    <tr>\n",
       "      <th>3</th>\n",
       "      <td>0</td>\n",
       "      <td>unknown/1-100032-A-03.wav</td>\n",
       "      <td>data/Binary_Drone_Audio/unknown/1-100032-A-03.wav</td>\n",
       "      <td>0</td>\n",
       "    </tr>\n",
       "    <tr>\n",
       "      <th>4</th>\n",
       "      <td>0</td>\n",
       "      <td>unknown/1-100032-A-04.wav</td>\n",
       "      <td>data/Binary_Drone_Audio/unknown/1-100032-A-04.wav</td>\n",
       "      <td>0</td>\n",
       "    </tr>\n",
       "  </tbody>\n",
       "</table>\n",
       "</div>"
      ],
      "text/plain": [
       "   primary_label                   filename  \\\n",
       "0              0  unknown/1-100032-A-00.wav   \n",
       "1              0  unknown/1-100032-A-01.wav   \n",
       "2              0  unknown/1-100032-A-02.wav   \n",
       "3              0  unknown/1-100032-A-03.wav   \n",
       "4              0  unknown/1-100032-A-04.wav   \n",
       "\n",
       "                                            filepath  label  \n",
       "0  data/Binary_Drone_Audio/unknown/1-100032-A-00.wav      0  \n",
       "1  data/Binary_Drone_Audio/unknown/1-100032-A-01.wav      0  \n",
       "2  data/Binary_Drone_Audio/unknown/1-100032-A-02.wav      0  \n",
       "3  data/Binary_Drone_Audio/unknown/1-100032-A-03.wav      0  \n",
       "4  data/Binary_Drone_Audio/unknown/1-100032-A-04.wav      0  "
      ]
     },
     "execution_count": 47,
     "metadata": {},
     "output_type": "execute_result"
    }
   ],
   "source": [
    "train_metadata.head()"
   ]
  },
  {
   "cell_type": "code",
   "execution_count": 12,
   "id": "6206cc98",
   "metadata": {
    "execution": {
     "iopub.execute_input": "2023-03-20T16:29:59.057592Z",
     "iopub.status.busy": "2023-03-20T16:29:59.057179Z",
     "iopub.status.idle": "2023-03-20T16:29:59.257648Z",
     "shell.execute_reply": "2023-03-20T16:29:59.255823Z"
    },
    "papermill": {
     "duration": 0.225961,
     "end_time": "2023-03-20T16:29:59.260934",
     "exception": false,
     "start_time": "2023-03-20T16:29:59.034973",
     "status": "completed"
    },
    "tags": []
   },
   "outputs": [
    {
     "data": {
      "text/html": [
       "<div>\n",
       "<style scoped>\n",
       "    .dataframe tbody tr th:only-of-type {\n",
       "        vertical-align: middle;\n",
       "    }\n",
       "\n",
       "    .dataframe tbody tr th {\n",
       "        vertical-align: top;\n",
       "    }\n",
       "\n",
       "    .dataframe thead th {\n",
       "        text-align: right;\n",
       "    }\n",
       "</style>\n",
       "<table border=\"1\" class=\"dataframe\">\n",
       "  <thead>\n",
       "    <tr style=\"text-align: right;\">\n",
       "      <th></th>\n",
       "      <th>primary_label</th>\n",
       "      <th>filename</th>\n",
       "      <th>filepath</th>\n",
       "      <th>label</th>\n",
       "      <th>new_filepath</th>\n",
       "    </tr>\n",
       "  </thead>\n",
       "  <tbody>\n",
       "    <tr>\n",
       "      <th>0</th>\n",
       "      <td>0</td>\n",
       "      <td>unknown/1-100032-A-00.wav</td>\n",
       "      <td>data/Binary_Drone_Audio/unknown/1-100032-A-00.wav</td>\n",
       "      <td>0</td>\n",
       "      <td>./Data_Train/unknown/1-100032-A-00.wav</td>\n",
       "    </tr>\n",
       "    <tr>\n",
       "      <th>1</th>\n",
       "      <td>0</td>\n",
       "      <td>unknown/1-100032-A-01.wav</td>\n",
       "      <td>data/Binary_Drone_Audio/unknown/1-100032-A-01.wav</td>\n",
       "      <td>0</td>\n",
       "      <td>./Data_Train/unknown/1-100032-A-00.wav</td>\n",
       "    </tr>\n",
       "    <tr>\n",
       "      <th>2</th>\n",
       "      <td>0</td>\n",
       "      <td>unknown/1-100032-A-02.wav</td>\n",
       "      <td>data/Binary_Drone_Audio/unknown/1-100032-A-02.wav</td>\n",
       "      <td>0</td>\n",
       "      <td>./Data_Train/unknown/1-100032-A-00.wav</td>\n",
       "    </tr>\n",
       "    <tr>\n",
       "      <th>3</th>\n",
       "      <td>0</td>\n",
       "      <td>unknown/1-100032-A-03.wav</td>\n",
       "      <td>data/Binary_Drone_Audio/unknown/1-100032-A-03.wav</td>\n",
       "      <td>0</td>\n",
       "      <td>./Data_Train/unknown/1-100032-A-00.wav</td>\n",
       "    </tr>\n",
       "    <tr>\n",
       "      <th>4</th>\n",
       "      <td>0</td>\n",
       "      <td>unknown/1-100032-A-04.wav</td>\n",
       "      <td>data/Binary_Drone_Audio/unknown/1-100032-A-04.wav</td>\n",
       "      <td>0</td>\n",
       "      <td>./Data_Train/unknown/1-100032-A-00.wav</td>\n",
       "    </tr>\n",
       "  </tbody>\n",
       "</table>\n",
       "</div>"
      ],
      "text/plain": [
       "   primary_label                   filename  \\\n",
       "0              0  unknown/1-100032-A-00.wav   \n",
       "1              0  unknown/1-100032-A-01.wav   \n",
       "2              0  unknown/1-100032-A-02.wav   \n",
       "3              0  unknown/1-100032-A-03.wav   \n",
       "4              0  unknown/1-100032-A-04.wav   \n",
       "\n",
       "                                            filepath  label  \\\n",
       "0  data/Binary_Drone_Audio/unknown/1-100032-A-00.wav      0   \n",
       "1  data/Binary_Drone_Audio/unknown/1-100032-A-01.wav      0   \n",
       "2  data/Binary_Drone_Audio/unknown/1-100032-A-02.wav      0   \n",
       "3  data/Binary_Drone_Audio/unknown/1-100032-A-03.wav      0   \n",
       "4  data/Binary_Drone_Audio/unknown/1-100032-A-04.wav      0   \n",
       "\n",
       "                             new_filepath  \n",
       "0  ./Data_Train/unknown/1-100032-A-00.wav  \n",
       "1  ./Data_Train/unknown/1-100032-A-00.wav  \n",
       "2  ./Data_Train/unknown/1-100032-A-00.wav  \n",
       "3  ./Data_Train/unknown/1-100032-A-00.wav  \n",
       "4  ./Data_Train/unknown/1-100032-A-00.wav  "
      ]
     },
     "execution_count": 12,
     "metadata": {},
     "output_type": "execute_result"
    }
   ],
   "source": [
    "for x in train_metadata.index:\n",
    "    train_metadata['new_filepath'] = DATASET_AUDIO_PATH + str(train_metadata['filename'][0])[:-4] + \".wav\"\n",
    "train_metadata.head()"
   ]
  },
  {
   "cell_type": "code",
   "execution_count": 48,
   "id": "420b0413",
   "metadata": {
    "execution": {
     "iopub.execute_input": "2023-03-20T16:29:59.307027Z",
     "iopub.status.busy": "2023-03-20T16:29:59.306558Z",
     "iopub.status.idle": "2023-03-20T16:29:59.333340Z",
     "shell.execute_reply": "2023-03-20T16:29:59.332038Z"
    },
    "papermill": {
     "duration": 0.051973,
     "end_time": "2023-03-20T16:29:59.335863",
     "exception": false,
     "start_time": "2023-03-20T16:29:59.283890",
     "status": "completed"
    },
    "tags": []
   },
   "outputs": [
    {
     "data": {
      "text/plain": [
       "(TensorSpec(shape=(), dtype=tf.string, name=None),\n",
       " TensorSpec(shape=(), dtype=tf.int64, name=None))"
      ]
     },
     "execution_count": 48,
     "metadata": {},
     "output_type": "execute_result"
    }
   ],
   "source": [
    "filenames = train_metadata['filepath']\n",
    "targets = train_metadata['label']\n",
    "\n",
    "main_ds = tf.data.Dataset.from_tensor_slices((filenames, targets))\n",
    "main_ds.element_spec"
   ]
  },
  {
   "cell_type": "code",
   "execution_count": 49,
   "id": "b0ddb3fc",
   "metadata": {},
   "outputs": [
    {
     "data": {
      "text/plain": [
       "(0        data/Binary_Drone_Audio/unknown/1-100032-A-00.wav\n",
       " 1        data/Binary_Drone_Audio/unknown/1-100032-A-01.wav\n",
       " 2        data/Binary_Drone_Audio/unknown/1-100032-A-02.wav\n",
       " 3        data/Binary_Drone_Audio/unknown/1-100032-A-03.wav\n",
       " 4        data/Binary_Drone_Audio/unknown/1-100032-A-04.wav\n",
       "                                ...                        \n",
       " 11699    data/Binary_Drone_Audio/yes_drone/mixed_membo_...\n",
       " 11700    data/Binary_Drone_Audio/yes_drone/mixed_membo_...\n",
       " 11701    data/Binary_Drone_Audio/yes_drone/mixed_membo_...\n",
       " 11702    data/Binary_Drone_Audio/yes_drone/mixed_membo_...\n",
       " 11703    data/Binary_Drone_Audio/yes_drone/mixed_membo_...\n",
       " Name: filepath, Length: 11704, dtype: object,\n",
       " 0        0\n",
       " 1        0\n",
       " 2        0\n",
       " 3        0\n",
       " 4        0\n",
       "         ..\n",
       " 11699    1\n",
       " 11700    1\n",
       " 11701    1\n",
       " 11702    1\n",
       " 11703    1\n",
       " Name: label, Length: 11704, dtype: int64)"
      ]
     },
     "execution_count": 49,
     "metadata": {},
     "output_type": "execute_result"
    }
   ],
   "source": [
    "filenames, targets"
   ]
  },
  {
   "cell_type": "markdown",
   "id": "e820a9e1",
   "metadata": {
    "papermill": {
     "duration": 0.021005,
     "end_time": "2023-03-20T16:29:59.378979",
     "exception": false,
     "start_time": "2023-03-20T16:29:59.357974",
     "status": "completed"
    },
    "tags": []
   },
   "source": [
    "## Utility functions for loading audio files"
   ]
  },
  {
   "cell_type": "code",
   "execution_count": 50,
   "id": "6c6021db",
   "metadata": {
    "execution": {
     "iopub.execute_input": "2023-03-20T16:29:59.423211Z",
     "iopub.status.busy": "2023-03-20T16:29:59.422727Z",
     "iopub.status.idle": "2023-03-20T16:29:59.431442Z",
     "shell.execute_reply": "2023-03-20T16:29:59.429969Z"
    },
    "papermill": {
     "duration": 0.033994,
     "end_time": "2023-03-20T16:29:59.434179",
     "exception": false,
     "start_time": "2023-03-20T16:29:59.400185",
     "status": "completed"
    },
    "tags": []
   },
   "outputs": [],
   "source": [
    "@tf.function\n",
    "def load_wav_16k_mono(filename):\n",
    "    \"\"\" Load a WAV file, convert it to a float tensor, resample to 16 kHz single-channel audio. \"\"\"\n",
    "    file_contents = tf.io.read_file(filename)\n",
    "    wav, sample_rate = tf.audio.decode_wav(\n",
    "          file_contents,\n",
    "          desired_channels=1)\n",
    "    wav = tf.squeeze(wav, axis=-1)\n",
    "    sample_rate = tf.cast(sample_rate, dtype=tf.int64)\n",
    "    wav = tfio.audio.resample(wav, rate_in=sample_rate, rate_out=16000)\n",
    "    return wav"
   ]
  },
  {
   "cell_type": "code",
   "execution_count": 51,
   "id": "28a145b6",
   "metadata": {
    "execution": {
     "iopub.execute_input": "2023-03-20T16:29:59.479023Z",
     "iopub.status.busy": "2023-03-20T16:29:59.478570Z",
     "iopub.status.idle": "2023-03-20T16:29:59.484395Z",
     "shell.execute_reply": "2023-03-20T16:29:59.482949Z"
    },
    "papermill": {
     "duration": 0.03183,
     "end_time": "2023-03-20T16:29:59.487177",
     "exception": false,
     "start_time": "2023-03-20T16:29:59.455347",
     "status": "completed"
    },
    "tags": []
   },
   "outputs": [],
   "source": [
    "def load_wav_for_map(filename, label):\n",
    "    return load_wav_16k_mono(filename), label"
   ]
  },
  {
   "cell_type": "code",
   "execution_count": 52,
   "id": "2261b8fa",
   "metadata": {},
   "outputs": [
    {
     "data": {
      "text/plain": [
       "<TensorSliceDataset shapes: ((), ()), types: (tf.string, tf.int64)>"
      ]
     },
     "execution_count": 52,
     "metadata": {},
     "output_type": "execute_result"
    }
   ],
   "source": [
    "main_ds"
   ]
  },
  {
   "cell_type": "code",
   "execution_count": null,
   "id": "0adef6b0",
   "metadata": {
    "execution": {
     "iopub.execute_input": "2023-03-20T16:29:59.531863Z",
     "iopub.status.busy": "2023-03-20T16:29:59.530537Z",
     "iopub.status.idle": "2023-03-20T16:30:00.222036Z",
     "shell.execute_reply": "2023-03-20T16:30:00.220531Z"
    },
    "papermill": {
     "duration": 0.716819,
     "end_time": "2023-03-20T16:30:00.224941",
     "exception": false,
     "start_time": "2023-03-20T16:29:59.508122",
     "status": "completed"
    },
    "tags": []
   },
   "outputs": [],
   "source": [
    "main_ds = main_ds.map(load_wav_for_map)"
   ]
  },
  {
   "cell_type": "code",
   "execution_count": 55,
   "id": "5f8e514f",
   "metadata": {},
   "outputs": [
    {
     "data": {
      "text/plain": [
       "(TensorSpec(shape=<unknown>, dtype=tf.float32, name=None),\n",
       " TensorSpec(shape=(), dtype=tf.int64, name=None))"
      ]
     },
     "execution_count": 55,
     "metadata": {},
     "output_type": "execute_result"
    }
   ],
   "source": [
    "main_ds.element_spec"
   ]
  },
  {
   "cell_type": "markdown",
   "id": "21c26a5d",
   "metadata": {
    "papermill": {
     "duration": 0.021069,
     "end_time": "2023-03-20T16:30:00.268475",
     "exception": false,
     "start_time": "2023-03-20T16:30:00.247406",
     "status": "completed"
    },
    "tags": []
   },
   "source": [
    "## Loading the Model"
   ]
  },
  {
   "cell_type": "code",
   "execution_count": 17,
   "id": "2453ccc1",
   "metadata": {
    "execution": {
     "iopub.execute_input": "2023-03-20T16:30:00.313445Z",
     "iopub.status.busy": "2023-03-20T16:30:00.312971Z",
     "iopub.status.idle": "2023-03-20T16:30:05.801777Z",
     "shell.execute_reply": "2023-03-20T16:30:05.800554Z"
    },
    "papermill": {
     "duration": 5.514932,
     "end_time": "2023-03-20T16:30:05.804853",
     "exception": false,
     "start_time": "2023-03-20T16:30:00.289921",
     "status": "completed"
    },
    "tags": []
   },
   "outputs": [],
   "source": [
    "yamnet_model_handle = 'https://kaggle.com/models/google/yamnet/frameworks/TensorFlow2/variations/yamnet/versions/1'\n",
    "yamnet_model = hub.load(yamnet_model_handle)"
   ]
  },
  {
   "cell_type": "code",
   "execution_count": 18,
   "id": "8386ee91",
   "metadata": {
    "execution": {
     "iopub.execute_input": "2023-03-20T16:30:05.851830Z",
     "iopub.status.busy": "2023-03-20T16:30:05.851393Z",
     "iopub.status.idle": "2023-03-20T16:30:06.128430Z",
     "shell.execute_reply": "2023-03-20T16:30:06.126635Z"
    },
    "papermill": {
     "duration": 0.30468,
     "end_time": "2023-03-20T16:30:06.131829",
     "exception": false,
     "start_time": "2023-03-20T16:30:05.827149",
     "status": "completed"
    },
    "tags": []
   },
   "outputs": [
    {
     "data": {
      "text/plain": [
       "(TensorSpec(shape=(1024,), dtype=tf.float32, name=None),\n",
       " TensorSpec(shape=(), dtype=tf.int64, name=None))"
      ]
     },
     "execution_count": 18,
     "metadata": {},
     "output_type": "execute_result"
    }
   ],
   "source": [
    "# applies the embedding extraction model to a wav data\n",
    "def extract_embedding(wav_data, label):\n",
    "  ''' run YAMNet to extract embedding from the wav data '''\n",
    "  scores, embeddings, spectrogram = yamnet_model(wav_data)\n",
    "  num_embeddings = tf.shape(embeddings)[0]\n",
    "  return (embeddings,\n",
    "            tf.repeat(label, num_embeddings))\n",
    "\n",
    "# extract embedding\n",
    "main_ds = main_ds.map(extract_embedding).unbatch()\n",
    "main_ds.element_spec"
   ]
  },
  {
   "cell_type": "code",
   "execution_count": 19,
   "id": "14711ed5",
   "metadata": {
    "execution": {
     "iopub.execute_input": "2023-03-20T16:30:06.179596Z",
     "iopub.status.busy": "2023-03-20T16:30:06.179141Z",
     "iopub.status.idle": "2023-03-20T16:30:06.186032Z",
     "shell.execute_reply": "2023-03-20T16:30:06.184639Z"
    },
    "papermill": {
     "duration": 0.03392,
     "end_time": "2023-03-20T16:30:06.189018",
     "exception": false,
     "start_time": "2023-03-20T16:30:06.155098",
     "status": "completed"
    },
    "tags": []
   },
   "outputs": [],
   "source": [
    "cached_ds = main_ds.cache()"
   ]
  },
  {
   "cell_type": "code",
   "execution_count": 65,
   "id": "2873fee6",
   "metadata": {
    "execution": {
     "iopub.execute_input": "2023-03-20T16:30:06.234399Z",
     "iopub.status.busy": "2023-03-20T16:30:06.233935Z",
     "iopub.status.idle": "2023-03-20T16:30:06.243725Z",
     "shell.execute_reply": "2023-03-20T16:30:06.242421Z"
    },
    "papermill": {
     "duration": 0.036052,
     "end_time": "2023-03-20T16:30:06.246906",
     "exception": false,
     "start_time": "2023-03-20T16:30:06.210854",
     "status": "completed"
    },
    "tags": []
   },
   "outputs": [],
   "source": [
    "train_ds = cached_ds.cache().shuffle(1000).batch(32).repeat().prefetch(tf.data.AUTOTUNE)\n"
   ]
  },
  {
   "cell_type": "code",
   "execution_count": 66,
   "id": "f5f8de19",
   "metadata": {
    "execution": {
     "iopub.execute_input": "2023-03-20T16:30:06.292549Z",
     "iopub.status.busy": "2023-03-20T16:30:06.292100Z",
     "iopub.status.idle": "2023-03-20T16:30:06.300934Z",
     "shell.execute_reply": "2023-03-20T16:30:06.299527Z"
    },
    "papermill": {
     "duration": 0.034794,
     "end_time": "2023-03-20T16:30:06.303578",
     "exception": false,
     "start_time": "2023-03-20T16:30:06.268784",
     "status": "completed"
    },
    "tags": []
   },
   "outputs": [
    {
     "data": {
      "text/plain": [
       "<PrefetchDataset shapes: ((None, 1024), (None,)), types: (tf.float32, tf.int64)>"
      ]
     },
     "execution_count": 66,
     "metadata": {},
     "output_type": "execute_result"
    }
   ],
   "source": [
    "train_ds"
   ]
  },
  {
   "cell_type": "code",
   "execution_count": 67,
   "id": "530c3e82",
   "metadata": {
    "execution": {
     "iopub.execute_input": "2023-03-20T16:30:06.350075Z",
     "iopub.status.busy": "2023-03-20T16:30:06.349609Z",
     "iopub.status.idle": "2023-03-20T16:30:06.402510Z",
     "shell.execute_reply": "2023-03-20T16:30:06.400758Z"
    },
    "papermill": {
     "duration": 0.079332,
     "end_time": "2023-03-20T16:30:06.405846",
     "exception": false,
     "start_time": "2023-03-20T16:30:06.326514",
     "status": "completed"
    },
    "tags": []
   },
   "outputs": [
    {
     "name": "stdout",
     "output_type": "stream",
     "text": [
      "Model: \"my_model\"\n",
      "_________________________________________________________________\n",
      " Layer (type)                Output Shape              Param #   \n",
      "=================================================================\n",
      " dense_4 (Dense)             (None, 512)               524800    \n",
      "                                                                 \n",
      " dense_5 (Dense)             (None, 2)                 1026      \n",
      "                                                                 \n",
      "=================================================================\n",
      "Total params: 525,826\n",
      "Trainable params: 525,826\n",
      "Non-trainable params: 0\n",
      "_________________________________________________________________\n"
     ]
    }
   ],
   "source": [
    "my_model = tf.keras.Sequential([\n",
    "    tf.keras.layers.Input(shape=(1024), dtype=tf.float32,\n",
    "                          name='input_embedding'),\n",
    "    tf.keras.layers.Dense(512, activation='relu'),\n",
    "    tf.keras.layers.Dense(len(classes))\n",
    "], name='my_model')\n",
    "\n",
    "my_model.summary()"
   ]
  },
  {
   "cell_type": "code",
   "execution_count": 68,
   "id": "210ab465",
   "metadata": {
    "execution": {
     "iopub.execute_input": "2023-03-20T16:30:06.454050Z",
     "iopub.status.busy": "2023-03-20T16:30:06.452785Z",
     "iopub.status.idle": "2023-03-20T16:30:06.473250Z",
     "shell.execute_reply": "2023-03-20T16:30:06.471670Z"
    },
    "papermill": {
     "duration": 0.048122,
     "end_time": "2023-03-20T16:30:06.476339",
     "exception": false,
     "start_time": "2023-03-20T16:30:06.428217",
     "status": "completed"
    },
    "tags": []
   },
   "outputs": [],
   "source": [
    "my_model.compile(loss=tf.keras.losses.SparseCategoricalCrossentropy(from_logits=True),\n",
    "                 optimizer=\"adam\",\n",
    "                 metrics=['accuracy'])\n",
    "\n",
    "callback = tf.keras.callbacks.EarlyStopping(monitor='loss',\n",
    "                                            patience=3,\n",
    "                                            restore_best_weights=True)"
   ]
  },
  {
   "cell_type": "code",
   "execution_count": 69,
   "id": "d2ee3c51",
   "metadata": {
    "execution": {
     "iopub.execute_input": "2023-03-20T16:30:06.523928Z",
     "iopub.status.busy": "2023-03-20T16:30:06.523381Z",
     "iopub.status.idle": "2023-03-20T16:30:06.529752Z",
     "shell.execute_reply": "2023-03-20T16:30:06.528057Z"
    },
    "papermill": {
     "duration": 0.034262,
     "end_time": "2023-03-20T16:30:06.532977",
     "exception": false,
     "start_time": "2023-03-20T16:30:06.498715",
     "status": "completed"
    },
    "tags": []
   },
   "outputs": [],
   "source": [
    "STEPS_PER_EPOCH = train_metadata.shape[0] // 32"
   ]
  },
  {
   "cell_type": "code",
   "execution_count": 70,
   "id": "ca316fd6",
   "metadata": {},
   "outputs": [
    {
     "data": {
      "text/plain": [
       "11704"
      ]
     },
     "execution_count": 70,
     "metadata": {},
     "output_type": "execute_result"
    }
   ],
   "source": [
    "train_metadata.shape[0]"
   ]
  },
  {
   "cell_type": "markdown",
   "id": "6472d2c8",
   "metadata": {
    "papermill": {
     "duration": 0.020814,
     "end_time": "2023-03-20T16:30:06.575634",
     "exception": false,
     "start_time": "2023-03-20T16:30:06.554820",
     "status": "completed"
    },
    "tags": []
   },
   "source": [
    "## Training the Model"
   ]
  },
  {
   "cell_type": "code",
   "execution_count": 71,
   "id": "3555b7bb",
   "metadata": {},
   "outputs": [
    {
     "data": {
      "text/plain": [
       "365"
      ]
     },
     "execution_count": 71,
     "metadata": {},
     "output_type": "execute_result"
    }
   ],
   "source": [
    "STEPS_PER_EPOCH"
   ]
  },
  {
   "cell_type": "code",
   "execution_count": 72,
   "id": "6cfc2759",
   "metadata": {},
   "outputs": [
    {
     "data": {
      "text/plain": [
       "<PrefetchDataset shapes: ((None, 1024), (None,)), types: (tf.float32, tf.int64)>"
      ]
     },
     "execution_count": 72,
     "metadata": {},
     "output_type": "execute_result"
    }
   ],
   "source": [
    "train_ds"
   ]
  },
  {
   "cell_type": "code",
   "execution_count": 73,
   "id": "0466e949",
   "metadata": {
    "execution": {
     "iopub.execute_input": "2023-03-20T16:30:06.620408Z",
     "iopub.status.busy": "2023-03-20T16:30:06.619953Z",
     "iopub.status.idle": "2023-03-20T16:31:46.474397Z",
     "shell.execute_reply": "2023-03-20T16:31:46.472901Z"
    },
    "papermill": {
     "duration": 99.880415,
     "end_time": "2023-03-20T16:31:46.477422",
     "exception": false,
     "start_time": "2023-03-20T16:30:06.597007",
     "status": "completed"
    },
    "tags": []
   },
   "outputs": [
    {
     "name": "stdout",
     "output_type": "stream",
     "text": [
      "Epoch 1/10\n",
      "365/365 [==============================] - 3s 6ms/step - loss: 0.0044 - accuracy: 0.9978\n",
      "Epoch 2/10\n",
      "365/365 [==============================] - 3s 7ms/step - loss: 0.0968 - accuracy: 0.9822\n",
      "Epoch 3/10\n",
      "365/365 [==============================] - 2s 6ms/step - loss: 4.2283e-05 - accuracy: 1.0000\n",
      "Epoch 4/10\n",
      "365/365 [==============================] - 2s 6ms/step - loss: 0.0725 - accuracy: 0.9795\n",
      "Epoch 5/10\n",
      "365/365 [==============================] - 2s 6ms/step - loss: 4.7336e-06 - accuracy: 1.0000\n",
      "Epoch 6/10\n",
      "365/365 [==============================] - 2s 6ms/step - loss: 0.0543 - accuracy: 0.9837\n",
      "Epoch 7/10\n",
      "365/365 [==============================] - 2s 6ms/step - loss: 1.6789e-05 - accuracy: 1.0000\n",
      "Epoch 8/10\n",
      "365/365 [==============================] - 2s 6ms/step - loss: 0.0501 - accuracy: 0.9854\n",
      "Epoch 9/10\n",
      "365/365 [==============================] - 2s 6ms/step - loss: 0.0075 - accuracy: 0.9980\n",
      "Epoch 10/10\n",
      "365/365 [==============================] - 2s 6ms/step - loss: 0.0400 - accuracy: 0.9873\n"
     ]
    }
   ],
   "source": [
    "history = my_model.fit(train_ds,\n",
    "                       steps_per_epoch = STEPS_PER_EPOCH,\n",
    "                       epochs=10)"
   ]
  },
  {
   "cell_type": "code",
   "execution_count": 93,
   "id": "0ae2e5b0",
   "metadata": {},
   "outputs": [],
   "source": [
    "# List of file paths\n",
    "test_audio_files = ['data/test_data/B_S2_D1_067-bebop_000_.wav', 'data/test_data/B_S2_D1_067-bebop_001_.wav', ]\n",
    "\n",
    "# Create a TensorFlow dataset from the file paths\n",
    "test_ds = tf.data.Dataset.from_tensor_slices(test_audio_files)\n",
    "\n",
    "# Apply the function to load and preprocess the audio\n",
    "test_ds = test_ds.map(load_wav_16k_mono)"
   ]
  },
  {
   "cell_type": "code",
   "execution_count": 94,
   "id": "f894f088",
   "metadata": {},
   "outputs": [
    {
     "data": {
      "text/plain": [
       "<MapDataset shapes: <unknown>, types: tf.float32>"
      ]
     },
     "execution_count": 94,
     "metadata": {},
     "output_type": "execute_result"
    }
   ],
   "source": [
    "test_ds"
   ]
  },
  {
   "cell_type": "code",
   "execution_count": 95,
   "id": "18e79042",
   "metadata": {},
   "outputs": [],
   "source": [
    "# Modified extract_embedding function for prediction (no labels needed)\n",
    "def extract_embedding_for_prediction(wav_data):\n",
    "    scores, embeddings, spectrogram = yamnet_model(wav_data)\n",
    "    return embeddings\n",
    "\n",
    "# Apply the function to extract embeddings\n",
    "test_ds = test_ds.map(extract_embedding_for_prediction).unbatch()\n"
   ]
  },
  {
   "cell_type": "code",
   "execution_count": 96,
   "id": "896070d5",
   "metadata": {},
   "outputs": [
    {
     "data": {
      "text/plain": [
       "<_UnbatchDataset shapes: (1024,), types: tf.float32>"
      ]
     },
     "execution_count": 96,
     "metadata": {},
     "output_type": "execute_result"
    }
   ],
   "source": [
    "test_ds"
   ]
  },
  {
   "cell_type": "code",
   "execution_count": 97,
   "id": "6aedd6d7",
   "metadata": {},
   "outputs": [],
   "source": [
    "# Batch the dataset\n",
    "batch_size = 32  # You can adjust the batch size according to your system's capability\n",
    "test_ds = test_ds.batch(batch_size)\n"
   ]
  },
  {
   "cell_type": "code",
   "execution_count": 98,
   "id": "67093ebf",
   "metadata": {},
   "outputs": [
    {
     "data": {
      "text/plain": [
       "<BatchDataset shapes: (None, 1024), types: tf.float32>"
      ]
     },
     "execution_count": 98,
     "metadata": {},
     "output_type": "execute_result"
    }
   ],
   "source": [
    "test_ds"
   ]
  },
  {
   "cell_type": "code",
   "execution_count": 91,
   "id": "fcb191f6",
   "metadata": {},
   "outputs": [],
   "source": [
    "# Make predictions\n",
    "predictions = my_model.predict(test_ds)\n"
   ]
  },
  {
   "cell_type": "code",
   "execution_count": 99,
   "id": "17fe4bec",
   "metadata": {},
   "outputs": [
    {
     "data": {
      "text/plain": [
       "array([ 2.2014909, -3.7162595], dtype=float32)"
      ]
     },
     "execution_count": 99,
     "metadata": {},
     "output_type": "execute_result"
    }
   ],
   "source": [
    "predictions[0]"
   ]
  },
  {
   "cell_type": "markdown",
   "id": "5be73c77",
   "metadata": {
    "papermill": {
     "duration": 0.047224,
     "end_time": "2023-03-20T16:31:46.571736",
     "exception": false,
     "start_time": "2023-03-20T16:31:46.524512",
     "status": "completed"
    },
    "tags": []
   },
   "source": [
    "## Conclusion\n",
    "\n",
    "Here in this notebook, I've illustrated how [Kaggle models](https://www.kaggle.com/models) can be used to perform audio classification using a pre-trained model, called [yamnet](https://www.kaggle.com/models/google/yamnet), with an accuracy of more than 95%.\n",
    "\n",
    "Now, it's your turn to create some amazing transfer learning notebooks using [Kaggle Models](https://www.kaggle.com/models)\n",
    "\n",
    "## Useful resources which helped \n",
    "* https://www.kaggle.com/models/google/yamnet\n",
    "* https://colab.research.google.com/github/tensorflow/docs/blob/master/site/en/tutorials/audio/transfer_learning_audio.ipynb\n",
    "* https://www.kaggle.com/code/asisheriberto/convert-ogg-to-wav-and-predict/notebook"
   ]
  }
 ],
 "metadata": {
  "kernelspec": {
   "display_name": "firstEnv",
   "language": "python",
   "name": "firstenv"
  },
  "language_info": {
   "codemirror_mode": {
    "name": "ipython",
    "version": 3
   },
   "file_extension": ".py",
   "mimetype": "text/x-python",
   "name": "python",
   "nbconvert_exporter": "python",
   "pygments_lexer": "ipython3",
   "version": "3.9.15"
  },
  "papermill": {
   "default_parameters": {},
   "duration": 223.611383,
   "end_time": "2023-03-20T16:31:49.923245",
   "environment_variables": {},
   "exception": null,
   "input_path": "__notebook__.ipynb",
   "output_path": "__notebook__.ipynb",
   "parameters": {},
   "start_time": "2023-03-20T16:28:06.311862",
   "version": "2.4.0"
  }
 },
 "nbformat": 4,
 "nbformat_minor": 5
}
