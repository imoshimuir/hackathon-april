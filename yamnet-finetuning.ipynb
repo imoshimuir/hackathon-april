{
 "cells": [
  {
   "cell_type": "markdown",
   "id": "1b149e2c",
   "metadata": {
    "_cell_guid": "b1076dfc-b9ad-4769-8c92-a6c4dae69d19",
    "_kg_hide-output": true,
    "_uuid": "8f2839f25d086af736a60e9eeb907d3b93b6e0e5",
    "execution": {
     "iopub.execute_input": "2023-03-05T16:10:23.785225Z",
     "iopub.status.busy": "2023-03-05T16:10:23.783972Z",
     "iopub.status.idle": "2023-03-05T16:11:47.450363Z",
     "shell.execute_reply": "2023-03-05T16:11:47.446180Z",
     "shell.execute_reply.started": "2023-03-05T16:10:23.785162Z"
    },
    "papermill": {
     "duration": 0.008474,
     "end_time": "2023-03-20T16:28:18.990536",
     "exception": false,
     "start_time": "2023-03-20T16:28:18.982062",
     "status": "completed"
    },
    "tags": []
   },
   "source": [
    "## Transfer Learning using Kaggle Models\n",
    "\n",
    "In this notebook, I've demonstrated how to perform audio classification using a pre-trained model from [Kaggle models](https://www.kaggle.com/models), called [yamnet](https://www.kaggle.com/models/google/yamnet)."
   ]
  },
  {
   "cell_type": "markdown",
   "id": "38821963",
   "metadata": {
    "papermill": {
     "duration": 0.007089,
     "end_time": "2023-03-20T16:28:19.005526",
     "exception": false,
     "start_time": "2023-03-20T16:28:18.998437",
     "status": "completed"
    },
    "tags": []
   },
   "source": [
    "## Imports"
   ]
  },
  {
   "cell_type": "code",
   "execution_count": 46,
   "id": "56712181",
   "metadata": {
    "_kg_hide-output": true,
    "execution": {
     "iopub.execute_input": "2023-03-20T16:28:19.022729Z",
     "iopub.status.busy": "2023-03-20T16:28:19.021923Z",
     "iopub.status.idle": "2023-03-20T16:29:50.433861Z",
     "shell.execute_reply": "2023-03-20T16:29:50.432535Z"
    },
    "papermill": {
     "duration": 91.424334,
     "end_time": "2023-03-20T16:29:50.437210",
     "exception": false,
     "start_time": "2023-03-20T16:28:19.012876",
     "status": "completed"
    },
    "tags": []
   },
   "outputs": [
    {
     "name": "stdout",
     "output_type": "stream",
     "text": [
      "Defaulting to user installation because normal site-packages is not writeable\n",
      "Looking in indexes: https://pypi.org/simple, https://pypi.ngc.nvidia.com\n",
      "Requirement already satisfied: tensorflow_io==0.23.1 in /home/gridsan/clast/.local/lib/python3.9/site-packages (0.23.1)\n",
      "Requirement already satisfied: tensorflow-io-gcs-filesystem==0.23.1 in /home/gridsan/clast/.local/lib/python3.9/site-packages (from tensorflow_io==0.23.1) (0.23.1)\n",
      "Defaulting to user installation because normal site-packages is not writeable\n",
      "Looking in indexes: https://pypi.org/simple, https://pypi.ngc.nvidia.com\n",
      "Requirement already satisfied: tensorflow==2.7.1 in /home/gridsan/clast/.local/lib/python3.9/site-packages (2.7.1)\n",
      "Requirement already satisfied: wrapt>=1.11.0 in /state/partition1/llgrid/pkg/anaconda/anaconda3-2023a/lib/python3.9/site-packages (from tensorflow==2.7.1) (1.14.1)\n",
      "Requirement already satisfied: absl-py>=0.4.0 in /state/partition1/llgrid/pkg/anaconda/anaconda3-2023a/lib/python3.9/site-packages (from tensorflow==2.7.1) (1.4.0)\n",
      "Requirement already satisfied: libclang>=9.0.1 in /state/partition1/llgrid/pkg/anaconda/anaconda3-2023a/lib/python3.9/site-packages (from tensorflow==2.7.1) (15.0.6.1)\n",
      "Requirement already satisfied: flatbuffers<3.0,>=1.12 in /home/gridsan/clast/.local/lib/python3.9/site-packages (from tensorflow==2.7.1) (2.0.7)\n",
      "Requirement already satisfied: termcolor>=1.1.0 in /state/partition1/llgrid/pkg/anaconda/anaconda3-2023a/lib/python3.9/site-packages (from tensorflow==2.7.1) (2.2.0)\n",
      "Requirement already satisfied: grpcio<2.0,>=1.24.3 in /state/partition1/llgrid/pkg/anaconda/anaconda3-2023a/lib/python3.9/site-packages (from tensorflow==2.7.1) (1.51.1)\n",
      "Requirement already satisfied: keras<2.8,>=2.7.0rc0 in /home/gridsan/clast/.local/lib/python3.9/site-packages (from tensorflow==2.7.1) (2.7.0)\n",
      "Requirement already satisfied: google-pasta>=0.1.1 in /state/partition1/llgrid/pkg/anaconda/anaconda3-2023a/lib/python3.9/site-packages (from tensorflow==2.7.1) (0.2.0)\n",
      "Requirement already satisfied: typing-extensions>=3.6.6 in /state/partition1/llgrid/pkg/anaconda/anaconda3-2023a/lib/python3.9/site-packages (from tensorflow==2.7.1) (4.4.0)\n",
      "Requirement already satisfied: tensorflow-io-gcs-filesystem>=0.21.0 in /home/gridsan/clast/.local/lib/python3.9/site-packages (from tensorflow==2.7.1) (0.23.1)\n",
      "Requirement already satisfied: tensorboard~=2.6 in /state/partition1/llgrid/pkg/anaconda/anaconda3-2023a/lib/python3.9/site-packages (from tensorflow==2.7.1) (2.11.2)\n",
      "Requirement already satisfied: protobuf>=3.9.2 in /state/partition1/llgrid/pkg/anaconda/anaconda3-2023a/lib/python3.9/site-packages (from tensorflow==2.7.1) (3.19.6)\n",
      "Requirement already satisfied: wheel<1.0,>=0.32.0 in /state/partition1/llgrid/pkg/anaconda/anaconda3-2023a/lib/python3.9/site-packages (from tensorflow==2.7.1) (0.38.4)\n",
      "Requirement already satisfied: h5py>=2.9.0 in /state/partition1/llgrid/pkg/anaconda/anaconda3-2023a/lib/python3.9/site-packages (from tensorflow==2.7.1) (3.8.0)\n",
      "Requirement already satisfied: tensorflow-estimator<2.8,~=2.7.0rc0 in /home/gridsan/clast/.local/lib/python3.9/site-packages (from tensorflow==2.7.1) (2.7.0)\n",
      "Requirement already satisfied: opt-einsum>=2.3.2 in /state/partition1/llgrid/pkg/anaconda/anaconda3-2023a/lib/python3.9/site-packages (from tensorflow==2.7.1) (3.3.0)\n",
      "Requirement already satisfied: numpy>=1.14.5 in /state/partition1/llgrid/pkg/anaconda/anaconda3-2023a/lib/python3.9/site-packages (from tensorflow==2.7.1) (1.24.1)\n",
      "Requirement already satisfied: keras-preprocessing>=1.1.1 in /home/gridsan/clast/.local/lib/python3.9/site-packages (from tensorflow==2.7.1) (1.1.2)\n",
      "Requirement already satisfied: gast<0.5.0,>=0.2.1 in /state/partition1/llgrid/pkg/anaconda/anaconda3-2023a/lib/python3.9/site-packages (from tensorflow==2.7.1) (0.4.0)\n",
      "Requirement already satisfied: six>=1.12.0 in /state/partition1/llgrid/pkg/anaconda/anaconda3-2023a/lib/python3.9/site-packages (from tensorflow==2.7.1) (1.16.0)\n",
      "Requirement already satisfied: astunparse>=1.6.0 in /state/partition1/llgrid/pkg/anaconda/anaconda3-2023a/lib/python3.9/site-packages (from tensorflow==2.7.1) (1.6.3)\n",
      "Requirement already satisfied: werkzeug>=1.0.1 in /home/gridsan/clast/.local/lib/python3.9/site-packages (from tensorboard~=2.6->tensorflow==2.7.1) (2.3.6)\n",
      "Requirement already satisfied: setuptools>=41.0.0 in /home/gridsan/clast/.local/lib/python3.9/site-packages (from tensorboard~=2.6->tensorflow==2.7.1) (68.0.0)\n",
      "Requirement already satisfied: google-auth<3,>=1.6.3 in /state/partition1/llgrid/pkg/anaconda/anaconda3-2023a/lib/python3.9/site-packages (from tensorboard~=2.6->tensorflow==2.7.1) (2.16.0)\n",
      "Requirement already satisfied: tensorboard-plugin-wit>=1.6.0 in /state/partition1/llgrid/pkg/anaconda/anaconda3-2023a/lib/python3.9/site-packages (from tensorboard~=2.6->tensorflow==2.7.1) (1.8.1)\n",
      "Requirement already satisfied: markdown>=2.6.8 in /state/partition1/llgrid/pkg/anaconda/anaconda3-2023a/lib/python3.9/site-packages (from tensorboard~=2.6->tensorflow==2.7.1) (3.4.1)\n",
      "Requirement already satisfied: requests<3,>=2.21.0 in /state/partition1/llgrid/pkg/anaconda/anaconda3-2023a/lib/python3.9/site-packages (from tensorboard~=2.6->tensorflow==2.7.1) (2.28.2)\n",
      "Requirement already satisfied: google-auth-oauthlib<0.5,>=0.4.1 in /state/partition1/llgrid/pkg/anaconda/anaconda3-2023a/lib/python3.9/site-packages (from tensorboard~=2.6->tensorflow==2.7.1) (0.4.6)\n",
      "Requirement already satisfied: tensorboard-data-server<0.7.0,>=0.6.0 in /state/partition1/llgrid/pkg/anaconda/anaconda3-2023a/lib/python3.9/site-packages (from tensorboard~=2.6->tensorflow==2.7.1) (0.6.1)\n",
      "Requirement already satisfied: rsa<5,>=3.1.4 in /state/partition1/llgrid/pkg/anaconda/anaconda3-2023a/lib/python3.9/site-packages (from google-auth<3,>=1.6.3->tensorboard~=2.6->tensorflow==2.7.1) (4.9)\n",
      "Requirement already satisfied: cachetools<6.0,>=2.0.0 in /state/partition1/llgrid/pkg/anaconda/anaconda3-2023a/lib/python3.9/site-packages (from google-auth<3,>=1.6.3->tensorboard~=2.6->tensorflow==2.7.1) (5.3.0)\n",
      "Requirement already satisfied: pyasn1-modules>=0.2.1 in /state/partition1/llgrid/pkg/anaconda/anaconda3-2023a/lib/python3.9/site-packages (from google-auth<3,>=1.6.3->tensorboard~=2.6->tensorflow==2.7.1) (0.2.8)\n",
      "Requirement already satisfied: requests-oauthlib>=0.7.0 in /state/partition1/llgrid/pkg/anaconda/anaconda3-2023a/lib/python3.9/site-packages (from google-auth-oauthlib<0.5,>=0.4.1->tensorboard~=2.6->tensorflow==2.7.1) (1.3.1)\n",
      "Requirement already satisfied: importlib-metadata>=4.4 in /home/gridsan/clast/.local/lib/python3.9/site-packages (from markdown>=2.6.8->tensorboard~=2.6->tensorflow==2.7.1) (5.2.0)\n",
      "Requirement already satisfied: charset-normalizer<4,>=2 in /state/partition1/llgrid/pkg/anaconda/anaconda3-2023a/lib/python3.9/site-packages (from requests<3,>=2.21.0->tensorboard~=2.6->tensorflow==2.7.1) (2.1.1)\n",
      "Requirement already satisfied: urllib3<1.27,>=1.21.1 in /state/partition1/llgrid/pkg/anaconda/anaconda3-2023a/lib/python3.9/site-packages (from requests<3,>=2.21.0->tensorboard~=2.6->tensorflow==2.7.1) (1.26.14)\n",
      "Requirement already satisfied: certifi>=2017.4.17 in /state/partition1/llgrid/pkg/anaconda/anaconda3-2023a/lib/python3.9/site-packages (from requests<3,>=2.21.0->tensorboard~=2.6->tensorflow==2.7.1) (2022.12.7)\n",
      "Requirement already satisfied: idna<4,>=2.5 in /home/gridsan/clast/.local/lib/python3.9/site-packages (from requests<3,>=2.21.0->tensorboard~=2.6->tensorflow==2.7.1) (2.10)\n",
      "Requirement already satisfied: MarkupSafe>=2.1.1 in /state/partition1/llgrid/pkg/anaconda/anaconda3-2023a/lib/python3.9/site-packages (from werkzeug>=1.0.1->tensorboard~=2.6->tensorflow==2.7.1) (2.1.2)\n",
      "Requirement already satisfied: zipp>=0.5 in /state/partition1/llgrid/pkg/anaconda/anaconda3-2023a/lib/python3.9/site-packages (from importlib-metadata>=4.4->markdown>=2.6.8->tensorboard~=2.6->tensorflow==2.7.1) (3.12.0)\n",
      "Requirement already satisfied: pyasn1<0.5.0,>=0.4.6 in /state/partition1/llgrid/pkg/anaconda/anaconda3-2023a/lib/python3.9/site-packages (from pyasn1-modules>=0.2.1->google-auth<3,>=1.6.3->tensorboard~=2.6->tensorflow==2.7.1) (0.4.8)\n",
      "Requirement already satisfied: oauthlib>=3.0.0 in /state/partition1/llgrid/pkg/anaconda/anaconda3-2023a/lib/python3.9/site-packages (from requests-oauthlib>=0.7.0->google-auth-oauthlib<0.5,>=0.4.1->tensorboard~=2.6->tensorflow==2.7.1) (3.2.2)\n"
     ]
    }
   ],
   "source": [
    "!pip install tensorflow_io==0.23.1\n",
    "!pip install tensorflow==2.7.1"
   ]
  },
  {
   "cell_type": "code",
   "execution_count": 47,
   "id": "059906d4",
   "metadata": {},
   "outputs": [
    {
     "name": "stdout",
     "output_type": "stream",
     "text": [
      "Defaulting to user installation because normal site-packages is not writeable\n",
      "Looking in indexes: https://pypi.org/simple, https://pypi.ngc.nvidia.com\n",
      "Requirement already satisfied: soundfile in /home/gridsan/clast/.local/lib/python3.9/site-packages (0.12.1)\n",
      "Requirement already satisfied: cffi>=1.0 in /state/partition1/llgrid/pkg/anaconda/anaconda3-2023a/lib/python3.9/site-packages (from soundfile) (1.15.1)\n",
      "Requirement already satisfied: pycparser in /state/partition1/llgrid/pkg/anaconda/anaconda3-2023a/lib/python3.9/site-packages (from cffi>=1.0->soundfile) (2.21)\n"
     ]
    }
   ],
   "source": [
    "!pip install soundfile"
   ]
  },
  {
   "cell_type": "code",
   "execution_count": 48,
   "id": "1e8457b4",
   "metadata": {
    "execution": {
     "iopub.execute_input": "2023-03-20T16:29:50.482396Z",
     "iopub.status.busy": "2023-03-20T16:29:50.481903Z",
     "iopub.status.idle": "2023-03-20T16:29:55.953631Z",
     "shell.execute_reply": "2023-03-20T16:29:55.951315Z"
    },
    "papermill": {
     "duration": 5.497424,
     "end_time": "2023-03-20T16:29:55.957195",
     "exception": false,
     "start_time": "2023-03-20T16:29:50.459771",
     "status": "completed"
    },
    "tags": []
   },
   "outputs": [],
   "source": [
    "import numpy as np \n",
    "import pandas as pd \n",
    "import tensorflow as tf\n",
    "import tensorflow_hub as hub\n",
    "import tensorflow_io as tfio\n",
    "import os, random\n",
    "import shutil\n",
    "from pydub import AudioSegment\n",
    "from glob import glob #2 List the files in a directory\n",
    "from pathlib import Path\n",
    "from IPython.display import display, Audio\n",
    "import soundfile as sf"
   ]
  },
  {
   "cell_type": "markdown",
   "id": "5acb158b",
   "metadata": {
    "papermill": {
     "duration": 0.020271,
     "end_time": "2023-03-20T16:29:55.998244",
     "exception": false,
     "start_time": "2023-03-20T16:29:55.977973",
     "status": "completed"
    },
    "tags": []
   },
   "source": [
    "## Load and Pre-process the dataset\n",
    "For time and memory management, we'll be taking random sample of 15 birds, we'll also convert the audio files from ogg to wav because only wav can be used as input to the yamnet model.\n"
   ]
  },
  {
   "cell_type": "code",
   "execution_count": 49,
   "id": "ee0a9acd",
   "metadata": {
    "execution": {
     "iopub.execute_input": "2023-03-20T16:29:56.048496Z",
     "iopub.status.busy": "2023-03-20T16:29:56.047161Z",
     "iopub.status.idle": "2023-03-20T16:29:56.252447Z",
     "shell.execute_reply": "2023-03-20T16:29:56.250733Z"
    },
    "papermill": {
     "duration": 0.231058,
     "end_time": "2023-03-20T16:29:56.255754",
     "exception": false,
     "start_time": "2023-03-20T16:29:56.024696",
     "status": "completed"
    },
    "tags": []
   },
   "outputs": [
    {
     "data": {
      "text/html": [
       "<div>\n",
       "<style scoped>\n",
       "    .dataframe tbody tr th:only-of-type {\n",
       "        vertical-align: middle;\n",
       "    }\n",
       "\n",
       "    .dataframe tbody tr th {\n",
       "        vertical-align: top;\n",
       "    }\n",
       "\n",
       "    .dataframe thead th {\n",
       "        text-align: right;\n",
       "    }\n",
       "</style>\n",
       "<table border=\"1\" class=\"dataframe\">\n",
       "  <thead>\n",
       "    <tr style=\"text-align: right;\">\n",
       "      <th></th>\n",
       "      <th>primary_label</th>\n",
       "      <th>filename</th>\n",
       "      <th>filepath</th>\n",
       "    </tr>\n",
       "  </thead>\n",
       "  <tbody>\n",
       "    <tr>\n",
       "      <th>0</th>\n",
       "      <td>0</td>\n",
       "      <td>unknown/1-100032-A-00.wav</td>\n",
       "      <td>data/Binary_Drone_Audio/unknown/1-100032-A-00.wav</td>\n",
       "    </tr>\n",
       "    <tr>\n",
       "      <th>1</th>\n",
       "      <td>0</td>\n",
       "      <td>unknown/1-100032-A-01.wav</td>\n",
       "      <td>data/Binary_Drone_Audio/unknown/1-100032-A-01.wav</td>\n",
       "    </tr>\n",
       "    <tr>\n",
       "      <th>2</th>\n",
       "      <td>0</td>\n",
       "      <td>unknown/1-100032-A-02.wav</td>\n",
       "      <td>data/Binary_Drone_Audio/unknown/1-100032-A-02.wav</td>\n",
       "    </tr>\n",
       "    <tr>\n",
       "      <th>3</th>\n",
       "      <td>0</td>\n",
       "      <td>unknown/1-100032-A-03.wav</td>\n",
       "      <td>data/Binary_Drone_Audio/unknown/1-100032-A-03.wav</td>\n",
       "    </tr>\n",
       "    <tr>\n",
       "      <th>4</th>\n",
       "      <td>0</td>\n",
       "      <td>unknown/1-100032-A-04.wav</td>\n",
       "      <td>data/Binary_Drone_Audio/unknown/1-100032-A-04.wav</td>\n",
       "    </tr>\n",
       "    <tr>\n",
       "      <th>...</th>\n",
       "      <td>...</td>\n",
       "      <td>...</td>\n",
       "      <td>...</td>\n",
       "    </tr>\n",
       "    <tr>\n",
       "      <th>11699</th>\n",
       "      <td>1</td>\n",
       "      <td>yes_drone/mixed_membo_9-membo_000_.wav</td>\n",
       "      <td>data/Binary_Drone_Audio/yes_drone/mixed_membo_...</td>\n",
       "    </tr>\n",
       "    <tr>\n",
       "      <th>11700</th>\n",
       "      <td>1</td>\n",
       "      <td>yes_drone/mixed_membo_9-membo_001_.wav</td>\n",
       "      <td>data/Binary_Drone_Audio/yes_drone/mixed_membo_...</td>\n",
       "    </tr>\n",
       "    <tr>\n",
       "      <th>11701</th>\n",
       "      <td>1</td>\n",
       "      <td>yes_drone/mixed_membo_9-membo_002_.wav</td>\n",
       "      <td>data/Binary_Drone_Audio/yes_drone/mixed_membo_...</td>\n",
       "    </tr>\n",
       "    <tr>\n",
       "      <th>11702</th>\n",
       "      <td>1</td>\n",
       "      <td>yes_drone/mixed_membo_9-membo_003_.wav</td>\n",
       "      <td>data/Binary_Drone_Audio/yes_drone/mixed_membo_...</td>\n",
       "    </tr>\n",
       "    <tr>\n",
       "      <th>11703</th>\n",
       "      <td>1</td>\n",
       "      <td>yes_drone/mixed_membo_9-membo_004_.wav</td>\n",
       "      <td>data/Binary_Drone_Audio/yes_drone/mixed_membo_...</td>\n",
       "    </tr>\n",
       "  </tbody>\n",
       "</table>\n",
       "<p>11704 rows × 3 columns</p>\n",
       "</div>"
      ],
      "text/plain": [
       "       primary_label                                filename  \\\n",
       "0                  0               unknown/1-100032-A-00.wav   \n",
       "1                  0               unknown/1-100032-A-01.wav   \n",
       "2                  0               unknown/1-100032-A-02.wav   \n",
       "3                  0               unknown/1-100032-A-03.wav   \n",
       "4                  0               unknown/1-100032-A-04.wav   \n",
       "...              ...                                     ...   \n",
       "11699              1  yes_drone/mixed_membo_9-membo_000_.wav   \n",
       "11700              1  yes_drone/mixed_membo_9-membo_001_.wav   \n",
       "11701              1  yes_drone/mixed_membo_9-membo_002_.wav   \n",
       "11702              1  yes_drone/mixed_membo_9-membo_003_.wav   \n",
       "11703              1  yes_drone/mixed_membo_9-membo_004_.wav   \n",
       "\n",
       "                                                filepath  \n",
       "0      data/Binary_Drone_Audio/unknown/1-100032-A-00.wav  \n",
       "1      data/Binary_Drone_Audio/unknown/1-100032-A-01.wav  \n",
       "2      data/Binary_Drone_Audio/unknown/1-100032-A-02.wav  \n",
       "3      data/Binary_Drone_Audio/unknown/1-100032-A-03.wav  \n",
       "4      data/Binary_Drone_Audio/unknown/1-100032-A-04.wav  \n",
       "...                                                  ...  \n",
       "11699  data/Binary_Drone_Audio/yes_drone/mixed_membo_...  \n",
       "11700  data/Binary_Drone_Audio/yes_drone/mixed_membo_...  \n",
       "11701  data/Binary_Drone_Audio/yes_drone/mixed_membo_...  \n",
       "11702  data/Binary_Drone_Audio/yes_drone/mixed_membo_...  \n",
       "11703  data/Binary_Drone_Audio/yes_drone/mixed_membo_...  \n",
       "\n",
       "[11704 rows x 3 columns]"
      ]
     },
     "execution_count": 49,
     "metadata": {},
     "output_type": "execute_result"
    }
   ],
   "source": [
    "ROOT = \"/home/gridsan/clast/hackathon-april\"\n",
    "train_metadata = pd.read_csv(os.path.join(ROOT, 'metadata.csv'))[['primary_label', 'filename']]\n",
    "train_metadata['filepath'] = 'data/Binary_Drone_Audio/' + train_metadata['filename']\n",
    "train_metadata"
   ]
  },
  {
   "cell_type": "code",
   "execution_count": 50,
   "id": "63bafd99",
   "metadata": {
    "execution": {
     "iopub.execute_input": "2023-03-20T16:29:56.300046Z",
     "iopub.status.busy": "2023-03-20T16:29:56.299579Z",
     "iopub.status.idle": "2023-03-20T16:29:56.310858Z",
     "shell.execute_reply": "2023-03-20T16:29:56.309006Z"
    },
    "papermill": {
     "duration": 0.036558,
     "end_time": "2023-03-20T16:29:56.313665",
     "exception": false,
     "start_time": "2023-03-20T16:29:56.277107",
     "status": "completed"
    },
    "tags": []
   },
   "outputs": [
    {
     "name": "stdout",
     "output_type": "stream",
     "text": [
      "{0, 1}\n"
     ]
    }
   ],
   "source": [
    "#Random sample of 15 birds\n",
    "classes = set(random.sample(train_metadata['primary_label'].unique().tolist(), 2)) \n",
    "print(classes)"
   ]
  },
  {
   "cell_type": "code",
   "execution_count": 51,
   "id": "bd8e8204",
   "metadata": {
    "execution": {
     "iopub.execute_input": "2023-03-20T16:29:56.356162Z",
     "iopub.status.busy": "2023-03-20T16:29:56.355025Z",
     "iopub.status.idle": "2023-03-20T16:29:56.378957Z",
     "shell.execute_reply": "2023-03-20T16:29:56.377791Z"
    },
    "papermill": {
     "duration": 0.047891,
     "end_time": "2023-03-20T16:29:56.381658",
     "exception": false,
     "start_time": "2023-03-20T16:29:56.333767",
     "status": "completed"
    },
    "tags": []
   },
   "outputs": [
    {
     "data": {
      "text/html": [
       "<div>\n",
       "<style scoped>\n",
       "    .dataframe tbody tr th:only-of-type {\n",
       "        vertical-align: middle;\n",
       "    }\n",
       "\n",
       "    .dataframe tbody tr th {\n",
       "        vertical-align: top;\n",
       "    }\n",
       "\n",
       "    .dataframe thead th {\n",
       "        text-align: right;\n",
       "    }\n",
       "</style>\n",
       "<table border=\"1\" class=\"dataframe\">\n",
       "  <thead>\n",
       "    <tr style=\"text-align: right;\">\n",
       "      <th></th>\n",
       "      <th>primary_label</th>\n",
       "      <th>filename</th>\n",
       "      <th>filepath</th>\n",
       "      <th>label</th>\n",
       "    </tr>\n",
       "  </thead>\n",
       "  <tbody>\n",
       "    <tr>\n",
       "      <th>0</th>\n",
       "      <td>0</td>\n",
       "      <td>unknown/1-100032-A-00.wav</td>\n",
       "      <td>data/Binary_Drone_Audio/unknown/1-100032-A-00.wav</td>\n",
       "      <td>0</td>\n",
       "    </tr>\n",
       "    <tr>\n",
       "      <th>1</th>\n",
       "      <td>0</td>\n",
       "      <td>unknown/1-100032-A-01.wav</td>\n",
       "      <td>data/Binary_Drone_Audio/unknown/1-100032-A-01.wav</td>\n",
       "      <td>0</td>\n",
       "    </tr>\n",
       "    <tr>\n",
       "      <th>2</th>\n",
       "      <td>0</td>\n",
       "      <td>unknown/1-100032-A-02.wav</td>\n",
       "      <td>data/Binary_Drone_Audio/unknown/1-100032-A-02.wav</td>\n",
       "      <td>0</td>\n",
       "    </tr>\n",
       "    <tr>\n",
       "      <th>3</th>\n",
       "      <td>0</td>\n",
       "      <td>unknown/1-100032-A-03.wav</td>\n",
       "      <td>data/Binary_Drone_Audio/unknown/1-100032-A-03.wav</td>\n",
       "      <td>0</td>\n",
       "    </tr>\n",
       "    <tr>\n",
       "      <th>4</th>\n",
       "      <td>0</td>\n",
       "      <td>unknown/1-100032-A-04.wav</td>\n",
       "      <td>data/Binary_Drone_Audio/unknown/1-100032-A-04.wav</td>\n",
       "      <td>0</td>\n",
       "    </tr>\n",
       "  </tbody>\n",
       "</table>\n",
       "</div>"
      ],
      "text/plain": [
       "   primary_label                   filename  \\\n",
       "0              0  unknown/1-100032-A-00.wav   \n",
       "1              0  unknown/1-100032-A-01.wav   \n",
       "2              0  unknown/1-100032-A-02.wav   \n",
       "3              0  unknown/1-100032-A-03.wav   \n",
       "4              0  unknown/1-100032-A-04.wav   \n",
       "\n",
       "                                            filepath  label  \n",
       "0  data/Binary_Drone_Audio/unknown/1-100032-A-00.wav      0  \n",
       "1  data/Binary_Drone_Audio/unknown/1-100032-A-01.wav      0  \n",
       "2  data/Binary_Drone_Audio/unknown/1-100032-A-02.wav      0  \n",
       "3  data/Binary_Drone_Audio/unknown/1-100032-A-03.wav      0  \n",
       "4  data/Binary_Drone_Audio/unknown/1-100032-A-04.wav      0  "
      ]
     },
     "execution_count": 51,
     "metadata": {},
     "output_type": "execute_result"
    }
   ],
   "source": [
    "train_metadata = train_metadata[train_metadata.primary_label.apply(lambda x: x in classes)].reset_index(drop=True)\n",
    "keys = set(train_metadata.primary_label)\n",
    "values = np.arange(0, len(keys))\n",
    "code_dict = dict(zip(sorted(keys), values))\n",
    "train_metadata['label'] = train_metadata['primary_label'].apply(lambda x: code_dict[x])\n",
    "train_metadata.head()"
   ]
  },
  {
   "cell_type": "code",
   "execution_count": 52,
   "id": "f8204970",
   "metadata": {
    "_kg_hide-output": true,
    "execution": {
     "iopub.execute_input": "2023-03-20T16:29:56.424374Z",
     "iopub.status.busy": "2023-03-20T16:29:56.423916Z",
     "iopub.status.idle": "2023-03-20T16:29:56.443656Z",
     "shell.execute_reply": "2023-03-20T16:29:56.442280Z"
    },
    "papermill": {
     "duration": 0.044174,
     "end_time": "2023-03-20T16:29:56.446249",
     "exception": false,
     "start_time": "2023-03-20T16:29:56.402075",
     "status": "completed"
    },
    "tags": []
   },
   "outputs": [
    {
     "data": {
      "text/html": [
       "<div>\n",
       "<style scoped>\n",
       "    .dataframe tbody tr th:only-of-type {\n",
       "        vertical-align: middle;\n",
       "    }\n",
       "\n",
       "    .dataframe tbody tr th {\n",
       "        vertical-align: top;\n",
       "    }\n",
       "\n",
       "    .dataframe thead th {\n",
       "        text-align: right;\n",
       "    }\n",
       "</style>\n",
       "<table border=\"1\" class=\"dataframe\">\n",
       "  <thead>\n",
       "    <tr style=\"text-align: right;\">\n",
       "      <th></th>\n",
       "      <th>primary_label</th>\n",
       "      <th>label</th>\n",
       "    </tr>\n",
       "  </thead>\n",
       "  <tbody>\n",
       "    <tr>\n",
       "      <th>0</th>\n",
       "      <td>0</td>\n",
       "      <td>0</td>\n",
       "    </tr>\n",
       "    <tr>\n",
       "      <th>1</th>\n",
       "      <td>1</td>\n",
       "      <td>1</td>\n",
       "    </tr>\n",
       "  </tbody>\n",
       "</table>\n",
       "</div>"
      ],
      "text/plain": [
       "   primary_label  label\n",
       "0              0      0\n",
       "1              1      1"
      ]
     },
     "execution_count": 52,
     "metadata": {},
     "output_type": "execute_result"
    }
   ],
   "source": [
    "classes_df = pd.DataFrame()\n",
    "classes_df = train_metadata.filter(['primary_label','label'],axis=1)\n",
    "classes_df = classes_df.drop_duplicates()\n",
    "classes_df.reset_index(drop=True, inplace=True)\n",
    "classes_df"
   ]
  },
  {
   "cell_type": "code",
   "execution_count": 53,
   "id": "3a255b8f",
   "metadata": {
    "_kg_hide-output": true,
    "execution": {
     "iopub.execute_input": "2023-03-20T16:29:56.492234Z",
     "iopub.status.busy": "2023-03-20T16:29:56.491631Z",
     "iopub.status.idle": "2023-03-20T16:29:56.512741Z",
     "shell.execute_reply": "2023-03-20T16:29:56.510912Z"
    },
    "papermill": {
     "duration": 0.048099,
     "end_time": "2023-03-20T16:29:56.516739",
     "exception": false,
     "start_time": "2023-03-20T16:29:56.468640",
     "status": "completed"
    },
    "tags": []
   },
   "outputs": [
    {
     "name": "stdout",
     "output_type": "stream",
     "text": [
      "       primary_label                    filename  \\\n",
      "0                  0   unknown/1-100032-A-00.wav   \n",
      "1                  0   unknown/1-100032-A-01.wav   \n",
      "2                  0   unknown/1-100032-A-02.wav   \n",
      "3                  0   unknown/1-100032-A-03.wav   \n",
      "4                  0   unknown/1-100032-A-04.wav   \n",
      "...              ...                         ...   \n",
      "10367              0  unknown/white_noise007.wav   \n",
      "10368              0  unknown/white_noise008.wav   \n",
      "10369              0  unknown/white_noise009.wav   \n",
      "10370              0  unknown/white_noise010.wav   \n",
      "10371              0  unknown/white_noise011.wav   \n",
      "\n",
      "                                                filepath  label  \n",
      "0      data/Binary_Drone_Audio/unknown/1-100032-A-00.wav      0  \n",
      "1      data/Binary_Drone_Audio/unknown/1-100032-A-01.wav      0  \n",
      "2      data/Binary_Drone_Audio/unknown/1-100032-A-02.wav      0  \n",
      "3      data/Binary_Drone_Audio/unknown/1-100032-A-03.wav      0  \n",
      "4      data/Binary_Drone_Audio/unknown/1-100032-A-04.wav      0  \n",
      "...                                                  ...    ...  \n",
      "10367  data/Binary_Drone_Audio/unknown/white_noise007...      0  \n",
      "10368  data/Binary_Drone_Audio/unknown/white_noise008...      0  \n",
      "10369  data/Binary_Drone_Audio/unknown/white_noise009...      0  \n",
      "10370  data/Binary_Drone_Audio/unknown/white_noise010...      0  \n",
      "10371  data/Binary_Drone_Audio/unknown/white_noise011...      0  \n",
      "\n",
      "[10372 rows x 4 columns]\n"
     ]
    }
   ],
   "source": [
    "train_list = []\n",
    "\n",
    "for x in classes_df['label']:\n",
    "    train_sng_temp = train_metadata[train_metadata['label'] == x]\n",
    "    train_list.append(train_sng_temp)\n",
    "print(train_list[0])"
   ]
  },
  {
   "cell_type": "code",
   "execution_count": 54,
   "id": "e014bb8c",
   "metadata": {
    "execution": {
     "iopub.execute_input": "2023-03-20T16:29:56.563890Z",
     "iopub.status.busy": "2023-03-20T16:29:56.563462Z",
     "iopub.status.idle": "2023-03-20T16:29:56.571464Z",
     "shell.execute_reply": "2023-03-20T16:29:56.570083Z"
    },
    "papermill": {
     "duration": 0.033267,
     "end_time": "2023-03-20T16:29:56.574233",
     "exception": false,
     "start_time": "2023-03-20T16:29:56.540966",
     "status": "completed"
    },
    "tags": []
   },
   "outputs": [],
   "source": [
    "DATASET_ROOT = os.path.join(\"\")\n",
    "DATASET_AUDIO_PATH = os.path.join('./Data_Train/')"
   ]
  },
  {
   "cell_type": "code",
   "execution_count": 55,
   "id": "a1e5ca18",
   "metadata": {
    "execution": {
     "iopub.execute_input": "2023-03-20T16:29:56.617742Z",
     "iopub.status.busy": "2023-03-20T16:29:56.617348Z",
     "iopub.status.idle": "2023-03-20T16:29:58.949371Z",
     "shell.execute_reply": "2023-03-20T16:29:58.947918Z"
    },
    "papermill": {
     "duration": 2.357619,
     "end_time": "2023-03-20T16:29:58.952525",
     "exception": false,
     "start_time": "2023-03-20T16:29:56.594906",
     "status": "completed"
    },
    "tags": []
   },
   "outputs": [
    {
     "ename": "TypeError",
     "evalue": "can only concatenate str (not \"numpy.int64\") to str",
     "output_type": "error",
     "traceback": [
      "\u001b[0;31m---------------------------------------------------------------------------\u001b[0m",
      "\u001b[0;31mTypeError\u001b[0m                                 Traceback (most recent call last)",
      "Cell \u001b[0;32mIn[55], line 2\u001b[0m\n\u001b[1;32m      1\u001b[0m \u001b[38;5;28;01mfor\u001b[39;00m x \u001b[38;5;129;01min\u001b[39;00m \u001b[38;5;28mrange\u001b[39m(classes_df[classes_df\u001b[38;5;241m.\u001b[39mcolumns[\u001b[38;5;241m1\u001b[39m]]\u001b[38;5;241m.\u001b[39mcount()): \n\u001b[0;32m----> 2\u001b[0m     \u001b[38;5;28;01mif\u001b[39;00m os\u001b[38;5;241m.\u001b[39mpath\u001b[38;5;241m.\u001b[39mexists(\u001b[43mDATASET_AUDIO_PATH\u001b[49m\u001b[43m \u001b[49m\u001b[38;5;241;43m+\u001b[39;49m\u001b[43m \u001b[49m\u001b[38;5;124;43m\"\u001b[39;49m\u001b[38;5;124;43m/\u001b[39;49m\u001b[38;5;124;43m\"\u001b[39;49m\u001b[43m \u001b[49m\u001b[38;5;241;43m+\u001b[39;49m\u001b[43m \u001b[49m\u001b[43mclasses_df\u001b[49m\u001b[43m[\u001b[49m\u001b[38;5;124;43m'\u001b[39;49m\u001b[38;5;124;43mprimary_label\u001b[39;49m\u001b[38;5;124;43m'\u001b[39;49m\u001b[43m]\u001b[49m\u001b[43m[\u001b[49m\u001b[43mx\u001b[49m\u001b[43m]\u001b[49m) \u001b[38;5;129;01mis\u001b[39;00m \u001b[38;5;28;01mFalse\u001b[39;00m:\n\u001b[1;32m      3\u001b[0m         os\u001b[38;5;241m.\u001b[39mmakedirs(DATASET_AUDIO_PATH \u001b[38;5;241m+\u001b[39m \u001b[38;5;124m\"\u001b[39m\u001b[38;5;124m/\u001b[39m\u001b[38;5;124m\"\u001b[39m \u001b[38;5;241m+\u001b[39m classes_df[\u001b[38;5;124m'\u001b[39m\u001b[38;5;124mprimary_label\u001b[39m\u001b[38;5;124m'\u001b[39m][x])\n\u001b[1;32m      4\u001b[0m     \u001b[38;5;28;01mfor\u001b[39;00m z \u001b[38;5;129;01min\u001b[39;00m \u001b[38;5;28mrange\u001b[39m(train_metadata\u001b[38;5;241m.\u001b[39mpivot_table(index \u001b[38;5;241m=\u001b[39m [\u001b[38;5;124m'\u001b[39m\u001b[38;5;124mprimary_label\u001b[39m\u001b[38;5;124m'\u001b[39m], aggfunc \u001b[38;5;241m=\u001b[39m\u001b[38;5;124m'\u001b[39m\u001b[38;5;124msize\u001b[39m\u001b[38;5;124m'\u001b[39m)\u001b[38;5;241m.\u001b[39mmin()):\n",
      "\u001b[0;31mTypeError\u001b[0m: can only concatenate str (not \"numpy.int64\") to str"
     ]
    }
   ],
   "source": [
    "for x in range(classes_df[classes_df.columns[1]].count()): \n",
    "    if os.path.exists(DATASET_AUDIO_PATH + \"/\" + classes_df['primary_label'][x]) is False:\n",
    "        os.makedirs(DATASET_AUDIO_PATH + \"/\" + classes_df['primary_label'][x])\n",
    "    for z in range(train_metadata.pivot_table(index = ['primary_label'], aggfunc ='size').min()):\n",
    "        data, samplerate = sf.read(\"/kaggle/input/birdclef-2023/train_audio/\" + str(train_list[x].iat[z,1])) \n",
    "        sf.write(DATASET_AUDIO_PATH +    str(train_list[x].iat[z,1])[:-4] + \".wav\",data, samplerate, subtype='PCM_16')"
   ]
  },
  {
   "cell_type": "code",
   "execution_count": null,
   "id": "89e12dfe",
   "metadata": {
    "execution": {
     "iopub.execute_input": "2023-03-20T16:29:58.997912Z",
     "iopub.status.busy": "2023-03-20T16:29:58.997487Z",
     "iopub.status.idle": "2023-03-20T16:29:59.010655Z",
     "shell.execute_reply": "2023-03-20T16:29:59.009077Z"
    },
    "papermill": {
     "duration": 0.03846,
     "end_time": "2023-03-20T16:29:59.013748",
     "exception": false,
     "start_time": "2023-03-20T16:29:58.975288",
     "status": "completed"
    },
    "tags": []
   },
   "outputs": [
    {
     "data": {
      "text/html": [
       "<div>\n",
       "<style scoped>\n",
       "    .dataframe tbody tr th:only-of-type {\n",
       "        vertical-align: middle;\n",
       "    }\n",
       "\n",
       "    .dataframe tbody tr th {\n",
       "        vertical-align: top;\n",
       "    }\n",
       "\n",
       "    .dataframe thead th {\n",
       "        text-align: right;\n",
       "    }\n",
       "</style>\n",
       "<table border=\"1\" class=\"dataframe\">\n",
       "  <thead>\n",
       "    <tr style=\"text-align: right;\">\n",
       "      <th></th>\n",
       "      <th>primary_label</th>\n",
       "      <th>filename</th>\n",
       "      <th>filepath</th>\n",
       "      <th>label</th>\n",
       "    </tr>\n",
       "  </thead>\n",
       "  <tbody>\n",
       "    <tr>\n",
       "      <th>0</th>\n",
       "      <td>0</td>\n",
       "      <td>unknown/1-100032-A-00.wav</td>\n",
       "      <td>data/Binary_Drone_Audio/unknown/1-100032-A-00.wav</td>\n",
       "      <td>0</td>\n",
       "    </tr>\n",
       "    <tr>\n",
       "      <th>1</th>\n",
       "      <td>0</td>\n",
       "      <td>unknown/1-100032-A-01.wav</td>\n",
       "      <td>data/Binary_Drone_Audio/unknown/1-100032-A-01.wav</td>\n",
       "      <td>0</td>\n",
       "    </tr>\n",
       "    <tr>\n",
       "      <th>2</th>\n",
       "      <td>0</td>\n",
       "      <td>unknown/1-100032-A-02.wav</td>\n",
       "      <td>data/Binary_Drone_Audio/unknown/1-100032-A-02.wav</td>\n",
       "      <td>0</td>\n",
       "    </tr>\n",
       "    <tr>\n",
       "      <th>3</th>\n",
       "      <td>0</td>\n",
       "      <td>unknown/1-100032-A-03.wav</td>\n",
       "      <td>data/Binary_Drone_Audio/unknown/1-100032-A-03.wav</td>\n",
       "      <td>0</td>\n",
       "    </tr>\n",
       "    <tr>\n",
       "      <th>4</th>\n",
       "      <td>0</td>\n",
       "      <td>unknown/1-100032-A-04.wav</td>\n",
       "      <td>data/Binary_Drone_Audio/unknown/1-100032-A-04.wav</td>\n",
       "      <td>0</td>\n",
       "    </tr>\n",
       "  </tbody>\n",
       "</table>\n",
       "</div>"
      ],
      "text/plain": [
       "   primary_label                   filename  \\\n",
       "0              0  unknown/1-100032-A-00.wav   \n",
       "1              0  unknown/1-100032-A-01.wav   \n",
       "2              0  unknown/1-100032-A-02.wav   \n",
       "3              0  unknown/1-100032-A-03.wav   \n",
       "4              0  unknown/1-100032-A-04.wav   \n",
       "\n",
       "                                            filepath  label  \n",
       "0  data/Binary_Drone_Audio/unknown/1-100032-A-00.wav      0  \n",
       "1  data/Binary_Drone_Audio/unknown/1-100032-A-01.wav      0  \n",
       "2  data/Binary_Drone_Audio/unknown/1-100032-A-02.wav      0  \n",
       "3  data/Binary_Drone_Audio/unknown/1-100032-A-03.wav      0  \n",
       "4  data/Binary_Drone_Audio/unknown/1-100032-A-04.wav      0  "
      ]
     },
     "execution_count": 11,
     "metadata": {},
     "output_type": "execute_result"
    }
   ],
   "source": [
    "train_metadata.head()"
   ]
  },
  {
   "cell_type": "code",
   "execution_count": null,
   "id": "6206cc98",
   "metadata": {
    "execution": {
     "iopub.execute_input": "2023-03-20T16:29:59.057592Z",
     "iopub.status.busy": "2023-03-20T16:29:59.057179Z",
     "iopub.status.idle": "2023-03-20T16:29:59.257648Z",
     "shell.execute_reply": "2023-03-20T16:29:59.255823Z"
    },
    "papermill": {
     "duration": 0.225961,
     "end_time": "2023-03-20T16:29:59.260934",
     "exception": false,
     "start_time": "2023-03-20T16:29:59.034973",
     "status": "completed"
    },
    "tags": []
   },
   "outputs": [
    {
     "data": {
      "text/html": [
       "<div>\n",
       "<style scoped>\n",
       "    .dataframe tbody tr th:only-of-type {\n",
       "        vertical-align: middle;\n",
       "    }\n",
       "\n",
       "    .dataframe tbody tr th {\n",
       "        vertical-align: top;\n",
       "    }\n",
       "\n",
       "    .dataframe thead th {\n",
       "        text-align: right;\n",
       "    }\n",
       "</style>\n",
       "<table border=\"1\" class=\"dataframe\">\n",
       "  <thead>\n",
       "    <tr style=\"text-align: right;\">\n",
       "      <th></th>\n",
       "      <th>primary_label</th>\n",
       "      <th>filename</th>\n",
       "      <th>filepath</th>\n",
       "      <th>label</th>\n",
       "      <th>new_filepath</th>\n",
       "    </tr>\n",
       "  </thead>\n",
       "  <tbody>\n",
       "    <tr>\n",
       "      <th>0</th>\n",
       "      <td>0</td>\n",
       "      <td>unknown/1-100032-A-00.wav</td>\n",
       "      <td>data/Binary_Drone_Audio/unknown/1-100032-A-00.wav</td>\n",
       "      <td>0</td>\n",
       "      <td>./Data_Train/unknown/1-100032-A-00.wav</td>\n",
       "    </tr>\n",
       "    <tr>\n",
       "      <th>1</th>\n",
       "      <td>0</td>\n",
       "      <td>unknown/1-100032-A-01.wav</td>\n",
       "      <td>data/Binary_Drone_Audio/unknown/1-100032-A-01.wav</td>\n",
       "      <td>0</td>\n",
       "      <td>./Data_Train/unknown/1-100032-A-00.wav</td>\n",
       "    </tr>\n",
       "    <tr>\n",
       "      <th>2</th>\n",
       "      <td>0</td>\n",
       "      <td>unknown/1-100032-A-02.wav</td>\n",
       "      <td>data/Binary_Drone_Audio/unknown/1-100032-A-02.wav</td>\n",
       "      <td>0</td>\n",
       "      <td>./Data_Train/unknown/1-100032-A-00.wav</td>\n",
       "    </tr>\n",
       "    <tr>\n",
       "      <th>3</th>\n",
       "      <td>0</td>\n",
       "      <td>unknown/1-100032-A-03.wav</td>\n",
       "      <td>data/Binary_Drone_Audio/unknown/1-100032-A-03.wav</td>\n",
       "      <td>0</td>\n",
       "      <td>./Data_Train/unknown/1-100032-A-00.wav</td>\n",
       "    </tr>\n",
       "    <tr>\n",
       "      <th>4</th>\n",
       "      <td>0</td>\n",
       "      <td>unknown/1-100032-A-04.wav</td>\n",
       "      <td>data/Binary_Drone_Audio/unknown/1-100032-A-04.wav</td>\n",
       "      <td>0</td>\n",
       "      <td>./Data_Train/unknown/1-100032-A-00.wav</td>\n",
       "    </tr>\n",
       "  </tbody>\n",
       "</table>\n",
       "</div>"
      ],
      "text/plain": [
       "   primary_label                   filename  \\\n",
       "0              0  unknown/1-100032-A-00.wav   \n",
       "1              0  unknown/1-100032-A-01.wav   \n",
       "2              0  unknown/1-100032-A-02.wav   \n",
       "3              0  unknown/1-100032-A-03.wav   \n",
       "4              0  unknown/1-100032-A-04.wav   \n",
       "\n",
       "                                            filepath  label  \\\n",
       "0  data/Binary_Drone_Audio/unknown/1-100032-A-00.wav      0   \n",
       "1  data/Binary_Drone_Audio/unknown/1-100032-A-01.wav      0   \n",
       "2  data/Binary_Drone_Audio/unknown/1-100032-A-02.wav      0   \n",
       "3  data/Binary_Drone_Audio/unknown/1-100032-A-03.wav      0   \n",
       "4  data/Binary_Drone_Audio/unknown/1-100032-A-04.wav      0   \n",
       "\n",
       "                             new_filepath  \n",
       "0  ./Data_Train/unknown/1-100032-A-00.wav  \n",
       "1  ./Data_Train/unknown/1-100032-A-00.wav  \n",
       "2  ./Data_Train/unknown/1-100032-A-00.wav  \n",
       "3  ./Data_Train/unknown/1-100032-A-00.wav  \n",
       "4  ./Data_Train/unknown/1-100032-A-00.wav  "
      ]
     },
     "execution_count": 12,
     "metadata": {},
     "output_type": "execute_result"
    }
   ],
   "source": [
    "for x in train_metadata.index:\n",
    "    train_metadata['new_filepath'] = DATASET_AUDIO_PATH + str(train_metadata['filename'][0])[:-4] + \".wav\"\n",
    "train_metadata.head()"
   ]
  },
  {
   "cell_type": "code",
   "execution_count": null,
   "id": "420b0413",
   "metadata": {
    "execution": {
     "iopub.execute_input": "2023-03-20T16:29:59.307027Z",
     "iopub.status.busy": "2023-03-20T16:29:59.306558Z",
     "iopub.status.idle": "2023-03-20T16:29:59.333340Z",
     "shell.execute_reply": "2023-03-20T16:29:59.332038Z"
    },
    "papermill": {
     "duration": 0.051973,
     "end_time": "2023-03-20T16:29:59.335863",
     "exception": false,
     "start_time": "2023-03-20T16:29:59.283890",
     "status": "completed"
    },
    "tags": []
   },
   "outputs": [
    {
     "name": "stderr",
     "output_type": "stream",
     "text": [
      "2024-04-20 12:14:19.204052: W tensorflow/stream_executor/platform/default/dso_loader.cc:64] Could not load dynamic library 'libcuda.so.1'; dlerror: libcuda.so.1: cannot open shared object file: No such file or directory\n",
      "2024-04-20 12:14:19.204921: W tensorflow/stream_executor/cuda/cuda_driver.cc:269] failed call to cuInit: UNKNOWN ERROR (303)\n",
      "2024-04-20 12:14:19.204948: I tensorflow/stream_executor/cuda/cuda_diagnostics.cc:156] kernel driver does not appear to be running on this host (login-2): /proc/driver/nvidia/version does not exist\n",
      "2024-04-20 12:14:19.275306: I tensorflow/core/platform/cpu_feature_guard.cc:151] This TensorFlow binary is optimized with oneAPI Deep Neural Network Library (oneDNN) to use the following CPU instructions in performance-critical operations:  AVX2 AVX512F FMA\n",
      "To enable them in other operations, rebuild TensorFlow with the appropriate compiler flags.\n"
     ]
    },
    {
     "data": {
      "text/plain": [
       "(TensorSpec(shape=(), dtype=tf.string, name=None),\n",
       " TensorSpec(shape=(), dtype=tf.int64, name=None))"
      ]
     },
     "execution_count": 13,
     "metadata": {},
     "output_type": "execute_result"
    }
   ],
   "source": [
    "filenames = train_metadata['filepath']\n",
    "targets = train_metadata['label']\n",
    "\n",
    "main_ds = tf.data.Dataset.from_tensor_slices((filenames, targets))\n",
    "main_ds.element_spec"
   ]
  },
  {
   "cell_type": "code",
   "execution_count": null,
   "id": "b0ddb3fc",
   "metadata": {},
   "outputs": [
    {
     "data": {
      "text/plain": [
       "(0        data/Binary_Drone_Audio/unknown/1-100032-A-00.wav\n",
       " 1        data/Binary_Drone_Audio/unknown/1-100032-A-01.wav\n",
       " 2        data/Binary_Drone_Audio/unknown/1-100032-A-02.wav\n",
       " 3        data/Binary_Drone_Audio/unknown/1-100032-A-03.wav\n",
       " 4        data/Binary_Drone_Audio/unknown/1-100032-A-04.wav\n",
       "                                ...                        \n",
       " 11699    data/Binary_Drone_Audio/yes_drone/mixed_membo_...\n",
       " 11700    data/Binary_Drone_Audio/yes_drone/mixed_membo_...\n",
       " 11701    data/Binary_Drone_Audio/yes_drone/mixed_membo_...\n",
       " 11702    data/Binary_Drone_Audio/yes_drone/mixed_membo_...\n",
       " 11703    data/Binary_Drone_Audio/yes_drone/mixed_membo_...\n",
       " Name: filepath, Length: 11704, dtype: object,\n",
       " 0        0\n",
       " 1        0\n",
       " 2        0\n",
       " 3        0\n",
       " 4        0\n",
       "         ..\n",
       " 11699    1\n",
       " 11700    1\n",
       " 11701    1\n",
       " 11702    1\n",
       " 11703    1\n",
       " Name: label, Length: 11704, dtype: int64)"
      ]
     },
     "execution_count": 14,
     "metadata": {},
     "output_type": "execute_result"
    }
   ],
   "source": [
    "filenames, targets"
   ]
  },
  {
   "cell_type": "markdown",
   "id": "e820a9e1",
   "metadata": {
    "papermill": {
     "duration": 0.021005,
     "end_time": "2023-03-20T16:29:59.378979",
     "exception": false,
     "start_time": "2023-03-20T16:29:59.357974",
     "status": "completed"
    },
    "tags": []
   },
   "source": [
    "## Utility functions for loading audio files"
   ]
  },
  {
   "cell_type": "code",
   "execution_count": null,
   "id": "6c6021db",
   "metadata": {
    "execution": {
     "iopub.execute_input": "2023-03-20T16:29:59.423211Z",
     "iopub.status.busy": "2023-03-20T16:29:59.422727Z",
     "iopub.status.idle": "2023-03-20T16:29:59.431442Z",
     "shell.execute_reply": "2023-03-20T16:29:59.429969Z"
    },
    "papermill": {
     "duration": 0.033994,
     "end_time": "2023-03-20T16:29:59.434179",
     "exception": false,
     "start_time": "2023-03-20T16:29:59.400185",
     "status": "completed"
    },
    "tags": []
   },
   "outputs": [],
   "source": [
    "@tf.function\n",
    "def load_wav_16k_mono(filename):\n",
    "    \"\"\" Load a WAV file, convert it to a float tensor, resample to 16 kHz single-channel audio. \"\"\"\n",
    "    file_contents = tf.io.read_file(filename)\n",
    "    wav, sample_rate = tf.audio.decode_wav(\n",
    "          file_contents,\n",
    "          desired_channels=1)\n",
    "    wav = tf.squeeze(wav, axis=-1)\n",
    "    sample_rate = tf.cast(sample_rate, dtype=tf.int64)\n",
    "    wav = tfio.audio.resample(wav, rate_in=sample_rate, rate_out=16000)\n",
    "    return wav"
   ]
  },
  {
   "cell_type": "code",
   "execution_count": null,
   "id": "28a145b6",
   "metadata": {
    "execution": {
     "iopub.execute_input": "2023-03-20T16:29:59.479023Z",
     "iopub.status.busy": "2023-03-20T16:29:59.478570Z",
     "iopub.status.idle": "2023-03-20T16:29:59.484395Z",
     "shell.execute_reply": "2023-03-20T16:29:59.482949Z"
    },
    "papermill": {
     "duration": 0.03183,
     "end_time": "2023-03-20T16:29:59.487177",
     "exception": false,
     "start_time": "2023-03-20T16:29:59.455347",
     "status": "completed"
    },
    "tags": []
   },
   "outputs": [],
   "source": [
    "def load_wav_for_map(filename, label):\n",
    "    return load_wav_16k_mono(filename), label"
   ]
  },
  {
   "cell_type": "code",
   "execution_count": null,
   "id": "2261b8fa",
   "metadata": {},
   "outputs": [
    {
     "data": {
      "text/plain": [
       "<TensorSliceDataset shapes: ((), ()), types: (tf.string, tf.int64)>"
      ]
     },
     "execution_count": 17,
     "metadata": {},
     "output_type": "execute_result"
    }
   ],
   "source": [
    "main_ds"
   ]
  },
  {
   "cell_type": "code",
   "execution_count": null,
   "id": "0adef6b0",
   "metadata": {
    "execution": {
     "iopub.execute_input": "2023-03-20T16:29:59.531863Z",
     "iopub.status.busy": "2023-03-20T16:29:59.530537Z",
     "iopub.status.idle": "2023-03-20T16:30:00.222036Z",
     "shell.execute_reply": "2023-03-20T16:30:00.220531Z"
    },
    "papermill": {
     "duration": 0.716819,
     "end_time": "2023-03-20T16:30:00.224941",
     "exception": false,
     "start_time": "2023-03-20T16:29:59.508122",
     "status": "completed"
    },
    "tags": []
   },
   "outputs": [
    {
     "name": "stdout",
     "output_type": "stream",
     "text": [
      "WARNING:tensorflow:Using a while_loop for converting IO>AudioResample\n"
     ]
    }
   ],
   "source": [
    "main_ds = main_ds.map(load_wav_for_map)"
   ]
  },
  {
   "cell_type": "code",
   "execution_count": null,
   "id": "5f8e514f",
   "metadata": {},
   "outputs": [
    {
     "data": {
      "text/plain": [
       "(TensorSpec(shape=<unknown>, dtype=tf.float32, name=None),\n",
       " TensorSpec(shape=(), dtype=tf.int64, name=None))"
      ]
     },
     "execution_count": 19,
     "metadata": {},
     "output_type": "execute_result"
    }
   ],
   "source": [
    "main_ds.element_spec"
   ]
  },
  {
   "cell_type": "markdown",
   "id": "21c26a5d",
   "metadata": {
    "papermill": {
     "duration": 0.021069,
     "end_time": "2023-03-20T16:30:00.268475",
     "exception": false,
     "start_time": "2023-03-20T16:30:00.247406",
     "status": "completed"
    },
    "tags": []
   },
   "source": [
    "## Loading the Model"
   ]
  },
  {
   "cell_type": "code",
   "execution_count": null,
   "id": "2453ccc1",
   "metadata": {
    "execution": {
     "iopub.execute_input": "2023-03-20T16:30:00.313445Z",
     "iopub.status.busy": "2023-03-20T16:30:00.312971Z",
     "iopub.status.idle": "2023-03-20T16:30:05.801777Z",
     "shell.execute_reply": "2023-03-20T16:30:05.800554Z"
    },
    "papermill": {
     "duration": 5.514932,
     "end_time": "2023-03-20T16:30:05.804853",
     "exception": false,
     "start_time": "2023-03-20T16:30:00.289921",
     "status": "completed"
    },
    "tags": []
   },
   "outputs": [],
   "source": [
    "yamnet_model_handle = 'https://kaggle.com/models/google/yamnet/frameworks/TensorFlow2/variations/yamnet/versions/1'\n",
    "yamnet_model = hub.load(yamnet_model_handle)"
   ]
  },
  {
   "cell_type": "code",
   "execution_count": null,
   "id": "8386ee91",
   "metadata": {
    "execution": {
     "iopub.execute_input": "2023-03-20T16:30:05.851830Z",
     "iopub.status.busy": "2023-03-20T16:30:05.851393Z",
     "iopub.status.idle": "2023-03-20T16:30:06.128430Z",
     "shell.execute_reply": "2023-03-20T16:30:06.126635Z"
    },
    "papermill": {
     "duration": 0.30468,
     "end_time": "2023-03-20T16:30:06.131829",
     "exception": false,
     "start_time": "2023-03-20T16:30:05.827149",
     "status": "completed"
    },
    "tags": []
   },
   "outputs": [
    {
     "data": {
      "text/plain": [
       "(TensorSpec(shape=(1024,), dtype=tf.float32, name=None),\n",
       " TensorSpec(shape=(), dtype=tf.int64, name=None))"
      ]
     },
     "execution_count": 21,
     "metadata": {},
     "output_type": "execute_result"
    }
   ],
   "source": [
    "# applies the embedding extraction model to a wav data\n",
    "def extract_embedding(wav_data, label):\n",
    "  ''' run YAMNet to extract embedding from the wav data '''\n",
    "  scores, embeddings, spectrogram = yamnet_model(wav_data)\n",
    "  num_embeddings = tf.shape(embeddings)[0]\n",
    "  return (embeddings,\n",
    "            tf.repeat(label, num_embeddings))\n",
    "\n",
    "# extract embedding\n",
    "main_ds = main_ds.map(extract_embedding).unbatch()\n",
    "main_ds.element_spec"
   ]
  },
  {
   "cell_type": "code",
   "execution_count": null,
   "id": "14711ed5",
   "metadata": {
    "execution": {
     "iopub.execute_input": "2023-03-20T16:30:06.179596Z",
     "iopub.status.busy": "2023-03-20T16:30:06.179141Z",
     "iopub.status.idle": "2023-03-20T16:30:06.186032Z",
     "shell.execute_reply": "2023-03-20T16:30:06.184639Z"
    },
    "papermill": {
     "duration": 0.03392,
     "end_time": "2023-03-20T16:30:06.189018",
     "exception": false,
     "start_time": "2023-03-20T16:30:06.155098",
     "status": "completed"
    },
    "tags": []
   },
   "outputs": [],
   "source": [
    "cached_ds = main_ds.cache()"
   ]
  },
  {
   "cell_type": "code",
   "execution_count": null,
   "id": "2873fee6",
   "metadata": {
    "execution": {
     "iopub.execute_input": "2023-03-20T16:30:06.234399Z",
     "iopub.status.busy": "2023-03-20T16:30:06.233935Z",
     "iopub.status.idle": "2023-03-20T16:30:06.243725Z",
     "shell.execute_reply": "2023-03-20T16:30:06.242421Z"
    },
    "papermill": {
     "duration": 0.036052,
     "end_time": "2023-03-20T16:30:06.246906",
     "exception": false,
     "start_time": "2023-03-20T16:30:06.210854",
     "status": "completed"
    },
    "tags": []
   },
   "outputs": [],
   "source": [
    "train_ds = cached_ds.cache().shuffle(1000).batch(32).repeat().prefetch(tf.data.AUTOTUNE)\n"
   ]
  },
  {
   "cell_type": "code",
   "execution_count": null,
   "id": "f5f8de19",
   "metadata": {
    "execution": {
     "iopub.execute_input": "2023-03-20T16:30:06.292549Z",
     "iopub.status.busy": "2023-03-20T16:30:06.292100Z",
     "iopub.status.idle": "2023-03-20T16:30:06.300934Z",
     "shell.execute_reply": "2023-03-20T16:30:06.299527Z"
    },
    "papermill": {
     "duration": 0.034794,
     "end_time": "2023-03-20T16:30:06.303578",
     "exception": false,
     "start_time": "2023-03-20T16:30:06.268784",
     "status": "completed"
    },
    "tags": []
   },
   "outputs": [
    {
     "data": {
      "text/plain": [
       "<PrefetchDataset shapes: ((None, 1024), (None,)), types: (tf.float32, tf.int64)>"
      ]
     },
     "execution_count": 24,
     "metadata": {},
     "output_type": "execute_result"
    }
   ],
   "source": [
    "train_ds"
   ]
  },
  {
   "cell_type": "code",
   "execution_count": null,
   "id": "530c3e82",
   "metadata": {
    "execution": {
     "iopub.execute_input": "2023-03-20T16:30:06.350075Z",
     "iopub.status.busy": "2023-03-20T16:30:06.349609Z",
     "iopub.status.idle": "2023-03-20T16:30:06.402510Z",
     "shell.execute_reply": "2023-03-20T16:30:06.400758Z"
    },
    "papermill": {
     "duration": 0.079332,
     "end_time": "2023-03-20T16:30:06.405846",
     "exception": false,
     "start_time": "2023-03-20T16:30:06.326514",
     "status": "completed"
    },
    "tags": []
   },
   "outputs": [
    {
     "name": "stdout",
     "output_type": "stream",
     "text": [
      "Model: \"my_model\"\n",
      "_________________________________________________________________\n",
      " Layer (type)                Output Shape              Param #   \n",
      "=================================================================\n",
      " dense (Dense)               (None, 512)               524800    \n",
      "                                                                 \n",
      " dense_1 (Dense)             (None, 2)                 1026      \n",
      "                                                                 \n",
      "=================================================================\n",
      "Total params: 525,826\n",
      "Trainable params: 525,826\n",
      "Non-trainable params: 0\n",
      "_________________________________________________________________\n"
     ]
    }
   ],
   "source": [
    "my_model = tf.keras.Sequential([\n",
    "    tf.keras.layers.Input(shape=(1024), dtype=tf.float32,\n",
    "                          name='input_embedding'),\n",
    "    tf.keras.layers.Dense(512, activation='relu'),\n",
    "    tf.keras.layers.Dense(len(classes))\n",
    "], name='my_model')\n",
    "\n",
    "my_model.summary()"
   ]
  },
  {
   "cell_type": "code",
   "execution_count": null,
   "id": "210ab465",
   "metadata": {
    "execution": {
     "iopub.execute_input": "2023-03-20T16:30:06.454050Z",
     "iopub.status.busy": "2023-03-20T16:30:06.452785Z",
     "iopub.status.idle": "2023-03-20T16:30:06.473250Z",
     "shell.execute_reply": "2023-03-20T16:30:06.471670Z"
    },
    "papermill": {
     "duration": 0.048122,
     "end_time": "2023-03-20T16:30:06.476339",
     "exception": false,
     "start_time": "2023-03-20T16:30:06.428217",
     "status": "completed"
    },
    "tags": []
   },
   "outputs": [],
   "source": [
    "my_model.compile(loss=tf.keras.losses.SparseCategoricalCrossentropy(from_logits=True),\n",
    "                 optimizer=\"adam\",\n",
    "                 metrics=['accuracy'])\n",
    "\n",
    "callback = tf.keras.callbacks.EarlyStopping(monitor='loss',\n",
    "                                            patience=3,\n",
    "                                            restore_best_weights=True)"
   ]
  },
  {
   "cell_type": "code",
   "execution_count": null,
   "id": "d2ee3c51",
   "metadata": {
    "execution": {
     "iopub.execute_input": "2023-03-20T16:30:06.523928Z",
     "iopub.status.busy": "2023-03-20T16:30:06.523381Z",
     "iopub.status.idle": "2023-03-20T16:30:06.529752Z",
     "shell.execute_reply": "2023-03-20T16:30:06.528057Z"
    },
    "papermill": {
     "duration": 0.034262,
     "end_time": "2023-03-20T16:30:06.532977",
     "exception": false,
     "start_time": "2023-03-20T16:30:06.498715",
     "status": "completed"
    },
    "tags": []
   },
   "outputs": [],
   "source": [
    "STEPS_PER_EPOCH = train_metadata.shape[0] // 32"
   ]
  },
  {
   "cell_type": "code",
   "execution_count": null,
   "id": "ca316fd6",
   "metadata": {},
   "outputs": [
    {
     "data": {
      "text/plain": [
       "11704"
      ]
     },
     "execution_count": 28,
     "metadata": {},
     "output_type": "execute_result"
    }
   ],
   "source": [
    "train_metadata.shape[0]"
   ]
  },
  {
   "cell_type": "markdown",
   "id": "6472d2c8",
   "metadata": {
    "papermill": {
     "duration": 0.020814,
     "end_time": "2023-03-20T16:30:06.575634",
     "exception": false,
     "start_time": "2023-03-20T16:30:06.554820",
     "status": "completed"
    },
    "tags": []
   },
   "source": [
    "## Training the Model"
   ]
  },
  {
   "cell_type": "code",
   "execution_count": null,
   "id": "3555b7bb",
   "metadata": {},
   "outputs": [
    {
     "data": {
      "text/plain": [
       "365"
      ]
     },
     "execution_count": 29,
     "metadata": {},
     "output_type": "execute_result"
    }
   ],
   "source": [
    "STEPS_PER_EPOCH"
   ]
  },
  {
   "cell_type": "code",
   "execution_count": null,
   "id": "6cfc2759",
   "metadata": {},
   "outputs": [
    {
     "data": {
      "text/plain": [
       "<PrefetchDataset shapes: ((None, 1024), (None,)), types: (tf.float32, tf.int64)>"
      ]
     },
     "execution_count": 30,
     "metadata": {},
     "output_type": "execute_result"
    }
   ],
   "source": [
    "train_ds"
   ]
  },
  {
   "cell_type": "code",
   "execution_count": null,
   "id": "0466e949",
   "metadata": {
    "execution": {
     "iopub.execute_input": "2023-03-20T16:30:06.620408Z",
     "iopub.status.busy": "2023-03-20T16:30:06.619953Z",
     "iopub.status.idle": "2023-03-20T16:31:46.474397Z",
     "shell.execute_reply": "2023-03-20T16:31:46.472901Z"
    },
    "papermill": {
     "duration": 99.880415,
     "end_time": "2023-03-20T16:31:46.477422",
     "exception": false,
     "start_time": "2023-03-20T16:30:06.597007",
     "status": "completed"
    },
    "tags": []
   },
   "outputs": [
    {
     "name": "stdout",
     "output_type": "stream",
     "text": [
      "Epoch 1/10\n",
      "365/365 [==============================] - 87s 212ms/step - loss: 0.0039 - accuracy: 0.9984\n",
      "Epoch 2/10\n",
      "365/365 [==============================] - 62s 170ms/step - loss: 0.0821 - accuracy: 0.9797\n",
      "Epoch 3/10\n",
      "365/365 [==============================] - 2s 5ms/step - loss: 1.7556e-05 - accuracy: 1.0000\n",
      "Epoch 4/10\n",
      "365/365 [==============================] - 1s 4ms/step - loss: 0.0674 - accuracy: 0.9822\n",
      "Epoch 5/10\n",
      "365/365 [==============================] - 3s 7ms/step - loss: 2.2610e-05 - accuracy: 1.0000\n",
      "Epoch 6/10\n",
      "365/365 [==============================] - 2s 7ms/step - loss: 0.0624 - accuracy: 0.9834\n",
      "Epoch 7/10\n",
      "365/365 [==============================] - 2s 7ms/step - loss: 3.5364e-05 - accuracy: 1.0000\n",
      "Epoch 8/10\n",
      "365/365 [==============================] - 3s 7ms/step - loss: 0.0530 - accuracy: 0.9855\n",
      "Epoch 9/10\n",
      "365/365 [==============================] - 2s 7ms/step - loss: 0.0065 - accuracy: 0.9982\n",
      "Epoch 10/10\n",
      "365/365 [==============================] - 2s 6ms/step - loss: 0.0358 - accuracy: 0.9888\n"
     ]
    }
   ],
   "source": [
    "history = my_model.fit(train_ds,\n",
    "                       steps_per_epoch = STEPS_PER_EPOCH,\n",
    "                       epochs=10)"
   ]
  },
  {
   "cell_type": "code",
   "execution_count": 56,
   "id": "6f99f18c",
   "metadata": {},
   "outputs": [
    {
     "name": "stdout",
     "output_type": "stream",
     "text": [
      "['data/Binary_Drone_Audio/yes_drone/B_S2_D1_089-bebop_003_.wav', 'data/Binary_Drone_Audio/yes_drone/Membo_2_016-membo_004_.wav', 'data/Binary_Drone_Audio/yes_drone/Membo_2_020-membo_004_.wav', 'data/Binary_Drone_Audio/yes_drone/B_S2_D1_086-bebop_001_.wav', 'data/Binary_Drone_Audio/yes_drone/mixed_membo_32-membo_003_.wav', 'data/Binary_Drone_Audio/yes_drone/mixed_membo_15-membo_000_.wav', 'data/Binary_Drone_Audio/yes_drone/mixed_membo_37-membo_001_.wav', 'data/Binary_Drone_Audio/yes_drone/B_S2_D1_082-bebop_001_.wav', 'data/Binary_Drone_Audio/yes_drone/mixed_membo_33-membo_004_.wav', 'data/Binary_Drone_Audio/yes_drone/mixed_membo_1-membo_001_.wav', 'data/Binary_Drone_Audio/yes_drone/Membo_0_040-membo_004_.wav', 'data/Binary_Drone_Audio/yes_drone/B_S2_D1_112-bebop_004_.wav', 'data/Binary_Drone_Audio/yes_drone/mixed_51-bebop_001_.wav', 'data/Binary_Drone_Audio/yes_drone/mixed_34-bebop_000_.wav', 'data/Binary_Drone_Audio/yes_drone/B_S2_D1_129-bebop_002_.wav', 'data/Binary_Drone_Audio/yes_drone/mixed_21-bebop_003_.wav', 'data/Binary_Drone_Audio/yes_drone/mixed_4-bebop_000_.wav', 'data/Binary_Drone_Audio/yes_drone/B_S2_D1_087-bebop_000_.wav', 'data/Binary_Drone_Audio/yes_drone/extra_membo_D2_2008.wav', 'data/Binary_Drone_Audio/yes_drone/B_S2_D1_079-bebop_003_.wav', 'data/Binary_Drone_Audio/yes_drone/extra_membo_D2_2000.wav', 'data/Binary_Drone_Audio/yes_drone/mixed_membo_5-membo_001_.wav', 'data/Binary_Drone_Audio/yes_drone/B_S2_D1_087-bebop_004_.wav', 'data/Binary_Drone_Audio/yes_drone/mixed_32-bebop_001_.wav', 'data/Binary_Drone_Audio/yes_drone/mixed_membo_59-membo_001_.wav', 'data/Binary_Drone_Audio/yes_drone/B_S2_D1_132-bebop_004_.wav', 'data/Binary_Drone_Audio/yes_drone/B_S2_D1_116-bebop_000_.wav', 'data/Binary_Drone_Audio/yes_drone/B_S2_D1_123-bebop_004_.wav', 'data/Binary_Drone_Audio/yes_drone/B_S2_D1_075-bebop_000_.wav', 'data/Binary_Drone_Audio/yes_drone/mixed_15-bebop_001_.wav', 'data/Binary_Drone_Audio/yes_drone/mixed_membo_31-membo_004_.wav', 'data/Binary_Drone_Audio/yes_drone/mixed_23-bebop_004_.wav', 'data/Binary_Drone_Audio/yes_drone/mixed_membo_52-membo_004_.wav', 'data/Binary_Drone_Audio/yes_drone/mixed_41-bebop_004_.wav', 'data/Binary_Drone_Audio/yes_drone/mixed_44-bebop_003_.wav', 'data/Binary_Drone_Audio/yes_drone/B_S2_D1_076-bebop_004_.wav', 'data/Binary_Drone_Audio/yes_drone/mixed_membo_37-membo_000_.wav', 'data/Binary_Drone_Audio/yes_drone/mixed_62-bebop_003_.wav', 'data/Binary_Drone_Audio/yes_drone/mixed_3-bebop_003_.wav', 'data/Binary_Drone_Audio/yes_drone/B_S2_D1_120-bebop_001_.wav', 'data/Binary_Drone_Audio/yes_drone/B_S2_D1_073-bebop_003_.wav', 'data/Binary_Drone_Audio/yes_drone/mixed_membo_55-membo_002_.wav', 'data/Binary_Drone_Audio/yes_drone/B_S2_D1_130-bebop_004_.wav', 'data/Binary_Drone_Audio/yes_drone/mixed_34-bebop_003_.wav', 'data/Binary_Drone_Audio/yes_drone/B_S2_D1_125-bebop_001_.wav', 'data/Binary_Drone_Audio/yes_drone/mixed_membo_30-membo_001_.wav', 'data/Binary_Drone_Audio/yes_drone/mixed_membo_32-membo_002_.wav', 'data/Binary_Drone_Audio/yes_drone/B_S2_D1_118-bebop_003_.wav', 'data/Binary_Drone_Audio/yes_drone/B_S2_D1_106-bebop_001_.wav', 'data/Binary_Drone_Audio/yes_drone/mixed_membo_7-membo_002_.wav', 'data/Binary_Drone_Audio/yes_drone/Membo_0_037-membo_000_.wav', 'data/Binary_Drone_Audio/yes_drone/B_S2_D1_079-bebop_001_.wav', 'data/Binary_Drone_Audio/yes_drone/mixed_membo_53-membo_002_.wav', 'data/Binary_Drone_Audio/yes_drone/B_S2_D1_089-bebop_000_.wav', 'data/Binary_Drone_Audio/yes_drone/B_S2_D1_130-bebop_000_.wav', 'data/Binary_Drone_Audio/yes_drone/mixed_61-bebop_002_.wav', 'data/Binary_Drone_Audio/yes_drone/mixed_membo_7-membo_001_.wav', 'data/Binary_Drone_Audio/yes_drone/B_S2_D1_085-bebop_002_.wav', 'data/Binary_Drone_Audio/yes_drone/Membo_0_012-membo_001_.wav', 'data/Binary_Drone_Audio/yes_drone/extra_membo_D2_2026.wav', 'data/Binary_Drone_Audio/yes_drone/Membo_0_002-membo_000_.wav', 'data/Binary_Drone_Audio/yes_drone/Membo_1_034-membo_004_.wav', 'data/Binary_Drone_Audio/yes_drone/Membo_0_009-membo_001_.wav', 'data/Binary_Drone_Audio/yes_drone/mixed_62-bebop_001_.wav', 'data/Binary_Drone_Audio/yes_drone/Membo_0_010-membo_000_.wav', 'data/Binary_Drone_Audio/yes_drone/mixed_63-bebop_002_.wav', 'data/Binary_Drone_Audio/yes_drone/B_S2_D1_098-bebop_000_.wav', 'data/Binary_Drone_Audio/yes_drone/B_S2_D1_094-bebop_004_.wav', 'data/Binary_Drone_Audio/yes_drone/mixed_39-bebop_004_.wav', 'data/Binary_Drone_Audio/yes_drone/B_S2_D1_109-bebop_002_.wav', 'data/Binary_Drone_Audio/yes_drone/mixed_membo_4-membo_000_.wav', 'data/Binary_Drone_Audio/yes_drone/B_S2_D1_112-bebop_002_.wav', 'data/Binary_Drone_Audio/yes_drone/extra_membo_D2_2040.wav', 'data/Binary_Drone_Audio/yes_drone/mixed_48-bebop_000_.wav', 'data/Binary_Drone_Audio/yes_drone/mixed_34-bebop_004_.wav', 'data/Binary_Drone_Audio/yes_drone/B_S2_D1_099-bebop_002_.wav', 'data/Binary_Drone_Audio/yes_drone/extra_membo_D2_2028.wav', 'data/Binary_Drone_Audio/yes_drone/B_S2_D1_132-bebop_000_.wav', 'data/Binary_Drone_Audio/yes_drone/B_S2_D1_129-bebop_000_.wav', 'data/Binary_Drone_Audio/yes_drone/Membo_2_014-membo_004_.wav', 'data/Binary_Drone_Audio/yes_drone/Membo_0_004-membo_003_.wav', 'data/Binary_Drone_Audio/yes_drone/Membo_0_014-membo_001_.wav', 'data/Binary_Drone_Audio/yes_drone/Membo_0_004-membo_002_.wav', 'data/Binary_Drone_Audio/yes_drone/mixed_44-bebop_001_.wav', 'data/Binary_Drone_Audio/yes_drone/mixed_membo_20-membo_003_.wav', 'data/Binary_Drone_Audio/yes_drone/mixed_49-bebop_000_.wav', 'data/Binary_Drone_Audio/yes_drone/mixed_membo_44-membo_004_.wav', 'data/Binary_Drone_Audio/yes_drone/mixed_membo_56-membo_003_.wav', 'data/Binary_Drone_Audio/yes_drone/B_S2_D1_129-bebop_003_.wav', 'data/Binary_Drone_Audio/yes_drone/Membo_1_033-membo_001_.wav', 'data/Binary_Drone_Audio/yes_drone/mixed_membo_57-membo_002_.wav', 'data/Binary_Drone_Audio/yes_drone/B_S2_D1_073-bebop_001_.wav', 'data/Binary_Drone_Audio/yes_drone/B_S2_D1_070-bebop_003_.wav', 'data/Binary_Drone_Audio/yes_drone/B_S2_D1_125-bebop_004_.wav', 'data/Binary_Drone_Audio/yes_drone/mixed_13-bebop_003_.wav', 'data/Binary_Drone_Audio/yes_drone/mixed_membo_43-membo_003_.wav', 'data/Binary_Drone_Audio/yes_drone/mixed_51-bebop_003_.wav', 'data/Binary_Drone_Audio/yes_drone/Membo_1_045-membo_000_.wav', 'data/Binary_Drone_Audio/yes_drone/B_S2_D1_126-bebop_001_.wav', 'data/Binary_Drone_Audio/yes_drone/mixed_membo_13-membo_002_.wav', 'data/Binary_Drone_Audio/yes_drone/B_S2_D1_103-bebop_004_.wav', 'data/Binary_Drone_Audio/yes_drone/mixed_membo_8-membo_002_.wav', 'data/Binary_Drone_Audio/yes_drone/Membo_0_037-membo_001_.wav', 'data/Binary_Drone_Audio/yes_drone/mixed_54-bebop_001_.wav', 'data/Binary_Drone_Audio/yes_drone/mixed_membo_16-membo_001_.wav', 'data/Binary_Drone_Audio/yes_drone/mixed_membo_11-membo_003_.wav', 'data/Binary_Drone_Audio/yes_drone/mixed_55-bebop_004_.wav', 'data/Binary_Drone_Audio/yes_drone/mixed_membo_26-membo_004_.wav', 'data/Binary_Drone_Audio/yes_drone/B_S2_D1_132-bebop_001_.wav', 'data/Binary_Drone_Audio/yes_drone/Membo_0_013-membo_000_.wav', 'data/Binary_Drone_Audio/yes_drone/mixed_57-bebop_000_.wav', 'data/Binary_Drone_Audio/yes_drone/mixed_47-bebop_000_.wav', 'data/Binary_Drone_Audio/yes_drone/mixed_14-bebop_004_.wav', 'data/Binary_Drone_Audio/yes_drone/B_S2_D1_105-bebop_001_.wav', 'data/Binary_Drone_Audio/yes_drone/mixed_1-bebop_004_.wav', 'data/Binary_Drone_Audio/yes_drone/mixed_23-bebop_002_.wav', 'data/Binary_Drone_Audio/yes_drone/Membo_2_014-membo_001_.wav', 'data/Binary_Drone_Audio/yes_drone/Membo_2_010-membo_003_.wav', 'data/Binary_Drone_Audio/yes_drone/mixed_membo_52-membo_001_.wav', 'data/Binary_Drone_Audio/yes_drone/B_S2_D1_101-bebop_003_.wav', 'data/Binary_Drone_Audio/yes_drone/Membo_2_016-membo_000_.wav', 'data/Binary_Drone_Audio/yes_drone/mixed_membo_27-membo_004_.wav', 'data/Binary_Drone_Audio/yes_drone/mixed_membo_37-membo_004_.wav', 'data/Binary_Drone_Audio/yes_drone/Membo_0_013-membo_004_.wav', 'data/Binary_Drone_Audio/yes_drone/Membo_0_034-membo_001_.wav', 'data/Binary_Drone_Audio/yes_drone/Membo_0_036-membo_001_.wav', 'data/Binary_Drone_Audio/yes_drone/B_S2_D1_075-bebop_003_.wav', 'data/Binary_Drone_Audio/yes_drone/B_S2_D1_070-bebop_000_.wav', 'data/Binary_Drone_Audio/yes_drone/mixed_membo_22-membo_004_.wav', 'data/Binary_Drone_Audio/yes_drone/mixed_membo_57-membo_001_.wav', 'data/Binary_Drone_Audio/yes_drone/mixed_membo_5-membo_003_.wav', 'data/Binary_Drone_Audio/yes_drone/mixed_membo_10-membo_004_.wav', 'data/Binary_Drone_Audio/yes_drone/mixed_membo_10-membo_003_.wav', 'data/Binary_Drone_Audio/yes_drone/mixed_membo_36-membo_000_.wav', 'data/Binary_Drone_Audio/yes_drone/mixed_62-bebop_000_.wav', 'data/Binary_Drone_Audio/yes_drone/Membo_0_008-membo_003_.wav', 'data/Binary_Drone_Audio/yes_drone/mixed_membo_24-membo_002_.wav', 'data/Binary_Drone_Audio/yes_drone/mixed_membo_40-membo_000_.wav', 'data/Binary_Drone_Audio/yes_drone/B_S2_D1_131-bebop_000_.wav', 'data/Binary_Drone_Audio/yes_drone/Membo_1_033-membo_002_.wav', 'data/Binary_Drone_Audio/yes_drone/mixed_28-bebop_004_.wav', 'data/Binary_Drone_Audio/yes_drone/mixed_membo_25-membo_001_.wav', 'data/Binary_Drone_Audio/yes_drone/mixed_14-bebop_001_.wav', 'data/Binary_Drone_Audio/yes_drone/mixed_membo_9-membo_004_.wav', 'data/Binary_Drone_Audio/yes_drone/Membo_0_013-membo_002_.wav', 'data/Binary_Drone_Audio/yes_drone/mixed_43-bebop_001_.wav', 'data/Binary_Drone_Audio/yes_drone/mixed_membo_58-membo_000_.wav', 'data/Binary_Drone_Audio/yes_drone/Membo_1_044-membo_000_.wav', 'data/Binary_Drone_Audio/yes_drone/mixed_65-bebop_004_.wav', 'data/Binary_Drone_Audio/yes_drone/B_S2_D1_073-bebop_000_.wav', 'data/Binary_Drone_Audio/yes_drone/mixed_membo_36-membo_001_.wav', 'data/Binary_Drone_Audio/yes_drone/mixed_0-bebop_000_.wav', 'data/Binary_Drone_Audio/yes_drone/mixed_36-bebop_004_.wav', 'data/Binary_Drone_Audio/yes_drone/extra_membo_D2_2020.wav', 'data/Binary_Drone_Audio/yes_drone/mixed_17-bebop_001_.wav', 'data/Binary_Drone_Audio/yes_drone/B_S2_D1_132-bebop_002_.wav', 'data/Binary_Drone_Audio/yes_drone/Membo_1_041-membo_003_.wav', 'data/Binary_Drone_Audio/yes_drone/Membo_0_012-membo_002_.wav', 'data/Binary_Drone_Audio/yes_drone/mixed_membo_65-membo_001_.wav', 'data/Binary_Drone_Audio/yes_drone/mixed_membo_44-membo_002_.wav', 'data/Binary_Drone_Audio/yes_drone/Membo_0_002-membo_003_.wav', 'data/Binary_Drone_Audio/yes_drone/B_S2_D1_088-bebop_002_.wav', 'data/Binary_Drone_Audio/yes_drone/Membo_1_048-membo_002_.wav', 'data/Binary_Drone_Audio/yes_drone/mixed_33-bebop_002_.wav', 'data/Binary_Drone_Audio/yes_drone/Membo_1_043-membo_001_.wav', 'data/Binary_Drone_Audio/yes_drone/mixed_membo_2-membo_003_.wav', 'data/Binary_Drone_Audio/yes_drone/B_S2_D1_122-bebop_001_.wav', 'data/Binary_Drone_Audio/yes_drone/mixed_membo_17-membo_004_.wav', 'data/Binary_Drone_Audio/yes_drone/Membo_1_030-membo_004_.wav', 'data/Binary_Drone_Audio/yes_drone/mixed_48-bebop_002_.wav', 'data/Binary_Drone_Audio/yes_drone/mixed_44-bebop_004_.wav', 'data/Binary_Drone_Audio/yes_drone/B_S2_D1_103-bebop_001_.wav', 'data/Binary_Drone_Audio/yes_drone/mixed_membo_15-membo_002_.wav', 'data/Binary_Drone_Audio/yes_drone/mixed_6-bebop_002_.wav', 'data/Binary_Drone_Audio/yes_drone/extra_membo_D2_2045.wav', 'data/Binary_Drone_Audio/yes_drone/Membo_1_004-membo_002_.wav', 'data/Binary_Drone_Audio/yes_drone/B_S2_D1_126-bebop_003_.wav', 'data/Binary_Drone_Audio/yes_drone/mixed_12-bebop_002_.wav', 'data/Binary_Drone_Audio/yes_drone/B_S2_D1_128-bebop_004_.wav', 'data/Binary_Drone_Audio/yes_drone/B_S2_D1_086-bebop_003_.wav', 'data/Binary_Drone_Audio/yes_drone/B_S2_D1_109-bebop_003_.wav', 'data/Binary_Drone_Audio/yes_drone/mixed_membo_22-membo_001_.wav', 'data/Binary_Drone_Audio/yes_drone/mixed_membo_0-membo_003_.wav', 'data/Binary_Drone_Audio/yes_drone/B_S2_D1_096-bebop_004_.wav', 'data/Binary_Drone_Audio/yes_drone/mixed_40-bebop_000_.wav', 'data/Binary_Drone_Audio/yes_drone/B_S2_D1_101-bebop_002_.wav', 'data/Binary_Drone_Audio/yes_drone/B_S2_D1_099-bebop_001_.wav', 'data/Binary_Drone_Audio/yes_drone/B_S2_D1_121-bebop_003_.wav', 'data/Binary_Drone_Audio/yes_drone/Membo_1_002-membo_000_.wav', 'data/Binary_Drone_Audio/yes_drone/mixed_membo_62-membo_004_.wav', 'data/Binary_Drone_Audio/yes_drone/B_S2_D1_121-bebop_004_.wav', 'data/Binary_Drone_Audio/yes_drone/B_S2_D1_108-bebop_003_.wav', 'data/Binary_Drone_Audio/yes_drone/mixed_membo_26-membo_003_.wav', 'data/Binary_Drone_Audio/yes_drone/Membo_2_027-membo_003_.wav', 'data/Binary_Drone_Audio/yes_drone/Membo_0_038-membo_000_.wav', 'data/Binary_Drone_Audio/yes_drone/mixed_60-bebop_004_.wav', 'data/Binary_Drone_Audio/yes_drone/mixed_membo_24-membo_001_.wav', 'data/Binary_Drone_Audio/yes_drone/B_S2_D1_116-bebop_004_.wav', 'data/Binary_Drone_Audio/yes_drone/B_S2_D1_108-bebop_002_.wav', 'data/Binary_Drone_Audio/yes_drone/mixed_66-bebop_001_.wav', 'data/Binary_Drone_Audio/yes_drone/B_S2_D1_119-bebop_000_.wav', 'data/Binary_Drone_Audio/yes_drone/mixed_66-bebop_000_.wav', 'data/Binary_Drone_Audio/yes_drone/mixed_membo_54-membo_004_.wav', 'data/Binary_Drone_Audio/yes_drone/mixed_46-bebop_000_.wav', 'data/Binary_Drone_Audio/yes_drone/mixed_membo_25-membo_002_.wav', 'data/Binary_Drone_Audio/yes_drone/B_S2_D1_103-bebop_003_.wav', 'data/Binary_Drone_Audio/yes_drone/Membo_2_014-membo_002_.wav', 'data/Binary_Drone_Audio/yes_drone/mixed_10-bebop_004_.wav', 'data/Binary_Drone_Audio/yes_drone/B_S2_D1_130-bebop_001_.wav', 'data/Binary_Drone_Audio/yes_drone/B_S2_D1_131-bebop_002_.wav', 'data/Binary_Drone_Audio/yes_drone/extra_membo_D2_2031.wav', 'data/Binary_Drone_Audio/yes_drone/mixed_2-bebop_000_.wav', 'data/Binary_Drone_Audio/yes_drone/B_S2_D1_095-bebop_004_.wav', 'data/Binary_Drone_Audio/yes_drone/Membo_2_016-membo_002_.wav', 'data/Binary_Drone_Audio/yes_drone/B_S2_D1_111-bebop_002_.wav', 'data/Binary_Drone_Audio/yes_drone/mixed_32-bebop_004_.wav', 'data/Binary_Drone_Audio/yes_drone/B_S2_D1_118-bebop_004_.wav', 'data/Binary_Drone_Audio/yes_drone/B_S2_D1_122-bebop_004_.wav', 'data/Binary_Drone_Audio/yes_drone/mixed_58-bebop_001_.wav', 'data/Binary_Drone_Audio/yes_drone/B_S2_D1_097-bebop_003_.wav', 'data/Binary_Drone_Audio/yes_drone/B_S2_D1_126-bebop_002_.wav', 'data/Binary_Drone_Audio/yes_drone/mixed_membo_64-membo_003_.wav', 'data/Binary_Drone_Audio/yes_drone/Membo_0_005-membo_002_.wav', 'data/Binary_Drone_Audio/yes_drone/mixed_1-bebop_001_.wav', 'data/Binary_Drone_Audio/yes_drone/B_S2_D1_133-bebop_000_.wav', 'data/Binary_Drone_Audio/yes_drone/mixed_membo_33-membo_003_.wav', 'data/Binary_Drone_Audio/yes_drone/Membo_1_000-membo_002_.wav', 'data/Binary_Drone_Audio/yes_drone/mixed_membo_25-membo_004_.wav', 'data/Binary_Drone_Audio/yes_drone/Membo_2_027-membo_004_.wav', 'data/Binary_Drone_Audio/yes_drone/Membo_0_012-membo_003_.wav', 'data/Binary_Drone_Audio/yes_drone/B_S2_D1_075-bebop_002_.wav', 'data/Binary_Drone_Audio/yes_drone/mixed_3-bebop_001_.wav', 'data/Binary_Drone_Audio/yes_drone/mixed_41-bebop_000_.wav', 'data/Binary_Drone_Audio/yes_drone/mixed_64-bebop_000_.wav', 'data/Binary_Drone_Audio/yes_drone/mixed_membo_32-membo_000_.wav', 'data/Binary_Drone_Audio/yes_drone/B_S2_D1_098-bebop_001_.wav', 'data/Binary_Drone_Audio/yes_drone/mixed_membo_1-membo_004_.wav', 'data/Binary_Drone_Audio/yes_drone/mixed_56-bebop_003_.wav', 'data/Binary_Drone_Audio/yes_drone/mixed_membo_46-membo_002_.wav', 'data/Binary_Drone_Audio/yes_drone/mixed_12-bebop_000_.wav', 'data/Binary_Drone_Audio/yes_drone/mixed_membo_29-membo_001_.wav', 'data/Binary_Drone_Audio/yes_drone/Membo_2_016-membo_003_.wav', 'data/Binary_Drone_Audio/yes_drone/B_S2_D1_113-bebop_002_.wav', 'data/Binary_Drone_Audio/yes_drone/mixed_22-bebop_004_.wav', 'data/Binary_Drone_Audio/yes_drone/Membo_0_007-membo_003_.wav', 'data/Binary_Drone_Audio/yes_drone/mixed_membo_39-membo_003_.wav', 'data/Binary_Drone_Audio/yes_drone/mixed_membo_65-membo_003_.wav', 'data/Binary_Drone_Audio/yes_drone/B_S2_D1_131-bebop_003_.wav', 'data/Binary_Drone_Audio/yes_drone/B_S2_D1_117-bebop_002_.wav', 'data/Binary_Drone_Audio/yes_drone/mixed_membo_52-membo_000_.wav', 'data/Binary_Drone_Audio/yes_drone/Membo_1_004-membo_001_.wav', 'data/Binary_Drone_Audio/yes_drone/B_S2_D1_105-bebop_004_.wav', 'data/Binary_Drone_Audio/yes_drone/Membo_0_006-membo_003_.wav', 'data/Binary_Drone_Audio/yes_drone/mixed_12-bebop_004_.wav', 'data/Binary_Drone_Audio/yes_drone/mixed_52-bebop_004_.wav', 'data/Binary_Drone_Audio/yes_drone/B_S2_D1_094-bebop_001_.wav', 'data/Binary_Drone_Audio/yes_drone/B_S2_D1_089-bebop_004_.wav', 'data/Binary_Drone_Audio/yes_drone/mixed_membo_22-membo_002_.wav', 'data/Binary_Drone_Audio/yes_drone/B_S2_D1_110-bebop_001_.wav', 'data/Binary_Drone_Audio/yes_drone/B_S2_D1_103-bebop_002_.wav', 'data/Binary_Drone_Audio/yes_drone/Membo_1_000-membo_000_.wav', 'data/Binary_Drone_Audio/yes_drone/B_S2_D1_116-bebop_002_.wav', 'data/Binary_Drone_Audio/yes_drone/Membo_2_027-membo_001_.wav', 'data/Binary_Drone_Audio/yes_drone/B_S2_D1_078-bebop_004_.wav', 'data/Binary_Drone_Audio/yes_drone/mixed_22-bebop_000_.wav', 'data/Binary_Drone_Audio/yes_drone/Membo_0_041-membo_003_.wav', 'data/Binary_Drone_Audio/yes_drone/Membo_0_007-membo_000_.wav', 'data/Binary_Drone_Audio/yes_drone/Membo_0_006-membo_002_.wav', 'data/Binary_Drone_Audio/yes_drone/Membo_1_045-membo_001_.wav', 'data/Binary_Drone_Audio/yes_drone/mixed_62-bebop_004_.wav', 'data/Binary_Drone_Audio/yes_drone/B_S2_D1_071-bebop_004_.wav', 'data/Binary_Drone_Audio/yes_drone/B_S2_D1_086-bebop_002_.wav', 'data/Binary_Drone_Audio/yes_drone/mixed_membo_22-membo_000_.wav', 'data/Binary_Drone_Audio/yes_drone/Membo_0_013-membo_003_.wav', 'data/Binary_Drone_Audio/yes_drone/mixed_membo_51-membo_002_.wav', 'data/Binary_Drone_Audio/yes_drone/Membo_0_040-membo_002_.wav', 'data/Binary_Drone_Audio/yes_drone/extra_membo_D2_2004.wav', 'data/Binary_Drone_Audio/yes_drone/B_S2_D1_112-bebop_003_.wav', 'data/Binary_Drone_Audio/yes_drone/Membo_2_013-membo_000_.wav', 'data/Binary_Drone_Audio/yes_drone/B_S2_D1_111-bebop_000_.wav', 'data/Binary_Drone_Audio/yes_drone/B_S2_D1_093-bebop_001_.wav', 'data/Binary_Drone_Audio/yes_drone/mixed_58-bebop_004_.wav', 'data/Binary_Drone_Audio/yes_drone/mixed_55-bebop_002_.wav', 'data/Binary_Drone_Audio/yes_drone/B_S2_D1_067-bebop_001_.wav', 'data/Binary_Drone_Audio/yes_drone/B_S2_D1_080-bebop_004_.wav', 'data/Binary_Drone_Audio/yes_drone/mixed_27-bebop_002_.wav', 'data/Binary_Drone_Audio/yes_drone/Membo_1_001-membo_000_.wav', 'data/Binary_Drone_Audio/yes_drone/extra_membo_D2_2047.wav', 'data/Binary_Drone_Audio/yes_drone/mixed_31-bebop_002_.wav', 'data/Binary_Drone_Audio/yes_drone/B_S2_D1_070-bebop_004_.wav', 'data/Binary_Drone_Audio/yes_drone/B_S2_D1_123-bebop_001_.wav', 'data/Binary_Drone_Audio/yes_drone/B_S2_D1_105-bebop_000_.wav', 'data/Binary_Drone_Audio/yes_drone/mixed_membo_21-membo_000_.wav', 'data/Binary_Drone_Audio/yes_drone/mixed_membo_4-membo_003_.wav', 'data/Binary_Drone_Audio/yes_drone/mixed_membo_44-membo_000_.wav', 'data/Binary_Drone_Audio/yes_drone/extra_membo_D2_2053.wav', 'data/Binary_Drone_Audio/yes_drone/mixed_42-bebop_004_.wav', 'data/Binary_Drone_Audio/yes_drone/mixed_23-bebop_001_.wav', 'data/Binary_Drone_Audio/yes_drone/mixed_48-bebop_001_.wav', 'data/Binary_Drone_Audio/yes_drone/mixed_18-bebop_000_.wav', 'data/Binary_Drone_Audio/yes_drone/B_S2_D1_082-bebop_002_.wav', 'data/Binary_Drone_Audio/yes_drone/mixed_membo_23-membo_003_.wav', 'data/Binary_Drone_Audio/yes_drone/mixed_19-bebop_000_.wav', 'data/Binary_Drone_Audio/yes_drone/B_S2_D1_085-bebop_004_.wav', 'data/Binary_Drone_Audio/yes_drone/Membo_2_027-membo_000_.wav', 'data/Binary_Drone_Audio/yes_drone/mixed_membo_53-membo_003_.wav', 'data/Binary_Drone_Audio/yes_drone/Membo_0_017-membo_001_.wav', 'data/Binary_Drone_Audio/yes_drone/extra_membo_D2_2035.wav', 'data/Binary_Drone_Audio/yes_drone/mixed_membo_39-membo_000_.wav', 'data/Binary_Drone_Audio/yes_drone/mixed_7-bebop_000_.wav', 'data/Binary_Drone_Audio/yes_drone/mixed_membo_11-membo_004_.wav', 'data/Binary_Drone_Audio/yes_drone/mixed_membo_21-membo_002_.wav', 'data/Binary_Drone_Audio/yes_drone/B_S2_D1_115-bebop_004_.wav', 'data/Binary_Drone_Audio/yes_drone/B_S2_D1_079-bebop_000_.wav', 'data/Binary_Drone_Audio/yes_drone/mixed_64-bebop_002_.wav', 'data/Binary_Drone_Audio/yes_drone/Membo_2_017-membo_001_.wav', 'data/Binary_Drone_Audio/yes_drone/B_S2_D1_125-bebop_002_.wav', 'data/Binary_Drone_Audio/yes_drone/Membo_0_005-membo_000_.wav', 'data/Binary_Drone_Audio/yes_drone/mixed_13-bebop_000_.wav', 'data/Binary_Drone_Audio/yes_drone/mixed_membo_9-membo_003_.wav', 'data/Binary_Drone_Audio/yes_drone/Membo_0_009-membo_000_.wav', 'data/Binary_Drone_Audio/yes_drone/B_S2_D1_101-bebop_001_.wav', 'data/Binary_Drone_Audio/yes_drone/mixed_membo_16-membo_003_.wav', 'data/Binary_Drone_Audio/yes_drone/mixed_34-bebop_002_.wav', 'data/Binary_Drone_Audio/yes_drone/mixed_47-bebop_001_.wav', 'data/Binary_Drone_Audio/yes_drone/Membo_1_001-membo_001_.wav', 'data/Binary_Drone_Audio/yes_drone/mixed_membo_4-membo_001_.wav', 'data/Binary_Drone_Audio/yes_drone/mixed_65-bebop_003_.wav', 'data/Binary_Drone_Audio/yes_drone/Membo_0_014-membo_003_.wav', 'data/Binary_Drone_Audio/yes_drone/Membo_1_042-membo_004_.wav', 'data/Binary_Drone_Audio/yes_drone/B_S2_D1_067-bebop_000_.wav', 'data/Binary_Drone_Audio/yes_drone/mixed_20-bebop_001_.wav', 'data/Binary_Drone_Audio/yes_drone/B_S2_D1_115-bebop_001_.wav', 'data/Binary_Drone_Audio/yes_drone/mixed_membo_6-membo_003_.wav', 'data/Binary_Drone_Audio/yes_drone/B_S2_D1_085-bebop_003_.wav', 'data/Binary_Drone_Audio/yes_drone/mixed_membo_50-membo_004_.wav', 'data/Binary_Drone_Audio/yes_drone/mixed_membo_62-membo_003_.wav', 'data/Binary_Drone_Audio/yes_drone/B_S2_D1_080-bebop_000_.wav', 'data/Binary_Drone_Audio/yes_drone/mixed_membo_8-membo_000_.wav', 'data/Binary_Drone_Audio/yes_drone/mixed_26-bebop_004_.wav', 'data/Binary_Drone_Audio/yes_drone/mixed_7-bebop_001_.wav', 'data/Binary_Drone_Audio/yes_drone/Membo_0_015-membo_002_.wav', 'data/Binary_Drone_Audio/yes_drone/Membo_0_016-membo_000_.wav', 'data/Binary_Drone_Audio/yes_drone/mixed_51-bebop_000_.wav', 'data/Binary_Drone_Audio/yes_drone/Membo_2_028-membo_002_.wav', 'data/Binary_Drone_Audio/yes_drone/B_S2_D1_088-bebop_003_.wav', 'data/Binary_Drone_Audio/yes_drone/B_S2_D1_092-bebop_000_.wav', 'data/Binary_Drone_Audio/yes_drone/B_S2_D1_084-bebop_003_.wav', 'data/Binary_Drone_Audio/yes_drone/Membo_0_000-membo_000_.wav', 'data/Binary_Drone_Audio/yes_drone/B_S2_D1_124-bebop_000_.wav', 'data/Binary_Drone_Audio/yes_drone/mixed_membo_41-membo_001_.wav', 'data/Binary_Drone_Audio/yes_drone/mixed_membo_6-membo_000_.wav', 'data/Binary_Drone_Audio/yes_drone/mixed_membo_54-membo_001_.wav', 'data/Binary_Drone_Audio/yes_drone/Membo_0_010-membo_003_.wav', 'data/Binary_Drone_Audio/yes_drone/Membo_0_034-membo_002_.wav', 'data/Binary_Drone_Audio/yes_drone/B_S2_D1_100-bebop_004_.wav', 'data/Binary_Drone_Audio/yes_drone/mixed_49-bebop_002_.wav', 'data/Binary_Drone_Audio/yes_drone/B_S2_D1_081-bebop_002_.wav', 'data/Binary_Drone_Audio/yes_drone/B_S2_D1_117-bebop_000_.wav', 'data/Binary_Drone_Audio/yes_drone/B_S2_D1_092-bebop_003_.wav', 'data/Binary_Drone_Audio/yes_drone/B_S2_D1_108-bebop_004_.wav', 'data/Binary_Drone_Audio/yes_drone/Membo_0_003-membo_003_.wav', 'data/Binary_Drone_Audio/yes_drone/B_S2_D1_107-bebop_004_.wav', 'data/Binary_Drone_Audio/yes_drone/Membo_0_041-membo_000_.wav', 'data/Binary_Drone_Audio/yes_drone/mixed_24-bebop_000_.wav', 'data/Binary_Drone_Audio/yes_drone/B_S2_D1_105-bebop_002_.wav', 'data/Binary_Drone_Audio/yes_drone/mixed_membo_14-membo_003_.wav', 'data/Binary_Drone_Audio/yes_drone/Membo_1_048-membo_004_.wav', 'data/Binary_Drone_Audio/yes_drone/B_S2_D1_068-bebop_004_.wav', 'data/Binary_Drone_Audio/yes_drone/Membo_0_037-membo_003_.wav', 'data/Binary_Drone_Audio/yes_drone/Membo_0_040-membo_001_.wav', 'data/Binary_Drone_Audio/yes_drone/mixed_membo_55-membo_004_.wav', 'data/Binary_Drone_Audio/yes_drone/mixed_membo_38-membo_001_.wav', 'data/Binary_Drone_Audio/yes_drone/B_S2_D1_071-bebop_001_.wav', 'data/Binary_Drone_Audio/yes_drone/mixed_49-bebop_004_.wav', 'data/Binary_Drone_Audio/yes_drone/B_S2_D1_097-bebop_004_.wav', 'data/Binary_Drone_Audio/yes_drone/mixed_2-bebop_003_.wav', 'data/Binary_Drone_Audio/yes_drone/extra_membo_D2_2013.wav', 'data/Binary_Drone_Audio/yes_drone/B_S2_D1_069-bebop_004_.wav', 'data/Binary_Drone_Audio/yes_drone/mixed_membo_17-membo_000_.wav', 'data/Binary_Drone_Audio/yes_drone/Membo_0_036-membo_003_.wav', 'data/Binary_Drone_Audio/yes_drone/B_S2_D1_124-bebop_002_.wav', 'data/Binary_Drone_Audio/yes_drone/B_S2_D1_068-bebop_002_.wav', 'data/Binary_Drone_Audio/yes_drone/mixed_13-bebop_001_.wav', 'data/Binary_Drone_Audio/yes_drone/mixed_membo_48-membo_002_.wav', 'data/Binary_Drone_Audio/yes_drone/B_S2_D1_123-bebop_000_.wav', 'data/Binary_Drone_Audio/yes_drone/Membo_0_034-membo_004_.wav', 'data/Binary_Drone_Audio/yes_drone/mixed_membo_50-membo_002_.wav', 'data/Binary_Drone_Audio/yes_drone/mixed_membo_31-membo_000_.wav', 'data/Binary_Drone_Audio/yes_drone/mixed_15-bebop_002_.wav', 'data/Binary_Drone_Audio/yes_drone/Membo_1_044-membo_001_.wav', 'data/Binary_Drone_Audio/yes_drone/Membo_2_010-membo_000_.wav', 'data/Binary_Drone_Audio/yes_drone/mixed_membo_0-membo_001_.wav', 'data/Binary_Drone_Audio/yes_drone/Membo_1_042-membo_000_.wav', 'data/Binary_Drone_Audio/yes_drone/mixed_membo_51-membo_003_.wav', 'data/Binary_Drone_Audio/yes_drone/mixed_membo_48-membo_004_.wav', 'data/Binary_Drone_Audio/yes_drone/B_S2_D1_084-bebop_001_.wav', 'data/Binary_Drone_Audio/yes_drone/mixed_membo_28-membo_002_.wav', 'data/Binary_Drone_Audio/yes_drone/B_S2_D1_082-bebop_003_.wav', 'data/Binary_Drone_Audio/yes_drone/Membo_0_010-membo_004_.wav', 'data/Binary_Drone_Audio/yes_drone/B_S2_D1_077-bebop_003_.wav', 'data/Binary_Drone_Audio/yes_drone/B_S2_D1_091-bebop_001_.wav', 'data/Binary_Drone_Audio/yes_drone/Membo_0_040-membo_000_.wav', 'data/Binary_Drone_Audio/yes_drone/mixed_membo_18-membo_003_.wav', 'data/Binary_Drone_Audio/yes_drone/mixed_55-bebop_003_.wav', 'data/Binary_Drone_Audio/yes_drone/extra_membo_D2_2003.wav', 'data/Binary_Drone_Audio/yes_drone/Membo_0_039-membo_000_.wav', 'data/Binary_Drone_Audio/yes_drone/mixed_31-bebop_004_.wav', 'data/Binary_Drone_Audio/yes_drone/mixed_43-bebop_002_.wav', 'data/Binary_Drone_Audio/yes_drone/Membo_0_011-membo_004_.wav', 'data/Binary_Drone_Audio/yes_drone/mixed_membo_60-membo_003_.wav', 'data/Binary_Drone_Audio/yes_drone/mixed_35-bebop_000_.wav', 'data/Binary_Drone_Audio/yes_drone/mixed_53-bebop_003_.wav', 'data/Binary_Drone_Audio/yes_drone/mixed_61-bebop_001_.wav', 'data/Binary_Drone_Audio/yes_drone/Membo_0_008-membo_001_.wav', 'data/Binary_Drone_Audio/yes_drone/B_S2_D1_125-bebop_000_.wav', 'data/Binary_Drone_Audio/yes_drone/Membo_0_005-membo_003_.wav', 'data/Binary_Drone_Audio/yes_drone/Membo_1_048-membo_000_.wav', 'data/Binary_Drone_Audio/yes_drone/mixed_52-bebop_000_.wav', 'data/Binary_Drone_Audio/yes_drone/mixed_37-bebop_002_.wav', 'data/Binary_Drone_Audio/yes_drone/mixed_membo_55-membo_001_.wav', 'data/Binary_Drone_Audio/yes_drone/mixed_57-bebop_004_.wav', 'data/Binary_Drone_Audio/yes_drone/Membo_2_028-membo_004_.wav', 'data/Binary_Drone_Audio/yes_drone/mixed_15-bebop_000_.wav', 'data/Binary_Drone_Audio/yes_drone/extra_membo_D2_2017.wav', 'data/Binary_Drone_Audio/yes_drone/Membo_2_020-membo_000_.wav', 'data/Binary_Drone_Audio/yes_drone/Membo_0_015-membo_004_.wav', 'data/Binary_Drone_Audio/yes_drone/Membo_0_040-membo_003_.wav', 'data/Binary_Drone_Audio/yes_drone/Membo_2_013-membo_001_.wav', 'data/Binary_Drone_Audio/yes_drone/mixed_5-bebop_004_.wav', 'data/Binary_Drone_Audio/yes_drone/mixed_27-bebop_000_.wav', 'data/Binary_Drone_Audio/yes_drone/B_S2_D1_119-bebop_003_.wav', 'data/Binary_Drone_Audio/yes_drone/mixed_48-bebop_003_.wav', 'data/Binary_Drone_Audio/yes_drone/B_S2_D1_100-bebop_001_.wav', 'data/Binary_Drone_Audio/yes_drone/B_S2_D1_096-bebop_000_.wav', 'data/Binary_Drone_Audio/yes_drone/B_S2_D1_124-bebop_003_.wav', 'data/Binary_Drone_Audio/yes_drone/mixed_11-bebop_000_.wav', 'data/Binary_Drone_Audio/yes_drone/mixed_membo_62-membo_002_.wav', 'data/Binary_Drone_Audio/yes_drone/mixed_membo_17-membo_002_.wav', 'data/Binary_Drone_Audio/yes_drone/Membo_0_037-membo_004_.wav', 'data/Binary_Drone_Audio/yes_drone/mixed_membo_34-membo_001_.wav', 'data/Binary_Drone_Audio/yes_drone/mixed_7-bebop_003_.wav', 'data/Binary_Drone_Audio/yes_drone/extra_membo_D2_2052.wav', 'data/Binary_Drone_Audio/yes_drone/mixed_membo_13-membo_000_.wav', 'data/Binary_Drone_Audio/yes_drone/mixed_23-bebop_000_.wav', 'data/Binary_Drone_Audio/yes_drone/mixed_19-bebop_002_.wav', 'data/Binary_Drone_Audio/yes_drone/mixed_membo_26-membo_001_.wav', 'data/Binary_Drone_Audio/yes_drone/mixed_membo_24-membo_003_.wav', 'data/Binary_Drone_Audio/yes_drone/mixed_membo_44-membo_003_.wav', 'data/Binary_Drone_Audio/yes_drone/mixed_30-bebop_000_.wav', 'data/Binary_Drone_Audio/yes_drone/mixed_6-bebop_001_.wav', 'data/Binary_Drone_Audio/yes_drone/Membo_0_038-membo_003_.wav', 'data/Binary_Drone_Audio/yes_drone/extra_membo_D2_2042.wav', 'data/Binary_Drone_Audio/yes_drone/Membo_1_004-membo_003_.wav', 'data/Binary_Drone_Audio/yes_drone/mixed_membo_1-membo_000_.wav', 'data/Binary_Drone_Audio/yes_drone/Membo_0_017-membo_003_.wav', 'data/Binary_Drone_Audio/yes_drone/B_S2_D1_095-bebop_000_.wav', 'data/Binary_Drone_Audio/yes_drone/Membo_0_003-membo_004_.wav', 'data/Binary_Drone_Audio/yes_drone/mixed_membo_66-membo_003_.wav', 'data/Binary_Drone_Audio/yes_drone/mixed_5-bebop_000_.wav', 'data/Binary_Drone_Audio/yes_drone/mixed_membo_36-membo_002_.wav', 'data/Binary_Drone_Audio/yes_drone/Membo_2_017-membo_002_.wav', 'data/Binary_Drone_Audio/yes_drone/B_S2_D1_100-bebop_002_.wav', 'data/Binary_Drone_Audio/yes_drone/Membo_1_046-membo_004_.wav', 'data/Binary_Drone_Audio/yes_drone/mixed_28-bebop_003_.wav', 'data/Binary_Drone_Audio/yes_drone/mixed_63-bebop_001_.wav', 'data/Binary_Drone_Audio/yes_drone/Membo_0_000-membo_003_.wav', 'data/Binary_Drone_Audio/yes_drone/Membo_0_001-membo_000_.wav', 'data/Binary_Drone_Audio/yes_drone/mixed_4-bebop_002_.wav', 'data/Binary_Drone_Audio/yes_drone/B_S2_D1_068-bebop_001_.wav', 'data/Binary_Drone_Audio/yes_drone/Membo_0_006-membo_000_.wav', 'data/Binary_Drone_Audio/yes_drone/mixed_17-bebop_003_.wav', 'data/Binary_Drone_Audio/yes_drone/mixed_membo_16-membo_000_.wav', 'data/Binary_Drone_Audio/yes_drone/B_S2_D1_072-bebop_003_.wav', 'data/Binary_Drone_Audio/yes_drone/mixed_29-bebop_004_.wav', 'data/Binary_Drone_Audio/yes_drone/extra_membo_D2_2007.wav', 'data/Binary_Drone_Audio/yes_drone/mixed_membo_60-membo_000_.wav', 'data/Binary_Drone_Audio/yes_drone/mixed_48-bebop_004_.wav', 'data/Binary_Drone_Audio/yes_drone/mixed_59-bebop_002_.wav', 'data/Binary_Drone_Audio/yes_drone/mixed_30-bebop_002_.wav', 'data/Binary_Drone_Audio/yes_drone/mixed_8-bebop_002_.wav', 'data/Binary_Drone_Audio/yes_drone/mixed_57-bebop_002_.wav', 'data/Binary_Drone_Audio/yes_drone/mixed_membo_24-membo_004_.wav', 'data/Binary_Drone_Audio/yes_drone/mixed_membo_52-membo_003_.wav', 'data/Binary_Drone_Audio/yes_drone/mixed_8-bebop_000_.wav', 'data/Binary_Drone_Audio/yes_drone/extra_membo_D2_2006.wav', 'data/Binary_Drone_Audio/yes_drone/B_S2_D1_097-bebop_002_.wav', 'data/Binary_Drone_Audio/yes_drone/B_S2_D1_107-bebop_000_.wav', 'data/Binary_Drone_Audio/yes_drone/Membo_0_010-membo_002_.wav', 'data/Binary_Drone_Audio/yes_drone/B_S2_D1_112-bebop_000_.wav', 'data/Binary_Drone_Audio/yes_drone/mixed_46-bebop_001_.wav', 'data/Binary_Drone_Audio/yes_drone/extra_membo_D2_2009.wav', 'data/Binary_Drone_Audio/yes_drone/B_S2_D1_076-bebop_001_.wav', 'data/Binary_Drone_Audio/yes_drone/mixed_18-bebop_001_.wav', 'data/Binary_Drone_Audio/yes_drone/B_S2_D1_120-bebop_004_.wav', 'data/Binary_Drone_Audio/yes_drone/B_S2_D1_103-bebop_000_.wav', 'data/Binary_Drone_Audio/yes_drone/B_S2_D1_075-bebop_001_.wav', 'data/Binary_Drone_Audio/yes_drone/mixed_membo_35-membo_004_.wav', 'data/Binary_Drone_Audio/yes_drone/B_S2_D1_100-bebop_000_.wav', 'data/Binary_Drone_Audio/yes_drone/B_S2_D1_105-bebop_003_.wav', 'data/Binary_Drone_Audio/yes_drone/mixed_membo_35-membo_002_.wav', 'data/Binary_Drone_Audio/yes_drone/mixed_membo_46-membo_004_.wav', 'data/Binary_Drone_Audio/yes_drone/mixed_0-bebop_002_.wav', 'data/Binary_Drone_Audio/yes_drone/mixed_membo_38-membo_002_.wav', 'data/Binary_Drone_Audio/yes_drone/mixed_membo_61-membo_002_.wav', 'data/Binary_Drone_Audio/yes_drone/mixed_membo_40-membo_001_.wav', 'data/Binary_Drone_Audio/yes_drone/B_S2_D1_086-bebop_004_.wav', 'data/Binary_Drone_Audio/yes_drone/Membo_0_001-membo_001_.wav', 'data/Binary_Drone_Audio/yes_drone/mixed_membo_66-membo_002_.wav', 'data/Binary_Drone_Audio/yes_drone/Membo_1_030-membo_001_.wav', 'data/Binary_Drone_Audio/yes_drone/mixed_membo_51-membo_000_.wav', 'data/Binary_Drone_Audio/yes_drone/mixed_26-bebop_000_.wav', 'data/Binary_Drone_Audio/yes_drone/Membo_1_031-membo_002_.wav', 'data/Binary_Drone_Audio/yes_drone/B_S2_D1_067-bebop_003_.wav', 'data/Binary_Drone_Audio/yes_drone/Membo_0_039-membo_003_.wav', 'data/Binary_Drone_Audio/yes_drone/extra_membo_D2_2041.wav', 'data/Binary_Drone_Audio/yes_drone/B_S2_D1_082-bebop_000_.wav', 'data/Binary_Drone_Audio/yes_drone/mixed_41-bebop_003_.wav', 'data/Binary_Drone_Audio/yes_drone/mixed_membo_11-membo_001_.wav', 'data/Binary_Drone_Audio/yes_drone/B_S2_D1_122-bebop_000_.wav', 'data/Binary_Drone_Audio/yes_drone/Membo_2_020-membo_003_.wav', 'data/Binary_Drone_Audio/yes_drone/mixed_44-bebop_000_.wav', 'data/Binary_Drone_Audio/yes_drone/mixed_membo_38-membo_003_.wav', 'data/Binary_Drone_Audio/yes_drone/mixed_membo_19-membo_001_.wav', 'data/Binary_Drone_Audio/yes_drone/B_S2_D1_087-bebop_003_.wav', 'data/Binary_Drone_Audio/yes_drone/extra_membo_D2_2023.wav', 'data/Binary_Drone_Audio/yes_drone/Membo_0_038-membo_004_.wav', 'data/Binary_Drone_Audio/yes_drone/mixed_34-bebop_001_.wav', 'data/Binary_Drone_Audio/yes_drone/Membo_1_031-membo_004_.wav', 'data/Binary_Drone_Audio/yes_drone/mixed_membo_31-membo_003_.wav', 'data/Binary_Drone_Audio/yes_drone/extra_membo_D2_2037.wav', 'data/Binary_Drone_Audio/yes_drone/mixed_45-bebop_004_.wav', 'data/Binary_Drone_Audio/yes_drone/mixed_37-bebop_001_.wav', 'data/Binary_Drone_Audio/yes_drone/mixed_membo_31-membo_002_.wav', 'data/Binary_Drone_Audio/yes_drone/mixed_membo_45-membo_004_.wav', 'data/Binary_Drone_Audio/yes_drone/mixed_membo_55-membo_003_.wav', 'data/Binary_Drone_Audio/yes_drone/B_S2_D1_119-bebop_001_.wav', 'data/Binary_Drone_Audio/yes_drone/Membo_2_028-membo_000_.wav', 'data/Binary_Drone_Audio/yes_drone/Membo_0_003-membo_001_.wav', 'data/Binary_Drone_Audio/yes_drone/Membo_0_039-membo_002_.wav', 'data/Binary_Drone_Audio/yes_drone/mixed_5-bebop_002_.wav', 'data/Binary_Drone_Audio/yes_drone/B_S2_D1_076-bebop_003_.wav', 'data/Binary_Drone_Audio/yes_drone/B_S2_D1_071-bebop_003_.wav', 'data/Binary_Drone_Audio/yes_drone/Membo_1_042-membo_001_.wav', 'data/Binary_Drone_Audio/yes_drone/mixed_membo_63-membo_002_.wav', 'data/Binary_Drone_Audio/yes_drone/B_S2_D1_119-bebop_004_.wav', 'data/Binary_Drone_Audio/yes_drone/Membo_1_047-membo_001_.wav', 'data/Binary_Drone_Audio/yes_drone/B_S2_D1_088-bebop_000_.wav', 'data/Binary_Drone_Audio/yes_drone/mixed_membo_2-membo_001_.wav', 'data/Binary_Drone_Audio/yes_drone/mixed_membo_60-membo_002_.wav', 'data/Binary_Drone_Audio/yes_drone/Membo_0_011-membo_000_.wav', 'data/Binary_Drone_Audio/yes_drone/mixed_54-bebop_004_.wav', 'data/Binary_Drone_Audio/yes_drone/B_S2_D1_115-bebop_000_.wav', 'data/Binary_Drone_Audio/yes_drone/B_S2_D1_068-bebop_000_.wav', 'data/Binary_Drone_Audio/yes_drone/mixed_17-bebop_004_.wav', 'data/Binary_Drone_Audio/yes_drone/mixed_28-bebop_000_.wav', 'data/Binary_Drone_Audio/yes_drone/extra_membo_D2_2039.wav', 'data/Binary_Drone_Audio/yes_drone/mixed_membo_44-membo_001_.wav', 'data/Binary_Drone_Audio/yes_drone/B_S2_D1_127-bebop_003_.wav', 'data/Binary_Drone_Audio/yes_drone/mixed_membo_0-membo_002_.wav', 'data/Binary_Drone_Audio/yes_drone/mixed_35-bebop_003_.wav', 'data/Binary_Drone_Audio/yes_drone/B_S2_D1_102-bebop_003_.wav', 'data/Binary_Drone_Audio/yes_drone/mixed_54-bebop_002_.wav', 'data/Binary_Drone_Audio/yes_drone/mixed_membo_9-membo_001_.wav', 'data/Binary_Drone_Audio/yes_drone/Membo_2_014-membo_003_.wav', 'data/Binary_Drone_Audio/yes_drone/mixed_membo_58-membo_003_.wav', 'data/Binary_Drone_Audio/yes_drone/mixed_membo_46-membo_000_.wav', 'data/Binary_Drone_Audio/yes_drone/Membo_1_047-membo_004_.wav', 'data/Binary_Drone_Audio/yes_drone/Membo_2_018-membo_002_.wav', 'data/Binary_Drone_Audio/yes_drone/Membo_0_000-membo_002_.wav', 'data/Binary_Drone_Audio/yes_drone/Membo_1_029-membo_003_.wav', 'data/Binary_Drone_Audio/yes_drone/mixed_20-bebop_002_.wav', 'data/Binary_Drone_Audio/yes_drone/mixed_membo_7-membo_003_.wav', 'data/Binary_Drone_Audio/yes_drone/mixed_membo_49-membo_002_.wav', 'data/Binary_Drone_Audio/yes_drone/mixed_57-bebop_003_.wav', 'data/Binary_Drone_Audio/yes_drone/mixed_membo_29-membo_003_.wav', 'data/Binary_Drone_Audio/yes_drone/mixed_50-bebop_001_.wav', 'data/Binary_Drone_Audio/yes_drone/B_S2_D1_119-bebop_002_.wav', 'data/Binary_Drone_Audio/yes_drone/mixed_22-bebop_003_.wav', 'data/Binary_Drone_Audio/yes_drone/mixed_membo_61-membo_001_.wav', 'data/Binary_Drone_Audio/yes_drone/B_S2_D1_070-bebop_001_.wav', 'data/Binary_Drone_Audio/yes_drone/mixed_membo_46-membo_003_.wav', 'data/Binary_Drone_Audio/yes_drone/B_S2_D1_118-bebop_000_.wav', 'data/Binary_Drone_Audio/yes_drone/Membo_2_015-membo_002_.wav', 'data/Binary_Drone_Audio/yes_drone/B_S2_D1_109-bebop_004_.wav', 'data/Binary_Drone_Audio/yes_drone/mixed_32-bebop_003_.wav', 'data/Binary_Drone_Audio/yes_drone/mixed_membo_25-membo_003_.wav', 'data/Binary_Drone_Audio/yes_drone/B_S2_D1_093-bebop_000_.wav', 'data/Binary_Drone_Audio/yes_drone/mixed_55-bebop_000_.wav', 'data/Binary_Drone_Audio/yes_drone/Membo_2_013-membo_002_.wav', 'data/Binary_Drone_Audio/yes_drone/B_S2_D1_094-bebop_003_.wav', 'data/Binary_Drone_Audio/yes_drone/mixed_membo_9-membo_000_.wav', 'data/Binary_Drone_Audio/yes_drone/mixed_membo_32-membo_001_.wav', 'data/Binary_Drone_Audio/yes_drone/mixed_60-bebop_001_.wav', 'data/Binary_Drone_Audio/yes_drone/extra_membo_D2_2034.wav', 'data/Binary_Drone_Audio/yes_drone/B_S2_D1_111-bebop_001_.wav', 'data/Binary_Drone_Audio/yes_drone/mixed_membo_60-membo_001_.wav', 'data/Binary_Drone_Audio/yes_drone/mixed_66-bebop_003_.wav', 'data/Binary_Drone_Audio/yes_drone/B_S2_D1_130-bebop_002_.wav', 'data/Binary_Drone_Audio/yes_drone/mixed_membo_13-membo_004_.wav', 'data/Binary_Drone_Audio/yes_drone/mixed_26-bebop_002_.wav', 'data/Binary_Drone_Audio/yes_drone/B_S2_D1_104-bebop_003_.wav', 'data/Binary_Drone_Audio/yes_drone/Membo_1_033-membo_003_.wav', 'data/Binary_Drone_Audio/yes_drone/B_S2_D1_085-bebop_001_.wav', 'data/Binary_Drone_Audio/yes_drone/Membo_1_034-membo_003_.wav', 'data/Binary_Drone_Audio/yes_drone/mixed_membo_31-membo_001_.wav', 'data/Binary_Drone_Audio/yes_drone/mixed_membo_17-membo_001_.wav', 'data/Binary_Drone_Audio/yes_drone/B_S2_D1_083-bebop_000_.wav', 'data/Binary_Drone_Audio/yes_drone/B_S2_D1_073-bebop_004_.wav', 'data/Binary_Drone_Audio/yes_drone/mixed_52-bebop_003_.wav', 'data/Binary_Drone_Audio/yes_drone/mixed_40-bebop_003_.wav', 'data/Binary_Drone_Audio/yes_drone/B_S2_D1_078-bebop_000_.wav', 'data/Binary_Drone_Audio/yes_drone/mixed_24-bebop_003_.wav', 'data/Binary_Drone_Audio/yes_drone/mixed_membo_51-membo_004_.wav', 'data/Binary_Drone_Audio/yes_drone/B_S2_D1_069-bebop_003_.wav', 'data/Binary_Drone_Audio/yes_drone/B_S2_D1_113-bebop_003_.wav', 'data/Binary_Drone_Audio/yes_drone/mixed_membo_63-membo_000_.wav', 'data/Binary_Drone_Audio/yes_drone/extra_membo_D2_2043.wav', 'data/Binary_Drone_Audio/yes_drone/mixed_56-bebop_001_.wav', 'data/Binary_Drone_Audio/yes_drone/mixed_18-bebop_004_.wav', 'data/Binary_Drone_Audio/yes_drone/Membo_2_017-membo_003_.wav', 'data/Binary_Drone_Audio/yes_drone/Membo_0_007-membo_002_.wav', 'data/Binary_Drone_Audio/yes_drone/mixed_membo_9-membo_002_.wav', 'data/Binary_Drone_Audio/yes_drone/mixed_3-bebop_000_.wav', 'data/Binary_Drone_Audio/yes_drone/Membo_2_010-membo_001_.wav', 'data/Binary_Drone_Audio/yes_drone/mixed_membo_63-membo_004_.wav', 'data/Binary_Drone_Audio/yes_drone/Membo_0_017-membo_004_.wav', 'data/Binary_Drone_Audio/yes_drone/mixed_35-bebop_004_.wav', 'data/Binary_Drone_Audio/yes_drone/mixed_membo_35-membo_001_.wav', 'data/Binary_Drone_Audio/yes_drone/mixed_membo_18-membo_004_.wav', 'data/Binary_Drone_Audio/yes_drone/mixed_membo_36-membo_003_.wav', 'data/Binary_Drone_Audio/yes_drone/mixed_1-bebop_003_.wav', 'data/Binary_Drone_Audio/yes_drone/B_S2_D1_117-bebop_001_.wav', 'data/Binary_Drone_Audio/yes_drone/Membo_2_016-membo_001_.wav', 'data/Binary_Drone_Audio/yes_drone/Membo_0_010-membo_001_.wav', 'data/Binary_Drone_Audio/yes_drone/B_S2_D1_081-bebop_000_.wav', 'data/Binary_Drone_Audio/yes_drone/extra_membo_D2_2030.wav', 'data/Binary_Drone_Audio/yes_drone/mixed_43-bebop_004_.wav', 'data/Binary_Drone_Audio/yes_drone/mixed_membo_58-membo_002_.wav', 'data/Binary_Drone_Audio/yes_drone/Membo_0_039-membo_001_.wav', 'data/Binary_Drone_Audio/yes_drone/mixed_membo_20-membo_000_.wav', 'data/Binary_Drone_Audio/yes_drone/mixed_membo_37-membo_003_.wav', 'data/Binary_Drone_Audio/yes_drone/mixed_membo_19-membo_004_.wav', 'data/Binary_Drone_Audio/yes_drone/mixed_19-bebop_003_.wav', 'data/Binary_Drone_Audio/yes_drone/B_S2_D1_092-bebop_001_.wav', 'data/Binary_Drone_Audio/yes_drone/Membo_1_029-membo_002_.wav', 'data/Binary_Drone_Audio/yes_drone/extra_membo_D2_2033.wav', 'data/Binary_Drone_Audio/yes_drone/B_S2_D1_114-bebop_000_.wav', 'data/Binary_Drone_Audio/yes_drone/Membo_2_018-membo_003_.wav', 'data/Binary_Drone_Audio/yes_drone/mixed_membo_38-membo_000_.wav', 'data/Binary_Drone_Audio/yes_drone/B_S2_D1_104-bebop_004_.wav', 'data/Binary_Drone_Audio/yes_drone/mixed_membo_65-membo_002_.wav', 'data/Binary_Drone_Audio/yes_drone/mixed_16-bebop_000_.wav', 'data/Binary_Drone_Audio/yes_drone/mixed_1-bebop_000_.wav', 'data/Binary_Drone_Audio/yes_drone/Membo_1_046-membo_001_.wav', 'data/Binary_Drone_Audio/yes_drone/Membo_1_001-membo_003_.wav', 'data/Binary_Drone_Audio/yes_drone/mixed_membo_49-membo_000_.wav', 'data/Binary_Drone_Audio/yes_drone/Membo_2_018-membo_004_.wav', 'data/Binary_Drone_Audio/yes_drone/mixed_membo_56-membo_002_.wav', 'data/Binary_Drone_Audio/yes_drone/mixed_membo_35-membo_000_.wav', 'data/Binary_Drone_Audio/yes_drone/mixed_24-bebop_001_.wav', 'data/Binary_Drone_Audio/yes_drone/B_S2_D1_113-bebop_001_.wav', 'data/Binary_Drone_Audio/yes_drone/B_S2_D1_099-bebop_004_.wav', 'data/Binary_Drone_Audio/yes_drone/Membo_1_044-membo_002_.wav', 'data/Binary_Drone_Audio/yes_drone/mixed_membo_48-membo_001_.wav', 'data/Binary_Drone_Audio/yes_drone/Membo_1_031-membo_001_.wav', 'data/Binary_Drone_Audio/yes_drone/B_S2_D1_126-bebop_004_.wav', 'data/Binary_Drone_Audio/yes_drone/mixed_membo_40-membo_003_.wav', 'data/Binary_Drone_Audio/yes_drone/Membo_0_011-membo_002_.wav', 'data/Binary_Drone_Audio/yes_drone/mixed_46-bebop_003_.wav', 'data/Binary_Drone_Audio/yes_drone/mixed_membo_58-membo_001_.wav', 'data/Binary_Drone_Audio/yes_drone/mixed_membo_14-membo_002_.wav', 'data/Binary_Drone_Audio/yes_drone/mixed_1-bebop_002_.wav', 'data/Binary_Drone_Audio/yes_drone/mixed_membo_35-membo_003_.wav', 'data/Binary_Drone_Audio/yes_drone/mixed_14-bebop_000_.wav', 'data/Binary_Drone_Audio/yes_drone/Membo_0_041-membo_002_.wav', 'data/Binary_Drone_Audio/yes_drone/mixed_membo_36-membo_004_.wav', 'data/Binary_Drone_Audio/yes_drone/Membo_0_014-membo_000_.wav', 'data/Binary_Drone_Audio/yes_drone/Membo_0_003-membo_000_.wav', 'data/Binary_Drone_Audio/yes_drone/mixed_64-bebop_004_.wav', 'data/Binary_Drone_Audio/yes_drone/mixed_16-bebop_004_.wav', 'data/Binary_Drone_Audio/yes_drone/B_S2_D1_131-bebop_004_.wav', 'data/Binary_Drone_Audio/yes_drone/B_S2_D1_091-bebop_004_.wav', 'data/Binary_Drone_Audio/yes_drone/mixed_47-bebop_003_.wav', 'data/Binary_Drone_Audio/yes_drone/B_S2_D1_085-bebop_000_.wav', 'data/Binary_Drone_Audio/yes_drone/mixed_membo_45-membo_003_.wav', 'data/Binary_Drone_Audio/yes_drone/mixed_3-bebop_004_.wav', 'data/Binary_Drone_Audio/yes_drone/B_S2_D1_096-bebop_003_.wav', 'data/Binary_Drone_Audio/yes_drone/B_S2_D1_077-bebop_000_.wav', 'data/Binary_Drone_Audio/yes_drone/mixed_33-bebop_000_.wav', 'data/Binary_Drone_Audio/yes_drone/mixed_membo_21-membo_001_.wav', 'data/Binary_Drone_Audio/yes_drone/mixed_membo_23-membo_002_.wav', 'data/Binary_Drone_Audio/yes_drone/mixed_membo_27-membo_000_.wav', 'data/Binary_Drone_Audio/yes_drone/mixed_20-bebop_004_.wav', 'data/Binary_Drone_Audio/yes_drone/Membo_1_034-membo_002_.wav', 'data/Binary_Drone_Audio/yes_drone/B_S2_D1_091-bebop_002_.wav', 'data/Binary_Drone_Audio/yes_drone/B_S2_D1_098-bebop_004_.wav', 'data/Binary_Drone_Audio/yes_drone/mixed_membo_19-membo_000_.wav', 'data/Binary_Drone_Audio/yes_drone/Membo_2_010-membo_002_.wav', 'data/Binary_Drone_Audio/yes_drone/Membo_1_034-membo_001_.wav', 'data/Binary_Drone_Audio/yes_drone/B_S2_D1_123-bebop_003_.wav', 'data/Binary_Drone_Audio/yes_drone/mixed_4-bebop_004_.wav', 'data/Binary_Drone_Audio/yes_drone/Membo_0_004-membo_001_.wav', 'data/Binary_Drone_Audio/yes_drone/mixed_17-bebop_000_.wav', 'data/Binary_Drone_Audio/yes_drone/Membo_0_034-membo_000_.wav', 'data/Binary_Drone_Audio/yes_drone/mixed_49-bebop_001_.wav', 'data/Binary_Drone_Audio/yes_drone/mixed_membo_45-membo_002_.wav', 'data/Binary_Drone_Audio/yes_drone/mixed_6-bebop_003_.wav', 'data/Binary_Drone_Audio/yes_drone/mixed_11-bebop_004_.wav', 'data/Binary_Drone_Audio/yes_drone/B_S2_D1_121-bebop_000_.wav', 'data/Binary_Drone_Audio/yes_drone/mixed_membo_30-membo_002_.wav', 'data/Binary_Drone_Audio/yes_drone/mixed_53-bebop_002_.wav', 'data/Binary_Drone_Audio/yes_drone/mixed_membo_26-membo_002_.wav', 'data/Binary_Drone_Audio/yes_drone/Membo_2_019-membo_001_.wav', 'data/Binary_Drone_Audio/yes_drone/extra_membo_D2_2005.wav', 'data/Binary_Drone_Audio/yes_drone/mixed_membo_28-membo_001_.wav', 'data/Binary_Drone_Audio/yes_drone/mixed_36-bebop_003_.wav', 'data/Binary_Drone_Audio/yes_drone/B_S2_D1_074-bebop_000_.wav', 'data/Binary_Drone_Audio/yes_drone/Membo_0_041-membo_004_.wav', 'data/Binary_Drone_Audio/yes_drone/B_S2_D1_101-bebop_004_.wav', 'data/Binary_Drone_Audio/yes_drone/mixed_11-bebop_003_.wav', 'data/Binary_Drone_Audio/yes_drone/mixed_membo_19-membo_003_.wav', 'data/Binary_Drone_Audio/yes_drone/mixed_10-bebop_000_.wav', 'data/Binary_Drone_Audio/yes_drone/mixed_31-bebop_000_.wav', 'data/Binary_Drone_Audio/yes_drone/mixed_36-bebop_001_.wav', 'data/Binary_Drone_Audio/yes_drone/mixed_membo_62-membo_000_.wav', 'data/Binary_Drone_Audio/yes_drone/mixed_membo_48-membo_003_.wav', 'data/Binary_Drone_Audio/yes_drone/mixed_membo_2-membo_000_.wav', 'data/Binary_Drone_Audio/yes_drone/B_S2_D1_069-bebop_000_.wav', 'data/Binary_Drone_Audio/yes_drone/mixed_membo_30-membo_004_.wav', 'data/Binary_Drone_Audio/yes_drone/Membo_0_036-membo_000_.wav', 'data/Binary_Drone_Audio/yes_drone/B_S2_D1_073-bebop_002_.wav', 'data/Binary_Drone_Audio/yes_drone/B_S2_D1_083-bebop_003_.wav', 'data/Binary_Drone_Audio/yes_drone/Membo_0_005-membo_001_.wav', 'data/Binary_Drone_Audio/yes_drone/mixed_membo_50-membo_001_.wav', 'data/Binary_Drone_Audio/yes_drone/mixed_membo_64-membo_004_.wav', 'data/Binary_Drone_Audio/yes_drone/Membo_1_029-membo_000_.wav', 'data/Binary_Drone_Audio/yes_drone/mixed_22-bebop_002_.wav', 'data/Binary_Drone_Audio/yes_drone/extra_membo_D2_2010.wav', 'data/Binary_Drone_Audio/yes_drone/Membo_0_003-membo_002_.wav', 'data/Binary_Drone_Audio/yes_drone/mixed_membo_28-membo_000_.wav', 'data/Binary_Drone_Audio/yes_drone/mixed_66-bebop_004_.wav', 'data/Binary_Drone_Audio/yes_drone/mixed_membo_43-membo_004_.wav', 'data/Binary_Drone_Audio/yes_drone/mixed_26-bebop_003_.wav', 'data/Binary_Drone_Audio/yes_drone/mixed_29-bebop_001_.wav', 'data/Binary_Drone_Audio/yes_drone/mixed_membo_3-membo_003_.wav', 'data/Binary_Drone_Audio/yes_drone/mixed_25-bebop_003_.wav', 'data/Binary_Drone_Audio/yes_drone/mixed_33-bebop_003_.wav', 'data/Binary_Drone_Audio/yes_drone/Membo_0_004-membo_004_.wav', 'data/Binary_Drone_Audio/yes_drone/mixed_65-bebop_001_.wav', 'data/Binary_Drone_Audio/yes_drone/Membo_0_038-membo_001_.wav', 'data/Binary_Drone_Audio/yes_drone/mixed_0-bebop_003_.wav', 'data/Binary_Drone_Audio/yes_drone/Membo_0_016-membo_002_.wav', 'data/Binary_Drone_Audio/yes_drone/Membo_2_019-membo_000_.wav', 'data/Binary_Drone_Audio/yes_drone/mixed_6-bebop_000_.wav', 'data/Binary_Drone_Audio/yes_drone/mixed_membo_41-membo_004_.wav', 'data/Binary_Drone_Audio/yes_drone/mixed_membo_25-membo_000_.wav', 'data/Binary_Drone_Audio/yes_drone/Membo_1_032-membo_000_.wav', 'data/Binary_Drone_Audio/yes_drone/mixed_membo_12-membo_004_.wav', 'data/Binary_Drone_Audio/yes_drone/mixed_membo_61-membo_003_.wav', 'data/Binary_Drone_Audio/yes_drone/mixed_membo_18-membo_002_.wav', 'data/Binary_Drone_Audio/yes_drone/Membo_1_030-membo_002_.wav', 'data/Binary_Drone_Audio/yes_drone/mixed_membo_5-membo_000_.wav', 'data/Binary_Drone_Audio/yes_drone/B_S2_D1_096-bebop_001_.wav', 'data/Binary_Drone_Audio/yes_drone/Membo_1_048-membo_003_.wav', 'data/Binary_Drone_Audio/yes_drone/extra_membo_D2_2038.wav', 'data/Binary_Drone_Audio/yes_drone/Membo_1_045-membo_002_.wav', 'data/Binary_Drone_Audio/yes_drone/B_S2_D1_104-bebop_000_.wav', 'data/Binary_Drone_Audio/yes_drone/mixed_31-bebop_003_.wav', 'data/Binary_Drone_Audio/yes_drone/Membo_0_001-membo_003_.wav', 'data/Binary_Drone_Audio/yes_drone/B_S2_D1_071-bebop_002_.wav', 'data/Binary_Drone_Audio/yes_drone/B_S2_D1_071-bebop_000_.wav', 'data/Binary_Drone_Audio/yes_drone/extra_membo_D2_2054.wav', 'data/Binary_Drone_Audio/yes_drone/mixed_2-bebop_001_.wav', 'data/Binary_Drone_Audio/yes_drone/mixed_membo_52-membo_002_.wav', 'data/Binary_Drone_Audio/yes_drone/Membo_1_044-membo_004_.wav', 'data/Binary_Drone_Audio/yes_drone/mixed_45-bebop_002_.wav', 'data/Binary_Drone_Audio/yes_drone/mixed_membo_10-membo_000_.wav', 'data/Binary_Drone_Audio/yes_drone/mixed_30-bebop_001_.wav', 'data/Binary_Drone_Audio/yes_drone/B_S2_D1_110-bebop_000_.wav', 'data/Binary_Drone_Audio/yes_drone/mixed_membo_21-membo_003_.wav', 'data/Binary_Drone_Audio/yes_drone/B_S2_D1_115-bebop_003_.wav', 'data/Binary_Drone_Audio/yes_drone/mixed_9-bebop_001_.wav', 'data/Binary_Drone_Audio/yes_drone/mixed_47-bebop_002_.wav', 'data/Binary_Drone_Audio/yes_drone/extra_membo_D2_2014.wav', 'data/Binary_Drone_Audio/yes_drone/B_S2_D1_106-bebop_002_.wav', 'data/Binary_Drone_Audio/yes_drone/mixed_65-bebop_000_.wav', 'data/Binary_Drone_Audio/yes_drone/Membo_1_041-membo_001_.wav', 'data/Binary_Drone_Audio/yes_drone/Membo_2_020-membo_002_.wav', 'data/Binary_Drone_Audio/yes_drone/mixed_51-bebop_002_.wav', 'data/Binary_Drone_Audio/yes_drone/B_S2_D1_095-bebop_001_.wav', 'data/Binary_Drone_Audio/yes_drone/B_S2_D1_116-bebop_001_.wav', 'data/Binary_Drone_Audio/yes_drone/mixed_28-bebop_001_.wav', 'data/Binary_Drone_Audio/yes_drone/mixed_44-bebop_002_.wav', 'data/Binary_Drone_Audio/yes_drone/mixed_64-bebop_001_.wav', 'data/Binary_Drone_Audio/yes_drone/mixed_28-bebop_002_.wav', 'data/Binary_Drone_Audio/yes_drone/mixed_9-bebop_003_.wav', 'data/Binary_Drone_Audio/yes_drone/Membo_0_015-membo_003_.wav', 'data/Binary_Drone_Audio/yes_drone/mixed_membo_7-membo_000_.wav', 'data/Binary_Drone_Audio/yes_drone/Membo_2_013-membo_004_.wav', 'data/Binary_Drone_Audio/yes_drone/mixed_43-bebop_003_.wav', 'data/Binary_Drone_Audio/yes_drone/B_S2_D1_083-bebop_001_.wav', 'data/Binary_Drone_Audio/yes_drone/Membo_2_019-membo_004_.wav', 'data/Binary_Drone_Audio/yes_drone/mixed_membo_34-membo_002_.wav', 'data/Binary_Drone_Audio/yes_drone/Membo_0_015-membo_001_.wav', 'data/Binary_Drone_Audio/yes_drone/mixed_42-bebop_003_.wav', 'data/Binary_Drone_Audio/yes_drone/B_S2_D1_077-bebop_001_.wav', 'data/Binary_Drone_Audio/yes_drone/B_S2_D1_093-bebop_004_.wav', 'data/Binary_Drone_Audio/yes_drone/Membo_2_027-membo_002_.wav', 'data/Binary_Drone_Audio/yes_drone/mixed_36-bebop_002_.wav', 'data/Binary_Drone_Audio/yes_drone/Membo_1_032-membo_003_.wav', 'data/Binary_Drone_Audio/yes_drone/B_S2_D1_080-bebop_002_.wav', 'data/Binary_Drone_Audio/yes_drone/B_S2_D1_081-bebop_003_.wav', 'data/Binary_Drone_Audio/yes_drone/B_S2_D1_110-bebop_003_.wav', 'data/Binary_Drone_Audio/yes_drone/mixed_21-bebop_001_.wav', 'data/Binary_Drone_Audio/yes_drone/Membo_2_015-membo_000_.wav', 'data/Binary_Drone_Audio/yes_drone/mixed_membo_65-membo_004_.wav', 'data/Binary_Drone_Audio/yes_drone/mixed_membo_59-membo_003_.wav', 'data/Binary_Drone_Audio/yes_drone/B_S2_D1_102-bebop_002_.wav', 'data/Binary_Drone_Audio/yes_drone/extra_membo_D2_2012.wav', 'data/Binary_Drone_Audio/yes_drone/Membo_0_013-membo_001_.wav', 'data/Binary_Drone_Audio/yes_drone/extra_membo_D2_2025.wav', 'data/Binary_Drone_Audio/yes_drone/mixed_35-bebop_001_.wav', 'data/Binary_Drone_Audio/yes_drone/mixed_membo_39-membo_002_.wav', 'data/Binary_Drone_Audio/yes_drone/Membo_0_034-membo_003_.wav', 'data/Binary_Drone_Audio/yes_drone/mixed_43-bebop_000_.wav', 'data/Binary_Drone_Audio/yes_drone/mixed_50-bebop_004_.wav', 'data/Binary_Drone_Audio/yes_drone/B_S2_D1_131-bebop_001_.wav', 'data/Binary_Drone_Audio/yes_drone/mixed_membo_14-membo_000_.wav', 'data/Binary_Drone_Audio/yes_drone/Membo_1_043-membo_003_.wav', 'data/Binary_Drone_Audio/yes_drone/mixed_56-bebop_002_.wav', 'data/Binary_Drone_Audio/yes_drone/B_S2_D1_090-bebop_002_.wav', 'data/Binary_Drone_Audio/yes_drone/mixed_membo_56-membo_001_.wav', 'data/Binary_Drone_Audio/yes_drone/Membo_0_011-membo_001_.wav', 'data/Binary_Drone_Audio/yes_drone/B_S2_D1_102-bebop_000_.wav', 'data/Binary_Drone_Audio/yes_drone/mixed_24-bebop_002_.wav', 'data/Binary_Drone_Audio/yes_drone/mixed_18-bebop_002_.wav', 'data/Binary_Drone_Audio/yes_drone/mixed_membo_27-membo_001_.wav', 'data/Binary_Drone_Audio/yes_drone/mixed_16-bebop_002_.wav', 'data/Binary_Drone_Audio/yes_drone/Membo_1_029-membo_004_.wav', 'data/Binary_Drone_Audio/yes_drone/mixed_19-bebop_004_.wav', 'data/Binary_Drone_Audio/yes_drone/extra_membo_D2_2021.wav', 'data/Binary_Drone_Audio/yes_drone/B_S2_D1_128-bebop_003_.wav', 'data/Binary_Drone_Audio/yes_drone/mixed_membo_42-membo_004_.wav', 'data/Binary_Drone_Audio/yes_drone/Membo_2_010-membo_004_.wav', 'data/Binary_Drone_Audio/yes_drone/mixed_32-bebop_000_.wav', 'data/Binary_Drone_Audio/yes_drone/B_S2_D1_084-bebop_000_.wav', 'data/Binary_Drone_Audio/yes_drone/Membo_0_002-membo_001_.wav', 'data/Binary_Drone_Audio/yes_drone/extra_membo_D2_2011.wav', 'data/Binary_Drone_Audio/yes_drone/mixed_membo_15-membo_001_.wav', 'data/Binary_Drone_Audio/yes_drone/Membo_2_018-membo_001_.wav', 'data/Binary_Drone_Audio/yes_drone/mixed_membo_4-membo_004_.wav', 'data/Binary_Drone_Audio/yes_drone/extra_membo_D2_2001.wav', 'data/Binary_Drone_Audio/yes_drone/extra_membo_D2_2016.wav', 'data/Binary_Drone_Audio/yes_drone/B_S2_D1_091-bebop_003_.wav', 'data/Binary_Drone_Audio/yes_drone/B_S2_D1_078-bebop_001_.wav', 'data/Binary_Drone_Audio/yes_drone/mixed_membo_43-membo_000_.wav', 'data/Binary_Drone_Audio/yes_drone/B_S2_D1_067-bebop_002_.wav', 'data/Binary_Drone_Audio/yes_drone/mixed_membo_29-membo_000_.wav', 'data/Binary_Drone_Audio/yes_drone/B_S2_D1_082-bebop_004_.wav', 'data/Binary_Drone_Audio/yes_drone/Membo_0_000-membo_001_.wav', 'data/Binary_Drone_Audio/yes_drone/mixed_41-bebop_001_.wav', 'data/Binary_Drone_Audio/yes_drone/mixed_membo_41-membo_003_.wav', 'data/Binary_Drone_Audio/yes_drone/mixed_15-bebop_004_.wav', 'data/Binary_Drone_Audio/yes_drone/mixed_47-bebop_004_.wav', 'data/Binary_Drone_Audio/yes_drone/B_S2_D1_087-bebop_001_.wav', 'data/Binary_Drone_Audio/yes_drone/mixed_membo_15-membo_004_.wav', 'data/Binary_Drone_Audio/yes_drone/mixed_53-bebop_000_.wav', 'data/Binary_Drone_Audio/yes_drone/mixed_membo_54-membo_002_.wav', 'data/Binary_Drone_Audio/yes_drone/B_S2_D1_114-bebop_001_.wav', 'data/Binary_Drone_Audio/yes_drone/extra_membo_D2_2029.wav', 'data/Binary_Drone_Audio/yes_drone/mixed_membo_49-membo_004_.wav', 'data/Binary_Drone_Audio/yes_drone/mixed_65-bebop_002_.wav', 'data/Binary_Drone_Audio/yes_drone/mixed_25-bebop_002_.wav', 'data/Binary_Drone_Audio/yes_drone/mixed_42-bebop_000_.wav', 'data/Binary_Drone_Audio/yes_drone/mixed_membo_37-membo_002_.wav', 'data/Binary_Drone_Audio/yes_drone/B_S2_D1_069-bebop_002_.wav', 'data/Binary_Drone_Audio/yes_drone/B_S2_D1_107-bebop_002_.wav', 'data/Binary_Drone_Audio/yes_drone/B_S2_D1_120-bebop_002_.wav', 'data/Binary_Drone_Audio/yes_drone/Membo_2_019-membo_003_.wav', 'data/Binary_Drone_Audio/yes_drone/Membo_0_002-membo_004_.wav', 'data/Binary_Drone_Audio/yes_drone/B_S2_D1_092-bebop_002_.wav', 'data/Binary_Drone_Audio/yes_drone/mixed_membo_61-membo_000_.wav', 'data/Binary_Drone_Audio/yes_drone/Membo_1_042-membo_003_.wav', 'data/Binary_Drone_Audio/yes_drone/extra_membo_D2_2027.wav', 'data/Binary_Drone_Audio/yes_drone/mixed_membo_12-membo_001_.wav', 'data/Binary_Drone_Audio/yes_drone/mixed_membo_8-membo_001_.wav', 'data/Binary_Drone_Audio/yes_drone/mixed_membo_6-membo_004_.wav', 'data/Binary_Drone_Audio/yes_drone/mixed_membo_53-membo_004_.wav', 'data/Binary_Drone_Audio/yes_drone/mixed_10-bebop_001_.wav', 'data/Binary_Drone_Audio/yes_drone/B_S2_D1_083-bebop_002_.wav', 'data/Binary_Drone_Audio/yes_drone/Membo_0_015-membo_000_.wav', 'data/Binary_Drone_Audio/yes_drone/Membo_2_015-membo_001_.wav', 'data/Binary_Drone_Audio/yes_drone/B_S2_D1_109-bebop_001_.wav', 'data/Binary_Drone_Audio/yes_drone/mixed_10-bebop_003_.wav', 'data/Binary_Drone_Audio/yes_drone/mixed_membo_65-membo_000_.wav', 'data/Binary_Drone_Audio/yes_drone/mixed_membo_8-membo_003_.wav', 'data/Binary_Drone_Audio/yes_drone/mixed_54-bebop_003_.wav', 'data/Binary_Drone_Audio/yes_drone/Membo_2_019-membo_002_.wav', 'data/Binary_Drone_Audio/yes_drone/B_S2_D1_104-bebop_001_.wav', 'data/Binary_Drone_Audio/yes_drone/Membo_2_011-membo_003_.wav', 'data/Binary_Drone_Audio/yes_drone/mixed_membo_38-membo_004_.wav', 'data/Binary_Drone_Audio/yes_drone/B_S2_D1_121-bebop_002_.wav', 'data/Binary_Drone_Audio/yes_drone/Membo_2_018-membo_000_.wav', 'data/Binary_Drone_Audio/yes_drone/Membo_1_001-membo_004_.wav', 'data/Binary_Drone_Audio/yes_drone/mixed_membo_15-membo_003_.wav', 'data/Binary_Drone_Audio/yes_drone/mixed_membo_41-membo_002_.wav', 'data/Binary_Drone_Audio/yes_drone/B_S2_D1_074-bebop_003_.wav', 'data/Binary_Drone_Audio/yes_drone/mixed_59-bebop_003_.wav', 'data/Binary_Drone_Audio/yes_drone/mixed_8-bebop_001_.wav', 'data/Binary_Drone_Audio/yes_drone/mixed_membo_26-membo_000_.wav', 'data/Binary_Drone_Audio/yes_drone/mixed_membo_11-membo_000_.wav', 'data/Binary_Drone_Audio/yes_drone/B_S2_D1_114-bebop_004_.wav', 'data/Binary_Drone_Audio/yes_drone/B_S2_D1_129-bebop_001_.wav', 'data/Binary_Drone_Audio/yes_drone/mixed_27-bebop_001_.wav', 'data/Binary_Drone_Audio/yes_drone/B_S2_D1_128-bebop_000_.wav', 'data/Binary_Drone_Audio/yes_drone/Membo_0_002-membo_002_.wav', 'data/Binary_Drone_Audio/yes_drone/B_S2_D1_067-bebop_004_.wav', 'data/Binary_Drone_Audio/yes_drone/B_S2_D1_104-bebop_002_.wav', 'data/Binary_Drone_Audio/yes_drone/mixed_25-bebop_001_.wav', 'data/Binary_Drone_Audio/yes_drone/mixed_60-bebop_000_.wav', 'data/Binary_Drone_Audio/yes_drone/mixed_membo_33-membo_000_.wav', 'data/Binary_Drone_Audio/yes_drone/mixed_58-bebop_003_.wav', 'data/Binary_Drone_Audio/yes_drone/mixed_29-bebop_000_.wav', 'data/Binary_Drone_Audio/yes_drone/Membo_1_000-membo_003_.wav', 'data/Binary_Drone_Audio/yes_drone/mixed_membo_47-membo_000_.wav', 'data/Binary_Drone_Audio/yes_drone/B_S2_D1_090-bebop_000_.wav', 'data/Binary_Drone_Audio/yes_drone/B_S2_D1_095-bebop_002_.wav', 'data/Binary_Drone_Audio/yes_drone/mixed_membo_16-membo_002_.wav', 'data/Binary_Drone_Audio/yes_drone/mixed_45-bebop_000_.wav', 'data/Binary_Drone_Audio/yes_drone/B_S2_D1_114-bebop_003_.wav', 'data/Binary_Drone_Audio/yes_drone/mixed_membo_39-membo_004_.wav', 'data/Binary_Drone_Audio/yes_drone/mixed_membo_16-membo_004_.wav', 'data/Binary_Drone_Audio/yes_drone/B_S2_D1_074-bebop_004_.wav', 'data/Binary_Drone_Audio/yes_drone/B_S2_D1_124-bebop_001_.wav', 'data/Binary_Drone_Audio/yes_drone/mixed_membo_6-membo_001_.wav', 'data/Binary_Drone_Audio/yes_drone/mixed_membo_55-membo_000_.wav', 'data/Binary_Drone_Audio/yes_drone/mixed_2-bebop_002_.wav', 'data/Binary_Drone_Audio/yes_drone/Membo_1_042-membo_002_.wav', 'data/Binary_Drone_Audio/yes_drone/Membo_1_045-membo_003_.wav', 'data/Binary_Drone_Audio/yes_drone/B_S2_D1_102-bebop_004_.wav', 'data/Binary_Drone_Audio/yes_drone/mixed_20-bebop_003_.wav', 'data/Binary_Drone_Audio/yes_drone/mixed_26-bebop_001_.wav', 'data/Binary_Drone_Audio/yes_drone/mixed_8-bebop_004_.wav', 'data/Binary_Drone_Audio/yes_drone/mixed_membo_13-membo_001_.wav', 'data/Binary_Drone_Audio/yes_drone/B_S2_D1_084-bebop_004_.wav', 'data/Binary_Drone_Audio/yes_drone/mixed_51-bebop_004_.wav', 'data/Binary_Drone_Audio/yes_drone/Membo_1_046-membo_002_.wav', 'data/Binary_Drone_Audio/yes_drone/Membo_1_002-membo_003_.wav', 'data/Binary_Drone_Audio/yes_drone/mixed_60-bebop_002_.wav', 'data/Binary_Drone_Audio/yes_drone/mixed_3-bebop_002_.wav', 'data/Binary_Drone_Audio/yes_drone/B_S2_D1_114-bebop_002_.wav', 'data/Binary_Drone_Audio/yes_drone/mixed_membo_50-membo_000_.wav', 'data/Binary_Drone_Audio/yes_drone/mixed_30-bebop_003_.wav', 'data/Binary_Drone_Audio/yes_drone/mixed_membo_42-membo_001_.wav', 'data/Binary_Drone_Audio/yes_drone/B_S2_D1_072-bebop_002_.wav', 'data/Binary_Drone_Audio/yes_drone/B_S2_D1_120-bebop_003_.wav', 'data/Binary_Drone_Audio/yes_drone/mixed_membo_29-membo_002_.wav', 'data/Binary_Drone_Audio/yes_drone/mixed_45-bebop_003_.wav', 'data/Binary_Drone_Audio/yes_drone/Membo_1_043-membo_000_.wav', 'data/Binary_Drone_Audio/yes_drone/mixed_membo_1-membo_002_.wav', 'data/Binary_Drone_Audio/yes_drone/mixed_38-bebop_003_.wav', 'data/Binary_Drone_Audio/yes_drone/Membo_1_047-membo_002_.wav', 'data/Binary_Drone_Audio/yes_drone/B_S2_D1_072-bebop_004_.wav', 'data/Binary_Drone_Audio/yes_drone/B_S2_D1_115-bebop_002_.wav', 'data/Binary_Drone_Audio/yes_drone/mixed_membo_22-membo_003_.wav', 'data/Binary_Drone_Audio/yes_drone/Membo_0_014-membo_002_.wav', 'data/Binary_Drone_Audio/yes_drone/mixed_29-bebop_002_.wav', 'data/Binary_Drone_Audio/yes_drone/Membo_0_038-membo_002_.wav', 'data/Binary_Drone_Audio/yes_drone/Membo_1_043-membo_004_.wav', 'data/Binary_Drone_Audio/yes_drone/Membo_2_014-membo_000_.wav', 'data/Binary_Drone_Audio/yes_drone/Membo_1_031-membo_003_.wav', 'data/Binary_Drone_Audio/yes_drone/Membo_0_016-membo_004_.wav', 'data/Binary_Drone_Audio/yes_drone/B_S2_D1_132-bebop_003_.wav', 'data/Binary_Drone_Audio/yes_drone/mixed_11-bebop_001_.wav', 'data/Binary_Drone_Audio/yes_drone/mixed_membo_63-membo_001_.wav', 'data/Binary_Drone_Audio/yes_drone/mixed_membo_2-membo_002_.wav', 'data/Binary_Drone_Audio/yes_drone/B_S2_D1_098-bebop_002_.wav', 'data/Binary_Drone_Audio/yes_drone/mixed_membo_1-membo_003_.wav', 'data/Binary_Drone_Audio/yes_drone/mixed_59-bebop_004_.wav', 'data/Binary_Drone_Audio/yes_drone/B_S2_D1_094-bebop_000_.wav', 'data/Binary_Drone_Audio/yes_drone/B_S2_D1_127-bebop_004_.wav', 'data/Binary_Drone_Audio/yes_drone/mixed_42-bebop_001_.wav', 'data/Binary_Drone_Audio/yes_drone/mixed_membo_32-membo_004_.wav', 'data/Binary_Drone_Audio/yes_drone/mixed_37-bebop_004_.wav', 'data/Binary_Drone_Audio/yes_drone/mixed_membo_27-membo_003_.wav', 'data/Binary_Drone_Audio/yes_drone/extra_membo_D2_2050.wav', 'data/Binary_Drone_Audio/yes_drone/B_S2_D1_087-bebop_002_.wav', 'data/Binary_Drone_Audio/yes_drone/B_S2_D1_069-bebop_001_.wav', 'data/Binary_Drone_Audio/yes_drone/mixed_membo_24-membo_000_.wav', 'data/Binary_Drone_Audio/yes_drone/B_S2_D1_076-bebop_000_.wav', 'data/Binary_Drone_Audio/yes_drone/mixed_14-bebop_002_.wav', 'data/Binary_Drone_Audio/yes_drone/mixed_50-bebop_003_.wav', 'data/Binary_Drone_Audio/yes_drone/B_S2_D1_100-bebop_003_.wav', 'data/Binary_Drone_Audio/yes_drone/mixed_membo_63-membo_003_.wav', 'data/Binary_Drone_Audio/yes_drone/mixed_membo_40-membo_004_.wav', 'data/Binary_Drone_Audio/yes_drone/mixed_60-bebop_003_.wav', 'data/Binary_Drone_Audio/yes_drone/B_S2_D1_099-bebop_000_.wav', 'data/Binary_Drone_Audio/yes_drone/mixed_membo_13-membo_003_.wav', 'data/Binary_Drone_Audio/yes_drone/Membo_0_009-membo_003_.wav', 'data/Binary_Drone_Audio/yes_drone/B_S2_D1_106-bebop_003_.wav', 'data/Binary_Drone_Audio/yes_drone/mixed_membo_64-membo_002_.wav', 'data/Binary_Drone_Audio/yes_drone/Membo_1_045-membo_004_.wav', 'data/Binary_Drone_Audio/yes_drone/Membo_2_020-membo_001_.wav', 'data/Binary_Drone_Audio/yes_drone/Membo_0_009-membo_002_.wav', 'data/Binary_Drone_Audio/yes_drone/Membo_1_033-membo_000_.wav', 'data/Binary_Drone_Audio/yes_drone/Membo_0_000-membo_004_.wav', 'data/Binary_Drone_Audio/yes_drone/mixed_63-bebop_003_.wav', 'data/Binary_Drone_Audio/yes_drone/mixed_membo_12-membo_002_.wav', 'data/Binary_Drone_Audio/yes_drone/B_S2_D1_110-bebop_002_.wav', 'data/Binary_Drone_Audio/yes_drone/Membo_1_030-membo_000_.wav', 'data/Binary_Drone_Audio/yes_drone/B_S2_D1_110-bebop_004_.wav', 'data/Binary_Drone_Audio/yes_drone/mixed_membo_46-membo_001_.wav', 'data/Binary_Drone_Audio/yes_drone/Membo_1_047-membo_000_.wav', 'data/Binary_Drone_Audio/yes_drone/Membo_2_011-membo_004_.wav', 'data/Binary_Drone_Audio/yes_drone/mixed_membo_0-membo_004_.wav', 'data/Binary_Drone_Audio/yes_drone/mixed_39-bebop_003_.wav', 'data/Binary_Drone_Audio/yes_drone/B_S2_D1_126-bebop_000_.wav', 'data/Binary_Drone_Audio/yes_drone/mixed_39-bebop_002_.wav', 'data/Binary_Drone_Audio/yes_drone/Membo_1_001-membo_002_.wav', 'data/Binary_Drone_Audio/yes_drone/B_S2_D1_128-bebop_002_.wav', 'data/Binary_Drone_Audio/yes_drone/B_S2_D1_095-bebop_003_.wav', 'data/Binary_Drone_Audio/yes_drone/Membo_1_044-membo_003_.wav', 'data/Binary_Drone_Audio/yes_drone/mixed_membo_3-membo_001_.wav', 'data/Binary_Drone_Audio/yes_drone/mixed_membo_14-membo_001_.wav', 'data/Binary_Drone_Audio/yes_drone/Membo_0_016-membo_003_.wav', 'data/Binary_Drone_Audio/yes_drone/B_S2_D1_113-bebop_004_.wav', 'data/Binary_Drone_Audio/yes_drone/Membo_0_006-membo_001_.wav', 'data/Binary_Drone_Audio/yes_drone/mixed_membo_48-membo_000_.wav', 'data/Binary_Drone_Audio/yes_drone/mixed_10-bebop_002_.wav', 'data/Binary_Drone_Audio/yes_drone/B_S2_D1_077-bebop_002_.wav', 'data/Binary_Drone_Audio/yes_drone/B_S2_D1_098-bebop_003_.wav', 'data/Binary_Drone_Audio/yes_drone/mixed_membo_14-membo_004_.wav', 'data/Binary_Drone_Audio/yes_drone/mixed_membo_59-membo_000_.wav', 'data/Binary_Drone_Audio/yes_drone/Membo_0_009-membo_004_.wav', 'data/Binary_Drone_Audio/yes_drone/mixed_membo_47-membo_003_.wav', 'data/Binary_Drone_Audio/yes_drone/mixed_64-bebop_003_.wav', 'data/Binary_Drone_Audio/yes_drone/B_S2_D1_101-bebop_000_.wav', 'data/Binary_Drone_Audio/yes_drone/B_S2_D1_086-bebop_000_.wav', 'data/Binary_Drone_Audio/yes_drone/B_S2_D1_096-bebop_002_.wav', 'data/Binary_Drone_Audio/yes_drone/mixed_9-bebop_004_.wav', 'data/Binary_Drone_Audio/yes_drone/Membo_0_039-membo_004_.wav', 'data/Binary_Drone_Audio/yes_drone/B_S2_D1_080-bebop_001_.wav', 'data/Binary_Drone_Audio/yes_drone/mixed_membo_2-membo_004_.wav', 'data/Binary_Drone_Audio/yes_drone/Membo_1_000-membo_001_.wav', 'data/Binary_Drone_Audio/yes_drone/Membo_0_017-membo_002_.wav', 'data/Binary_Drone_Audio/yes_drone/B_S2_D1_070-bebop_002_.wav', 'data/Binary_Drone_Audio/yes_drone/mixed_membo_41-membo_000_.wav', 'data/Binary_Drone_Audio/yes_drone/B_S2_D1_084-bebop_002_.wav', 'data/Binary_Drone_Audio/yes_drone/mixed_50-bebop_000_.wav', 'data/Binary_Drone_Audio/yes_drone/mixed_membo_3-membo_004_.wav', 'data/Binary_Drone_Audio/yes_drone/B_S2_D1_125-bebop_003_.wav', 'data/Binary_Drone_Audio/yes_drone/mixed_membo_6-membo_002_.wav', 'data/Binary_Drone_Audio/yes_drone/mixed_59-bebop_000_.wav', 'data/Binary_Drone_Audio/yes_drone/mixed_31-bebop_001_.wav', 'data/Binary_Drone_Audio/yes_drone/Membo_1_048-membo_001_.wav', 'data/Binary_Drone_Audio/yes_drone/B_S2_D1_089-bebop_001_.wav', 'data/Binary_Drone_Audio/yes_drone/Membo_1_041-membo_000_.wav', 'data/Binary_Drone_Audio/yes_drone/B_S2_D1_122-bebop_002_.wav', 'data/Binary_Drone_Audio/yes_drone/Membo_0_001-membo_004_.wav', 'data/Binary_Drone_Audio/yes_drone/B_S2_D1_117-bebop_003_.wav', 'data/Binary_Drone_Audio/yes_drone/mixed_33-bebop_004_.wav', 'data/Binary_Drone_Audio/yes_drone/Membo_1_046-membo_003_.wav', 'data/Binary_Drone_Audio/yes_drone/mixed_58-bebop_000_.wav', 'data/Binary_Drone_Audio/yes_drone/B_S2_D1_080-bebop_003_.wav', 'data/Binary_Drone_Audio/yes_drone/mixed_membo_17-membo_003_.wav', 'data/Binary_Drone_Audio/yes_drone/mixed_membo_56-membo_000_.wav', 'data/Binary_Drone_Audio/yes_drone/mixed_membo_56-membo_004_.wav', 'data/Binary_Drone_Audio/yes_drone/B_S2_D1_074-bebop_001_.wav', 'data/Binary_Drone_Audio/yes_drone/extra_membo_D2_2048.wav', 'data/Binary_Drone_Audio/yes_drone/mixed_66-bebop_002_.wav', 'data/Binary_Drone_Audio/yes_drone/mixed_membo_43-membo_001_.wav', 'data/Binary_Drone_Audio/yes_drone/B_S2_D1_107-bebop_001_.wav', 'data/Binary_Drone_Audio/yes_drone/Membo_0_008-membo_004_.wav', 'data/Binary_Drone_Audio/yes_drone/mixed_membo_33-membo_001_.wav', 'data/Binary_Drone_Audio/yes_drone/B_S2_D1_122-bebop_003_.wav', 'data/Binary_Drone_Audio/yes_drone/mixed_38-bebop_002_.wav', 'data/Binary_Drone_Audio/yes_drone/mixed_23-bebop_003_.wav', 'data/Binary_Drone_Audio/yes_drone/mixed_53-bebop_001_.wav', 'data/Binary_Drone_Audio/yes_drone/Membo_0_012-membo_000_.wav', 'data/Binary_Drone_Audio/yes_drone/Membo_2_013-membo_003_.wav', 'data/Binary_Drone_Audio/yes_drone/mixed_membo_20-membo_001_.wav', 'data/Binary_Drone_Audio/yes_drone/mixed_membo_29-membo_004_.wav', 'data/Binary_Drone_Audio/yes_drone/mixed_5-bebop_003_.wav', 'data/Binary_Drone_Audio/yes_drone/B_S2_D1_113-bebop_000_.wav', 'data/Binary_Drone_Audio/yes_drone/mixed_37-bebop_000_.wav', 'data/Binary_Drone_Audio/yes_drone/mixed_membo_5-membo_004_.wav', 'data/Binary_Drone_Audio/yes_drone/mixed_55-bebop_001_.wav', 'data/Binary_Drone_Audio/yes_drone/mixed_4-bebop_003_.wav', 'data/Binary_Drone_Audio/yes_drone/mixed_membo_57-membo_003_.wav', 'data/Binary_Drone_Audio/yes_drone/mixed_11-bebop_002_.wav', 'data/Binary_Drone_Audio/yes_drone/extra_membo_D2_2024.wav', 'data/Binary_Drone_Audio/yes_drone/B_S2_D1_118-bebop_001_.wav', 'data/Binary_Drone_Audio/yes_drone/mixed_35-bebop_002_.wav', 'data/Binary_Drone_Audio/yes_drone/mixed_membo_23-membo_001_.wav', 'data/Binary_Drone_Audio/yes_drone/mixed_38-bebop_000_.wav', 'data/Binary_Drone_Audio/yes_drone/mixed_63-bebop_000_.wav', 'data/Binary_Drone_Audio/yes_drone/B_S2_D1_099-bebop_003_.wav', 'data/Binary_Drone_Audio/yes_drone/mixed_13-bebop_004_.wav', 'data/Binary_Drone_Audio/yes_drone/mixed_61-bebop_000_.wav', 'data/Binary_Drone_Audio/yes_drone/mixed_membo_19-membo_002_.wav', 'data/Binary_Drone_Audio/yes_drone/mixed_24-bebop_004_.wav', 'data/Binary_Drone_Audio/yes_drone/mixed_62-bebop_002_.wav', 'data/Binary_Drone_Audio/yes_drone/extra_membo_D2_2022.wav', 'data/Binary_Drone_Audio/yes_drone/mixed_membo_47-membo_002_.wav', 'data/Binary_Drone_Audio/yes_drone/mixed_membo_30-membo_003_.wav', 'data/Binary_Drone_Audio/yes_drone/extra_membo_D2_2019.wav', 'data/Binary_Drone_Audio/yes_drone/B_S2_D1_094-bebop_002_.wav', 'data/Binary_Drone_Audio/yes_drone/mixed_58-bebop_002_.wav', 'data/Binary_Drone_Audio/yes_drone/Membo_0_014-membo_004_.wav', 'data/Binary_Drone_Audio/yes_drone/B_S2_D1_076-bebop_002_.wav', 'data/Binary_Drone_Audio/yes_drone/B_S2_D1_090-bebop_003_.wav', 'data/Binary_Drone_Audio/yes_drone/mixed_membo_45-membo_000_.wav', 'data/Binary_Drone_Audio/yes_drone/B_S2_D1_127-bebop_001_.wav', 'data/Binary_Drone_Audio/yes_drone/mixed_membo_45-membo_001_.wav', 'data/Binary_Drone_Audio/yes_drone/mixed_7-bebop_004_.wav', 'data/Binary_Drone_Audio/yes_drone/extra_membo_D2_2055.wav', 'data/Binary_Drone_Audio/yes_drone/mixed_membo_0-membo_000_.wav', 'data/Binary_Drone_Audio/yes_drone/Membo_1_002-membo_004_.wav', 'data/Binary_Drone_Audio/yes_drone/Membo_0_006-membo_004_.wav', 'data/Binary_Drone_Audio/yes_drone/Membo_2_015-membo_003_.wav', 'data/Binary_Drone_Audio/yes_drone/mixed_membo_64-membo_001_.wav', 'data/Binary_Drone_Audio/yes_drone/mixed_membo_10-membo_002_.wav', 'data/Binary_Drone_Audio/yes_drone/B_S2_D1_074-bebop_002_.wav', 'data/Binary_Drone_Audio/yes_drone/mixed_16-bebop_003_.wav', 'data/Binary_Drone_Audio/yes_drone/mixed_membo_53-membo_000_.wav', 'data/Binary_Drone_Audio/yes_drone/mixed_5-bebop_001_.wav', 'data/Binary_Drone_Audio/yes_drone/B_S2_D1_079-bebop_004_.wav', 'data/Binary_Drone_Audio/yes_drone/mixed_25-bebop_000_.wav', 'data/Binary_Drone_Audio/yes_drone/mixed_4-bebop_001_.wav', 'data/Binary_Drone_Audio/yes_drone/mixed_membo_21-membo_004_.wav', 'data/Binary_Drone_Audio/yes_drone/B_S2_D1_091-bebop_000_.wav', 'data/Binary_Drone_Audio/yes_drone/B_S2_D1_097-bebop_000_.wav', 'data/Binary_Drone_Audio/yes_drone/B_S2_D1_127-bebop_000_.wav', 'data/Binary_Drone_Audio/yes_drone/mixed_41-bebop_002_.wav', 'data/Binary_Drone_Audio/yes_drone/mixed_membo_66-membo_000_.wav', 'data/Binary_Drone_Audio/yes_drone/mixed_22-bebop_001_.wav', 'data/Binary_Drone_Audio/yes_drone/B_S2_D1_089-bebop_002_.wav', 'data/Binary_Drone_Audio/yes_drone/extra_membo_D2_2032.wav', 'data/Binary_Drone_Audio/yes_drone/mixed_membo_57-membo_000_.wav', 'data/Binary_Drone_Audio/yes_drone/mixed_membo_23-membo_000_.wav', 'data/Binary_Drone_Audio/yes_drone/B_S2_D1_117-bebop_004_.wav', 'data/Binary_Drone_Audio/yes_drone/B_S2_D1_130-bebop_003_.wav', 'data/Binary_Drone_Audio/yes_drone/mixed_50-bebop_002_.wav', 'data/Binary_Drone_Audio/yes_drone/Membo_0_041-membo_001_.wav', 'data/Binary_Drone_Audio/yes_drone/mixed_52-bebop_002_.wav', 'data/Binary_Drone_Audio/yes_drone/mixed_6-bebop_004_.wav', 'data/Binary_Drone_Audio/yes_drone/mixed_40-bebop_001_.wav', 'data/Binary_Drone_Audio/yes_drone/mixed_membo_23-membo_004_.wav', 'data/Binary_Drone_Audio/yes_drone/Membo_0_005-membo_004_.wav', 'data/Binary_Drone_Audio/yes_drone/mixed_membo_53-membo_001_.wav', 'data/Binary_Drone_Audio/yes_drone/B_S2_D1_121-bebop_001_.wav', 'data/Binary_Drone_Audio/yes_drone/Membo_0_004-membo_000_.wav', 'data/Binary_Drone_Audio/yes_drone/mixed_membo_39-membo_001_.wav', 'data/Binary_Drone_Audio/yes_drone/B_S2_D1_128-bebop_001_.wav', 'data/Binary_Drone_Audio/yes_drone/Membo_1_029-membo_001_.wav', 'data/Binary_Drone_Audio/yes_drone/mixed_membo_12-membo_003_.wav', 'data/Binary_Drone_Audio/yes_drone/Membo_0_037-membo_002_.wav', 'data/Binary_Drone_Audio/yes_drone/mixed_17-bebop_002_.wav', 'data/Binary_Drone_Audio/yes_drone/mixed_46-bebop_004_.wav', 'data/Binary_Drone_Audio/yes_drone/mixed_2-bebop_004_.wav', 'data/Binary_Drone_Audio/yes_drone/mixed_45-bebop_001_.wav', 'data/Binary_Drone_Audio/yes_drone/B_S2_D1_106-bebop_004_.wav', 'data/Binary_Drone_Audio/yes_drone/mixed_21-bebop_004_.wav', 'data/Binary_Drone_Audio/yes_drone/Membo_0_016-membo_001_.wav', 'data/Binary_Drone_Audio/yes_drone/Membo_1_033-membo_004_.wav', 'data/Binary_Drone_Audio/yes_drone/Membo_2_028-membo_001_.wav', 'data/Binary_Drone_Audio/yes_drone/mixed_membo_11-membo_002_.wav', 'data/Binary_Drone_Audio/yes_drone/mixed_membo_20-membo_002_.wav', 'data/Binary_Drone_Audio/yes_drone/mixed_membo_3-membo_000_.wav', 'data/Binary_Drone_Audio/yes_drone/Membo_1_046-membo_000_.wav', 'data/Binary_Drone_Audio/yes_drone/mixed_14-bebop_003_.wav', 'data/Binary_Drone_Audio/yes_drone/Membo_1_032-membo_001_.wav', 'data/Binary_Drone_Audio/yes_drone/mixed_membo_40-membo_002_.wav', 'data/Binary_Drone_Audio/yes_drone/B_S2_D1_090-bebop_001_.wav', 'data/Binary_Drone_Audio/yes_drone/mixed_membo_34-membo_004_.wav', 'data/Binary_Drone_Audio/yes_drone/B_S2_D1_106-bebop_000_.wav', 'data/Binary_Drone_Audio/yes_drone/B_S2_D1_107-bebop_003_.wav', 'data/Binary_Drone_Audio/yes_drone/Membo_1_004-membo_000_.wav', 'data/Binary_Drone_Audio/yes_drone/mixed_membo_61-membo_004_.wav', 'data/Binary_Drone_Audio/yes_drone/B_S2_D1_075-bebop_004_.wav', 'data/Binary_Drone_Audio/yes_drone/mixed_56-bebop_000_.wav', 'data/Binary_Drone_Audio/yes_drone/Membo_2_028-membo_003_.wav', 'data/Binary_Drone_Audio/yes_drone/mixed_63-bebop_004_.wav', 'data/Binary_Drone_Audio/yes_drone/mixed_0-bebop_001_.wav', 'data/Binary_Drone_Audio/yes_drone/B_S2_D1_093-bebop_002_.wav', 'data/Binary_Drone_Audio/yes_drone/mixed_membo_60-membo_004_.wav', 'data/Binary_Drone_Audio/yes_drone/B_S2_D1_116-bebop_003_.wav', 'data/Binary_Drone_Audio/yes_drone/mixed_8-bebop_003_.wav', 'data/Binary_Drone_Audio/yes_drone/mixed_39-bebop_001_.wav', 'data/Binary_Drone_Audio/yes_drone/mixed_12-bebop_003_.wav', 'data/Binary_Drone_Audio/yes_drone/mixed_membo_64-membo_000_.wav', 'data/Binary_Drone_Audio/yes_drone/Membo_1_000-membo_004_.wav', 'data/Binary_Drone_Audio/yes_drone/mixed_membo_54-membo_003_.wav', 'data/Binary_Drone_Audio/yes_drone/mixed_27-bebop_004_.wav', 'data/Binary_Drone_Audio/yes_drone/B_S2_D1_083-bebop_004_.wav', 'data/Binary_Drone_Audio/yes_drone/Membo_1_032-membo_002_.wav', 'data/Binary_Drone_Audio/yes_drone/B_S2_D1_078-bebop_002_.wav', 'data/Binary_Drone_Audio/yes_drone/extra_membo_D2_2018.wav', 'data/Binary_Drone_Audio/yes_drone/mixed_membo_34-membo_003_.wav', 'data/Binary_Drone_Audio/yes_drone/Membo_2_011-membo_002_.wav', 'data/Binary_Drone_Audio/yes_drone/Membo_1_032-membo_004_.wav', 'data/Binary_Drone_Audio/yes_drone/B_S2_D1_124-bebop_004_.wav', 'data/Binary_Drone_Audio/yes_drone/Membo_0_036-membo_002_.wav', 'data/Binary_Drone_Audio/yes_drone/mixed_membo_8-membo_004_.wav', 'data/Binary_Drone_Audio/yes_drone/mixed_21-bebop_000_.wav', 'data/Binary_Drone_Audio/yes_drone/extra_membo_D2_2049.wav', 'data/Binary_Drone_Audio/yes_drone/mixed_19-bebop_001_.wav', 'data/Binary_Drone_Audio/yes_drone/B_S2_D1_112-bebop_001_.wav', 'data/Binary_Drone_Audio/yes_drone/mixed_36-bebop_000_.wav', 'data/Binary_Drone_Audio/yes_drone/mixed_membo_43-membo_002_.wav', 'data/Binary_Drone_Audio/yes_drone/mixed_18-bebop_003_.wav', 'data/Binary_Drone_Audio/yes_drone/Membo_0_008-membo_002_.wav', 'data/Binary_Drone_Audio/yes_drone/mixed_16-bebop_001_.wav', 'data/Binary_Drone_Audio/yes_drone/mixed_membo_28-membo_004_.wav', 'data/Binary_Drone_Audio/yes_drone/B_S2_D1_123-bebop_002_.wav', 'data/Binary_Drone_Audio/yes_drone/Membo_1_043-membo_002_.wav', 'data/Binary_Drone_Audio/yes_drone/mixed_membo_12-membo_000_.wav', 'data/Binary_Drone_Audio/yes_drone/mixed_52-bebop_001_.wav', 'data/Binary_Drone_Audio/yes_drone/B_S2_D1_120-bebop_000_.wav', 'data/Binary_Drone_Audio/yes_drone/mixed_40-bebop_004_.wav', 'data/Binary_Drone_Audio/yes_drone/mixed_15-bebop_003_.wav', 'data/Binary_Drone_Audio/yes_drone/Membo_0_007-membo_004_.wav', 'data/Binary_Drone_Audio/yes_drone/mixed_membo_42-membo_000_.wav', 'data/Binary_Drone_Audio/yes_drone/Membo_1_004-membo_004_.wav', 'data/Binary_Drone_Audio/yes_drone/Membo_1_041-membo_004_.wav', 'data/Binary_Drone_Audio/yes_drone/B_S2_D1_088-bebop_001_.wav', 'data/Binary_Drone_Audio/yes_drone/B_S2_D1_127-bebop_002_.wav', 'data/Binary_Drone_Audio/yes_drone/mixed_membo_50-membo_003_.wav', 'data/Binary_Drone_Audio/yes_drone/mixed_membo_47-membo_001_.wav', 'data/Binary_Drone_Audio/yes_drone/mixed_membo_7-membo_004_.wav', 'data/Binary_Drone_Audio/yes_drone/B_S2_D1_102-bebop_001_.wav', 'data/Binary_Drone_Audio/yes_drone/mixed_membo_42-membo_003_.wav', 'data/Binary_Drone_Audio/yes_drone/B_S2_D1_078-bebop_003_.wav', 'data/Binary_Drone_Audio/yes_drone/mixed_membo_62-membo_001_.wav', 'data/Binary_Drone_Audio/yes_drone/mixed_membo_66-membo_001_.wav', 'data/Binary_Drone_Audio/yes_drone/mixed_25-bebop_004_.wav', 'data/Binary_Drone_Audio/yes_drone/mixed_7-bebop_002_.wav', 'data/Binary_Drone_Audio/yes_drone/Membo_1_031-membo_000_.wav', 'data/Binary_Drone_Audio/yes_drone/Membo_2_015-membo_004_.wav', 'data/Binary_Drone_Audio/yes_drone/mixed_membo_66-membo_004_.wav', 'data/Binary_Drone_Audio/yes_drone/mixed_33-bebop_001_.wav', 'data/Binary_Drone_Audio/yes_drone/B_S2_D1_108-bebop_000_.wav', 'data/Binary_Drone_Audio/yes_drone/Membo_0_001-membo_002_.wav', 'data/Binary_Drone_Audio/yes_drone/mixed_membo_42-membo_002_.wav', 'data/Binary_Drone_Audio/yes_drone/mixed_46-bebop_002_.wav', 'data/Binary_Drone_Audio/yes_drone/extra_membo_D2_2046.wav', 'data/Binary_Drone_Audio/yes_drone/mixed_membo_10-membo_001_.wav', 'data/Binary_Drone_Audio/yes_drone/B_S2_D1_111-bebop_003_.wav', 'data/Binary_Drone_Audio/yes_drone/mixed_0-bebop_004_.wav', 'data/Binary_Drone_Audio/yes_drone/mixed_membo_51-membo_001_.wav', 'data/Binary_Drone_Audio/yes_drone/B_S2_D1_118-bebop_002_.wav', 'data/Binary_Drone_Audio/yes_drone/Membo_2_017-membo_004_.wav', 'data/Binary_Drone_Audio/yes_drone/mixed_39-bebop_000_.wav', 'data/Binary_Drone_Audio/yes_drone/Membo_0_007-membo_001_.wav', 'data/Binary_Drone_Audio/yes_drone/Membo_1_047-membo_003_.wav', 'data/Binary_Drone_Audio/yes_drone/mixed_membo_33-membo_002_.wav', 'data/Binary_Drone_Audio/yes_drone/mixed_30-bebop_004_.wav', 'data/Binary_Drone_Audio/yes_drone/mixed_membo_58-membo_004_.wav', 'data/Binary_Drone_Audio/yes_drone/mixed_membo_59-membo_002_.wav', 'data/Binary_Drone_Audio/yes_drone/mixed_membo_34-membo_000_.wav', 'data/Binary_Drone_Audio/yes_drone/mixed_membo_4-membo_002_.wav', 'data/Binary_Drone_Audio/yes_drone/mixed_27-bebop_003_.wav', 'data/Binary_Drone_Audio/yes_drone/mixed_membo_5-membo_002_.wav', 'data/Binary_Drone_Audio/yes_drone/mixed_membo_28-membo_003_.wav', 'data/Binary_Drone_Audio/yes_drone/mixed_membo_20-membo_004_.wav', 'data/Binary_Drone_Audio/yes_drone/B_S2_D1_111-bebop_004_.wav', 'data/Binary_Drone_Audio/yes_drone/B_S2_D1_088-bebop_004_.wav', 'data/Binary_Drone_Audio/yes_drone/mixed_49-bebop_003_.wav', 'data/Binary_Drone_Audio/yes_drone/mixed_membo_49-membo_001_.wav', 'data/Binary_Drone_Audio/yes_drone/B_S2_D1_129-bebop_004_.wav', 'data/Binary_Drone_Audio/yes_drone/Membo_1_030-membo_003_.wav', 'data/Binary_Drone_Audio/yes_drone/Membo_0_017-membo_000_.wav', 'data/Binary_Drone_Audio/yes_drone/mixed_53-bebop_004_.wav', 'data/Binary_Drone_Audio/yes_drone/Membo_0_036-membo_004_.wav', 'data/Binary_Drone_Audio/yes_drone/Membo_2_011-membo_000_.wav', 'data/Binary_Drone_Audio/yes_drone/mixed_54-bebop_000_.wav', 'data/Binary_Drone_Audio/yes_drone/B_S2_D1_077-bebop_004_.wav', 'data/Binary_Drone_Audio/yes_drone/mixed_29-bebop_003_.wav', 'data/Binary_Drone_Audio/yes_drone/Membo_1_041-membo_002_.wav', 'data/Binary_Drone_Audio/yes_drone/B_S2_D1_097-bebop_001_.wav', 'data/Binary_Drone_Audio/yes_drone/mixed_61-bebop_003_.wav', 'data/Binary_Drone_Audio/yes_drone/mixed_9-bebop_000_.wav', 'data/Binary_Drone_Audio/yes_drone/B_S2_D1_081-bebop_004_.wav', 'data/Binary_Drone_Audio/yes_drone/extra_membo_D2_2036.wav', 'data/Binary_Drone_Audio/yes_drone/B_S2_D1_092-bebop_004_.wav', 'data/Binary_Drone_Audio/yes_drone/mixed_32-bebop_002_.wav', 'data/Binary_Drone_Audio/yes_drone/Membo_2_017-membo_000_.wav', 'data/Binary_Drone_Audio/yes_drone/Membo_1_034-membo_000_.wav', 'data/Binary_Drone_Audio/yes_drone/mixed_membo_57-membo_004_.wav', 'data/Binary_Drone_Audio/yes_drone/mixed_9-bebop_002_.wav', 'data/Binary_Drone_Audio/yes_drone/mixed_membo_59-membo_004_.wav', 'data/Binary_Drone_Audio/yes_drone/extra_membo_D2_2002.wav', 'data/Binary_Drone_Audio/yes_drone/B_S2_D1_090-bebop_004_.wav', 'data/Binary_Drone_Audio/yes_drone/extra_membo_D2_2051.wav', 'data/Binary_Drone_Audio/yes_drone/B_S2_D1_093-bebop_003_.wav', 'data/Binary_Drone_Audio/yes_drone/Membo_1_002-membo_001_.wav', 'data/Binary_Drone_Audio/yes_drone/B_S2_D1_109-bebop_000_.wav', 'data/Binary_Drone_Audio/yes_drone/Membo_1_002-membo_002_.wav', 'data/Binary_Drone_Audio/yes_drone/mixed_38-bebop_004_.wav', 'data/Binary_Drone_Audio/yes_drone/Membo_2_011-membo_001_.wav', 'data/Binary_Drone_Audio/yes_drone/mixed_membo_47-membo_004_.wav', 'data/Binary_Drone_Audio/yes_drone/mixed_57-bebop_001_.wav', 'data/Binary_Drone_Audio/yes_drone/mixed_membo_49-membo_003_.wav', 'data/Binary_Drone_Audio/yes_drone/B_S2_D1_081-bebop_001_.wav', 'data/Binary_Drone_Audio/yes_drone/mixed_membo_3-membo_002_.wav', 'data/Binary_Drone_Audio/yes_drone/mixed_38-bebop_001_.wav', 'data/Binary_Drone_Audio/yes_drone/mixed_61-bebop_004_.wav', 'data/Binary_Drone_Audio/yes_drone/Membo_0_011-membo_003_.wav', 'data/Binary_Drone_Audio/yes_drone/B_S2_D1_068-bebop_003_.wav', 'data/Binary_Drone_Audio/yes_drone/B_S2_D1_072-bebop_000_.wav', 'data/Binary_Drone_Audio/yes_drone/mixed_membo_18-membo_001_.wav', 'data/Binary_Drone_Audio/yes_drone/extra_membo_D2_2044.wav', 'data/Binary_Drone_Audio/yes_drone/mixed_37-bebop_003_.wav', 'data/Binary_Drone_Audio/yes_drone/mixed_membo_27-membo_002_.wav', 'data/Binary_Drone_Audio/yes_drone/mixed_membo_18-membo_000_.wav', 'data/Binary_Drone_Audio/yes_drone/B_S2_D1_108-bebop_001_.wav', 'data/Binary_Drone_Audio/yes_drone/B_S2_D1_079-bebop_002_.wav', 'data/Binary_Drone_Audio/yes_drone/mixed_21-bebop_002_.wav', 'data/Binary_Drone_Audio/yes_drone/mixed_40-bebop_002_.wav', 'data/Binary_Drone_Audio/yes_drone/mixed_59-bebop_001_.wav', 'data/Binary_Drone_Audio/yes_drone/mixed_membo_54-membo_000_.wav', 'data/Binary_Drone_Audio/yes_drone/mixed_56-bebop_004_.wav', 'data/Binary_Drone_Audio/yes_drone/mixed_20-bebop_000_.wav', 'data/Binary_Drone_Audio/yes_drone/mixed_membo_30-membo_000_.wav', 'data/Binary_Drone_Audio/yes_drone/B_S2_D1_072-bebop_001_.wav', 'data/Binary_Drone_Audio/yes_drone/Membo_0_012-membo_004_.wav', 'data/Binary_Drone_Audio/yes_drone/extra_membo_D2_2015.wav', 'data/Binary_Drone_Audio/yes_drone/mixed_12-bebop_001_.wav', 'data/Binary_Drone_Audio/yes_drone/mixed_13-bebop_002_.wav', 'data/Binary_Drone_Audio/yes_drone/mixed_42-bebop_002_.wav', 'data/Binary_Drone_Audio/yes_drone/Membo_0_008-membo_000_.wav']\n"
     ]
    }
   ],
   "source": [
    "import os\n",
    "\n",
    "def list_files_in_directory(directory):\n",
    "    \"\"\"Returns a list of full file paths from a specified directory.\"\"\"\n",
    "    file_paths = [os.path.join(directory, file) for file in os.listdir(directory)\n",
    "                  if os.path.isfile(os.path.join(directory, file))]\n",
    "    return file_paths\n",
    "\n",
    "# Specify the directory\n",
    "directory = 'data/Binary_Drone_Audio/yes_drone'\n",
    "\n",
    "# Get the list of files\n",
    "files = list_files_in_directory(directory)\n",
    "print(files)\n"
   ]
  },
  {
   "cell_type": "code",
   "execution_count": 57,
   "id": "0ae2e5b0",
   "metadata": {},
   "outputs": [],
   "source": [
    "# List of file paths\n",
    "\n",
    "# Create a TensorFlow dataset from the file paths\n",
    "test_ds = tf.data.Dataset.from_tensor_slices(files[3:100])\n",
    "\n",
    "# Apply the function to load and preprocess the audio\n",
    "test_ds = test_ds.map(load_wav_16k_mono)"
   ]
  },
  {
   "cell_type": "code",
   "execution_count": 58,
   "id": "f894f088",
   "metadata": {},
   "outputs": [
    {
     "data": {
      "text/plain": [
       "<MapDataset shapes: <unknown>, types: tf.float32>"
      ]
     },
     "execution_count": 58,
     "metadata": {},
     "output_type": "execute_result"
    }
   ],
   "source": [
    "test_ds"
   ]
  },
  {
   "cell_type": "code",
   "execution_count": 59,
   "id": "18e79042",
   "metadata": {},
   "outputs": [],
   "source": [
    "# Modified extract_embedding function for prediction (no labels needed)\n",
    "def extract_embedding_for_prediction(wav_data):\n",
    "    scores, embeddings, spectrogram = yamnet_model(wav_data)\n",
    "    return embeddings\n",
    "\n",
    "# Apply the function to extract embeddings\n",
    "test_ds = test_ds.map(extract_embedding_for_prediction).unbatch()\n"
   ]
  },
  {
   "cell_type": "code",
   "execution_count": 60,
   "id": "896070d5",
   "metadata": {},
   "outputs": [
    {
     "data": {
      "text/plain": [
       "<_UnbatchDataset shapes: (1024,), types: tf.float32>"
      ]
     },
     "execution_count": 60,
     "metadata": {},
     "output_type": "execute_result"
    }
   ],
   "source": [
    "test_ds"
   ]
  },
  {
   "cell_type": "code",
   "execution_count": 61,
   "id": "6aedd6d7",
   "metadata": {},
   "outputs": [],
   "source": [
    "# Batch the dataset\n",
    "batch_size = 32  # You can adjust the batch size according to your system's capability\n",
    "test_ds = test_ds.batch(batch_size)\n"
   ]
  },
  {
   "cell_type": "code",
   "execution_count": 62,
   "id": "67093ebf",
   "metadata": {},
   "outputs": [
    {
     "data": {
      "text/plain": [
       "<BatchDataset shapes: (None, 1024), types: tf.float32>"
      ]
     },
     "execution_count": 62,
     "metadata": {},
     "output_type": "execute_result"
    }
   ],
   "source": [
    "test_ds"
   ]
  },
  {
   "cell_type": "code",
   "execution_count": 63,
   "id": "fcb191f6",
   "metadata": {},
   "outputs": [],
   "source": [
    "# Make predictions\n",
    "predictions = my_model.predict(test_ds)\n"
   ]
  },
  {
   "cell_type": "code",
   "execution_count": 65,
   "id": "0b221f11",
   "metadata": {},
   "outputs": [],
   "source": [
    "import numpy as np\n",
    "\n",
    "def softmax(x):\n",
    "    e_x = np.exp(x - np.max(x, axis=1, keepdims=True))\n",
    "    return e_x / e_x.sum(axis=1, keepdims=True)\n",
    "\n",
    "# Applying softmax to the predictions array\n",
    "probabilities = softmax(predictions)\n"
   ]
  },
  {
   "cell_type": "code",
   "execution_count": 66,
   "id": "534317d9",
   "metadata": {},
   "outputs": [],
   "source": [
    "predicted_classes = np.argmax(probabilities, axis=1)\n"
   ]
  },
  {
   "cell_type": "code",
   "execution_count": null,
   "id": "c390359f",
   "metadata": {},
   "outputs": [],
   "source": [
    "\n",
    "# Print results\n",
    "print(\"Probabilities:\\n\", probabilities)\n",
    "print(\"Predicted Classes:\", predicted_classes)"
   ]
  },
  {
   "cell_type": "markdown",
   "id": "5be73c77",
   "metadata": {
    "papermill": {
     "duration": 0.047224,
     "end_time": "2023-03-20T16:31:46.571736",
     "exception": false,
     "start_time": "2023-03-20T16:31:46.524512",
     "status": "completed"
    },
    "tags": []
   },
   "source": [
    "## Conclusion\n",
    "\n",
    "Here in this notebook, I've illustrated how [Kaggle models](https://www.kaggle.com/models) can be used to perform audio classification using a pre-trained model, called [yamnet](https://www.kaggle.com/models/google/yamnet), with an accuracy of more than 95%.\n",
    "\n",
    "Now, it's your turn to create some amazing transfer learning notebooks using [Kaggle Models](https://www.kaggle.com/models)\n",
    "\n",
    "## Useful resources which helped \n",
    "* https://www.kaggle.com/models/google/yamnet\n",
    "* https://colab.research.google.com/github/tensorflow/docs/blob/master/site/en/tutorials/audio/transfer_learning_audio.ipynb\n",
    "* https://www.kaggle.com/code/asisheriberto/convert-ogg-to-wav-and-predict/notebook"
   ]
  }
 ],
 "metadata": {
  "kernelspec": {
   "display_name": "firstEnv",
   "language": "python",
   "name": "firstenv"
  },
  "language_info": {
   "codemirror_mode": {
    "name": "ipython",
    "version": 3
   },
   "file_extension": ".py",
   "mimetype": "text/x-python",
   "name": "python",
   "nbconvert_exporter": "python",
   "pygments_lexer": "ipython3",
   "version": "3.9.15"
  },
  "papermill": {
   "default_parameters": {},
   "duration": 223.611383,
   "end_time": "2023-03-20T16:31:49.923245",
   "environment_variables": {},
   "exception": null,
   "input_path": "__notebook__.ipynb",
   "output_path": "__notebook__.ipynb",
   "parameters": {},
   "start_time": "2023-03-20T16:28:06.311862",
   "version": "2.4.0"
  }
 },
 "nbformat": 4,
 "nbformat_minor": 5
}
